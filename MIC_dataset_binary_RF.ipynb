{
 "cells": [
  {
   "cell_type": "code",
   "execution_count": 1,
   "id": "4bc3c4d5",
   "metadata": {},
   "outputs": [],
   "source": [
    "import pandas as pd\n",
    "import numpy as np\n",
    "pd.options.display.max_columns = 999\n",
    "ML_data = pd.read_csv('ML_data.csv')\n",
    "import seaborn as sns\n",
    "sns.set_theme()\n",
    "sns.set_palette(sns.color_palette('Set1'))"
   ]
  },
  {
   "cell_type": "code",
   "execution_count": 2,
   "id": "1df720a7",
   "metadata": {},
   "outputs": [],
   "source": [
    "MIC_ML_data = ML_data.dropna(subset = ['METHOD_MIC'])"
   ]
  },
  {
   "cell_type": "code",
   "execution_count": 8,
   "id": "d5ecd85f",
   "metadata": {},
   "outputs": [],
   "source": [
    "df = MIC_ML_data[['METHOD_MIC','MUT_RESISTANCE','MUTATION','Site1_Distance','d_volume','d_MW',\t\\\n",
    "              'd_hydropathy', 'd_Pi', 'Depth','H','O','T','S','G','E',  \\\n",
    "              'B','I','Tempfactor','Hem_dist','Site2_dist','SNAP2_score']]\n",
    "\n",
    "# creates features numpy array\n",
    "features = MIC_df[MIC_df.columns[2:]].to_numpy()\n",
    "\n",
    "#creates resistance label column\n",
    "label = MIC_df['MUT_RESISTANCE'].to_numpy()"
   ]
  },
  {
   "cell_type": "code",
   "execution_count": 9,
   "id": "2fa11f30",
   "metadata": {},
   "outputs": [],
   "source": [
    "from sklearn.model_selection import train_test_split, KFold, GridSearchCV\n",
    "#split data into training and test sets\n",
    "X_train, X_test, y_train, y_test = train_test_split(features, label,\n",
    "                                                    random_state=0)"
   ]
  },
  {
   "cell_type": "code",
   "execution_count": 10,
   "id": "dd891f1b",
   "metadata": {},
   "outputs": [],
   "source": [
    "# creates features and label dfs from unique mutations\n",
    "def remove_duplicate_mutations(X_dataset, y_dataset):\n",
    "\n",
    "    #converts long X_train and y_train to pd df to join\n",
    "    X_train_df = pd.DataFrame(X_dataset)\n",
    "    X_train_df.rename(columns = {0:'MUTATION'}, inplace = True)\n",
    "    y_train_df = pd.DataFrame(y_dataset)\n",
    "    y_train_df.rename(columns = {0:'MUT_RESISTANCE'}, inplace = True)\n",
    "\n",
    "    CV_train = X_train_df.join(y_train_df,  how = 'inner')\n",
    "\n",
    "    #removes duplicates and mutation column\n",
    "    CV_train_unique = CV_train.drop_duplicates(subset='MUTATION', keep = 'first')\n",
    "    CV_train_unique.drop(['MUTATION'], axis = 1, inplace = True)\n",
    "\n",
    "    #seperates into unique features and label numpy arrays\n",
    "    features_unique = CV_train_unique[CV_train_unique.columns[:-1]].to_numpy()\n",
    "    label_unique = CV_train_unique['MUT_RESISTANCE']\n",
    "\n",
    "    X_no_duplicates = (features_unique)\n",
    "    y_no_duplicates = (label_unique)\n",
    "    \n",
    "    return (X_no_duplicates, y_no_duplicates)"
   ]
  },
  {
   "cell_type": "code",
   "execution_count": 11,
   "id": "ca3048d7",
   "metadata": {},
   "outputs": [
    {
     "name": "stderr",
     "output_type": "stream",
     "text": [
      "C:\\Users\\user\\anaconda3\\lib\\site-packages\\pandas\\core\\frame.py:4906: SettingWithCopyWarning: \n",
      "A value is trying to be set on a copy of a slice from a DataFrame\n",
      "\n",
      "See the caveats in the documentation: https://pandas.pydata.org/pandas-docs/stable/user_guide/indexing.html#returning-a-view-versus-a-copy\n",
      "  return super().drop(\n"
     ]
    }
   ],
   "source": [
    "X_train_nodup, y_train_nodup = remove_duplicate_mutations(X_train, y_train)\n",
    "X_test_nodup, y_test_nodup = remove_duplicate_mutations(X_test, y_test)"
   ]
  },
  {
   "cell_type": "code",
   "execution_count": 12,
   "id": "f8af3ca7",
   "metadata": {},
   "outputs": [],
   "source": [
    "#split data into training and test sets\n",
    "X_train_cv, X_test_cv, y_train_cv, y_test_cv = train_test_split(X_train_nodup, y_train_nodup,\n",
    "                                                    random_state=0, test_size=0.2)"
   ]
  },
  {
   "cell_type": "code",
   "execution_count": 13,
   "id": "16595f81",
   "metadata": {},
   "outputs": [],
   "source": [
    "#no preprocessing - therefore, do not see why I would need a pipeline\n",
    "\n",
    "from sklearn.ensemble import RandomForestClassifier\n",
    "from sklearn.model_selection import train_test_split, KFold, GridSearchCV\n",
    "from sklearn.metrics import accuracy_score, average_precision_score, roc_auc_score\n",
    "\n",
    "forest = RandomForestClassifier(n_jobs=-1, random_state=0)\n",
    "param_grid = {'n_estimators':[10,20,30,40,50,60,100],\n",
    "              'max_depth':[1,2,4,6,8,10], 'max_features': ['auto', 'sqrt'], \\\n",
    "             'min_samples_leaf': [1, 2, 4]}"
   ]
  },
  {
   "cell_type": "code",
   "execution_count": 15,
   "id": "8f03a6c0",
   "metadata": {},
   "outputs": [],
   "source": [
    "# accuracy"
   ]
  },
  {
   "cell_type": "code",
   "execution_count": 16,
   "id": "d85ae2ae",
   "metadata": {},
   "outputs": [
    {
     "name": "stdout",
     "output_type": "stream",
     "text": [
      "grid_kfold_shuffle: best estimator: \n",
      " RandomForestClassifier(max_depth=10, n_estimators=10, n_jobs=-1, random_state=0)\n",
      "grid_kfold_shuffle: best cross-validation score:  0.770766129032258\n",
      "grid_kfold_shuffle: test set average accuracy:  0.725 \n",
      "\n"
     ]
    }
   ],
   "source": [
    "#grid search with shuffled kfold validation\n",
    "KFold_shuffle=KFold(n_splits=5, shuffle=True, random_state=0)\n",
    "grid_kfold_shuffle = GridSearchCV(forest, param_grid, cv=KFold_shuffle)\n",
    "grid_kfold_shuffle.fit(X_train_cv, y_train_cv)\n",
    "print ('grid_kfold_shuffle: best estimator: \\n', grid_kfold_shuffle.best_estimator_)\n",
    "print ('grid_kfold_shuffle: best cross-validation score: ', grid_kfold_shuffle.best_score_)\n",
    "print ('grid_kfold_shuffle: test set average accuracy: ', \n",
    "       accuracy_score(y_test_cv, grid_kfold_shuffle.predict(X_test_cv)), '\\n')"
   ]
  },
  {
   "cell_type": "code",
   "execution_count": 17,
   "id": "b2cb1109",
   "metadata": {},
   "outputs": [],
   "source": [
    "# precision"
   ]
  },
  {
   "cell_type": "code",
   "execution_count": 18,
   "id": "8ee808d3",
   "metadata": {},
   "outputs": [
    {
     "name": "stdout",
     "output_type": "stream",
     "text": [
      "grid_kfold_shuffle: best estimator: \n",
      " RandomForestClassifier(max_depth=10, n_estimators=40, n_jobs=-1, random_state=0)\n",
      "grid_kfold_shuffle: best cross-validation score:  0.7494106048595913\n",
      "grid_kfold_shuffle test set average precision:  0.6684576485892275 \n",
      "\n"
     ]
    }
   ],
   "source": [
    "#grid search with shuffled kfold validation\n",
    "#use predict_proba function to calculate average_precision\n",
    "kfold_shuffle = KFold(n_splits=5, shuffle=True, random_state=0)\n",
    "grid_kfold_shuffle = GridSearchCV(forest, param_grid, cv=kfold_shuffle, scoring='average_precision')\n",
    "grid_kfold_shuffle.fit(X_train_cv, y_train_cv)\n",
    "print ('grid_kfold_shuffle: best estimator: \\n', grid_kfold_shuffle.best_estimator_)\n",
    "print ('grid_kfold_shuffle: best cross-validation score: ', grid_kfold_shuffle.best_score_)                  \n",
    "print ('grid_kfold_shuffle test set average precision: ', \n",
    "       average_precision_score(y_test_cv, grid_kfold_shuffle.predict_proba(X_test_cv)[:,1]), '\\n')"
   ]
  },
  {
   "cell_type": "code",
   "execution_count": 19,
   "id": "26d33a0c",
   "metadata": {},
   "outputs": [],
   "source": [
    "# AUC"
   ]
  },
  {
   "cell_type": "code",
   "execution_count": 20,
   "id": "ecaabcd6",
   "metadata": {},
   "outputs": [
    {
     "name": "stdout",
     "output_type": "stream",
     "text": [
      "grid_kfold_shuffle: best estimator: \n",
      " RandomForestClassifier(max_depth=4, min_samples_leaf=2, n_estimators=40,\n",
      "                       n_jobs=-1, random_state=0)\n",
      "grid_kfold_shuffle: best cross-validation score:  0.7744485545414338\n",
      "grid_kfold_shuffle test set AUC:  0.7173333333333334 \n",
      "\n"
     ]
    }
   ],
   "source": [
    "#grid search with shuffled kfold validation\n",
    "#use predict_prob a function ot calculate ROC AUC\n",
    "\n",
    "kfold_shuffle = KFold(n_splits=5, shuffle=True, random_state=0)\n",
    "grid_kfold_shuffle = GridSearchCV(forest, param_grid, cv=kfold_shuffle, scoring='roc_auc')\n",
    "grid_kfold_shuffle.fit(X_train_cv, y_train_cv)\n",
    "print ('grid_kfold_shuffle: best estimator: \\n', grid_kfold_shuffle.best_estimator_)\n",
    "print ('grid_kfold_shuffle: best cross-validation score: ', grid_kfold_shuffle.best_score_)                  \n",
    "print ('grid_kfold_shuffle test set AUC: ', \n",
    "       roc_auc_score(y_test_cv, grid_kfold_shuffle.predict_proba(X_test_cv)[:,1]), '\\n')"
   ]
  },
  {
   "cell_type": "code",
   "execution_count": 21,
   "id": "a9f5ce0f",
   "metadata": {},
   "outputs": [
    {
     "name": "stdout",
     "output_type": "stream",
     "text": [
      "Precision:  0.7142857142857143\n",
      "Sensitivity:  0.6451612903225806\n",
      "Specificity:  0.8181818181818182\n",
      "FPR : 0.18181818181818177\n",
      "very major error : 18.181818181818183\n",
      "major error:  35.483870967741936\n",
      "\n",
      " confusion matrix: \n",
      " [[36  8]\n",
      " [11 20]]\n"
     ]
    }
   ],
   "source": [
    "\n",
    "#best parameters for AUC\n",
    "\n",
    "from sklearn.metrics import confusion_matrix\n",
    "\n",
    "forest = RandomForestClassifier(max_depth=4, min_samples_leaf=2, n_estimators=40,\n",
    "                       n_jobs=-1, random_state=0)\n",
    "forest.fit(X_train_cv, y_train_cv)\n",
    "predict = forest.predict(X_test_nodup).astype(int)\n",
    "\n",
    "#generate confusion matrix\n",
    "confusion = confusion_matrix(y_test_nodup, predict)\n",
    "\n",
    "#calculate precision, sensitivity, specficity, FPR, errors\n",
    "Precision = (confusion[1][1])/(confusion[1][1]+confusion[0][1])\n",
    "Sensitivity = (confusion[1][1])/(confusion[1][1]+confusion[1][0])\n",
    "Specificity = (confusion[0][0])/(confusion[0][0]+confusion[0][1])\n",
    "FPR = 1-Specificity\n",
    "very_major_error = (confusion[0][1]/y_test_nodup[y_test_nodup==0].count())*100\n",
    "major_error = (confusion[1][0]/y_test_nodup[y_test_nodup==1].count())*100\n",
    "\n",
    "print ('Precision: ', Precision)\n",
    "print ('Sensitivity: ', Sensitivity)\n",
    "print ('Specificity: ', Specificity)\n",
    "print ('FPR :', FPR)\n",
    "print ('very major error :', very_major_error)\n",
    "print ('major error: ', major_error)\n",
    "print ('\\n confusion matrix: \\n', confusion)\n",
    "\n",
    "# begins creates list for model comparison:\n",
    "direct_VME = very_major_error\n",
    "direct_ME = major_error"
   ]
  },
  {
   "cell_type": "code",
   "execution_count": 23,
   "id": "34673929",
   "metadata": {},
   "outputs": [
    {
     "name": "stdout",
     "output_type": "stream",
     "text": [
      "{0: 47, 1: 28}\n"
     ]
    },
    {
     "data": {
      "image/png": "[encoded data removed]",
      "text/plain": [
       "<Figure size 648x648 with 1 Axes>"
      ]
     },
     "metadata": {},
     "output_type": "display_data"
    }
   ],
   "source": [
    "from sklearn import metrics\n",
    "import seaborn as sns\n",
    "import matplotlib.pyplot as plt\n",
    "unique, counts = np.unique(predict, return_counts=True)\n",
    "print(dict(zip(unique, counts)))\n",
    "\n",
    "cm = metrics.confusion_matrix(y_test_nodup, predict)\n",
    "plt.figure(figsize=(9,9))\n",
    "\n",
    "group_names = ['True Resistant','Very major error','Major error','True Susceptible']\n",
    "group_counts = ['{0:0.0f}'.format(value) for value in\n",
    "                cm.flatten()]\n",
    "group_percentages = ['{0:.2%}'.format(value) for value in\n",
    "                     cm.flatten()/np.sum(cm)]\n",
    "labels = [f'{v1}\\n{v2}\\n{v3}' for v1, v2, v3 in\n",
    "          zip(group_names,group_counts,group_percentages)]\n",
    "labels = np.asarray(labels).reshape(2,2)\n",
    "\n",
    "sns.heatmap(cm, annot=labels, fmt='', linewidths=.5, square = True, cmap = 'Blues_r', cbar=False);\n",
    "plt.ylabel('Actual label');\n",
    "plt.xlabel('Predicted label');\n",
    "plt.title('Random Forest - Direct Binary Classification');\n",
    "#plt.savefig('figures/unshifted_direct_matrix_RF.png')"
   ]
  },
  {
   "cell_type": "code",
   "execution_count": 26,
   "id": "a2431c27",
   "metadata": {},
   "outputs": [
    {
     "name": "stderr",
     "output_type": "stream",
     "text": [
      "C:\\Users\\user\\AppData\\Local\\Temp/ipykernel_14784/652921741.py:29: RuntimeWarning: invalid value encountered in double_scalars\n",
      "  grad_change = (m_error_cost / (-1*vm_error_cost))\n",
      "C:\\Users\\user\\AppData\\Local\\Temp/ipykernel_14784/652921741.py:29: RuntimeWarning: invalid value encountered in double_scalars\n",
      "  grad_change = (m_error_cost / (-1*vm_error_cost))\n",
      "C:\\Users\\user\\AppData\\Local\\Temp/ipykernel_14784/652921741.py:29: RuntimeWarning: divide by zero encountered in double_scalars\n",
      "  grad_change = (m_error_cost / (-1*vm_error_cost))\n",
      "C:\\Users\\user\\AppData\\Local\\Temp/ipykernel_14784/652921741.py:29: RuntimeWarning: divide by zero encountered in double_scalars\n",
      "  grad_change = (m_error_cost / (-1*vm_error_cost))\n"
     ]
    },
    {
     "data": {
      "image/png": "[encoded data removed]",
      "text/plain": [
       "<Figure size 432x288 with 1 Axes>"
      ]
     },
     "metadata": {},
     "output_type": "display_data"
    },
    {
     "name": "stdout",
     "output_type": "stream",
     "text": [
      "Optimum threshold to reduce very major error without     increasing major error by more than 1.5x :\n",
      " 0.63\n"
     ]
    }
   ],
   "source": [
    "# graph showing how major and very major error changes with decision threshold\n",
    "\n",
    "threshold  = np.linspace(0.5,1,num = 51)\n",
    "very_major_error = []\n",
    "major_error = []\n",
    "net_error_change = []\n",
    "threshold_shift = []\n",
    "\n",
    "forest = RandomForestClassifier(max_depth=4, min_samples_leaf=2, n_estimators=40,\n",
    "                       n_jobs=-1, random_state=0)\n",
    "forest.fit(X_train_cv, y_train_cv)\n",
    "predicted_proba = forest.predict_proba(X_test_nodup)\n",
    "\n",
    "predict = (predicted_proba[:,1] >= 0.5).astype('int')\n",
    "confusion = confusion_matrix(y_test_nodup, predict)\n",
    "og_very_major_error = ((confusion[0][1]/y_test_nodup[y_test_nodup==0].count())*100)\n",
    "og_major_error = ((confusion[1][0]/y_test_nodup[y_test_nodup==1].count())*100)\n",
    "\n",
    "for i in threshold:\n",
    "    predict = (predicted_proba[:,1] >= i).astype('int')\n",
    "    confusion = confusion_matrix(y_test_nodup, predict)\n",
    "    very_major_error.append((confusion[0][1]/y_test_nodup[y_test_nodup==0].count())*100)\n",
    "    major_error.append((confusion[1][0]/y_test_nodup[y_test_nodup==1].count())*100)\n",
    "\n",
    "    #code to mathematically determine optimum threshold shifting\n",
    "    vm_error_cost = ((confusion[0][1]/y_test_nodup[y_test_nodup==0].count())*100) - og_very_major_error\n",
    "    m_error_cost = ((confusion[1][0]/y_test_nodup[y_test_nodup==1].count())*100) - og_major_error\n",
    "    net_error_change.append(m_error_cost + vm_error_cost)\n",
    "    grad_change = (m_error_cost / (-1*vm_error_cost))\n",
    "    if grad_change <= 1.5:\n",
    "        threshold_shift.append(i)\n",
    "    \n",
    "    \n",
    "    \n",
    "plt.plot(threshold, very_major_error, label = 'very major error')\n",
    "plt.plot(threshold, major_error, label = 'major error')\n",
    "plt.plot(threshold, net_error_change, label = 'Net change in very major error + major error')\n",
    "plt.axvline(x=0.63, ymax=0.35, color ='grey', label = 'Decision Threshold', linestyle ='--')\n",
    "plt.text(0.63,38,'Shifted\\nDecision\\nThreshold\\n(0.63)', horizontalalignment = 'center')\n",
    "plt.ylabel('Score')\n",
    "plt.xlabel('Decision Threshold')\n",
    "plt.legend()\n",
    "plt.title('Random Forest - Changes in error with threshold shifting')\n",
    "#plt.savefig('figures/decision_curve_RF.png')\n",
    "plt.show()\n",
    "\n",
    "if threshold_shift == []:\n",
    "    optimum_thresh = 0.5\n",
    "    print('Shifting does not improve results')\n",
    "else:\n",
    "    optimum_thresh = max(threshold_shift)\n",
    "    print('Optimum threshold to reduce very major error without \\\n",
    "    increasing major error by more than 1.5x :\\n'\\\n",
    "        ,max(threshold_shift))"
   ]
  },
  {
   "cell_type": "code",
   "execution_count": 27,
   "id": "49b7eb99",
   "metadata": {},
   "outputs": [
    {
     "name": "stdout",
     "output_type": "stream",
     "text": [
      "Precision:  0.8\n",
      "Sensitivity:  0.5161290322580645\n",
      "Specificity:  0.9090909090909091\n",
      "FPR : 0.09090909090909094\n",
      "very major error : 9.090909090909092\n",
      "major error:  48.38709677419355\n",
      "\n",
      " confusion_matrix: \n",
      " [[40  4]\n",
      " [15 16]]\n"
     ]
    }
   ],
   "source": [
    "# shift threshold accoriding to data above - optimum theshold to decrease FPR without\n",
    "# increasing major error by more than 1.5 x\n",
    "# = ~0.63\n",
    "\n",
    "\n",
    "# NOTE - shift actually makes the model worse here, there is no change in FPR and a slight increase\n",
    "# in major error\n",
    "\n",
    "forest = RandomForestClassifier(max_depth=4, min_samples_leaf=2, n_estimators=40,\n",
    "                       n_jobs=-1, random_state=0)\n",
    "forest.fit(X_train_cv, y_train_cv)\n",
    "predicted_proba = forest.predict_proba(X_test_nodup)\n",
    "predict = (predicted_proba[:,1] >= optimum_thresh).astype('int')\n",
    "confusion = confusion_matrix(y_test_nodup, predict)\n",
    "\n",
    "Precision = (confusion[1][1])/(confusion[1][1]+confusion[0][1])\n",
    "Sensitivity = (confusion[1][1])/(confusion[1][1]+confusion[1][0])\n",
    "Specificity = (confusion[0][0])/(confusion[0][0]+confusion[0][1])\n",
    "FPR = 1-Specificity\n",
    "very_major_error = (confusion[0][1]/y_test_nodup[y_test_nodup==0].count())*100\n",
    "major_error = (confusion[1][0]/y_test_nodup[y_test_nodup==1].count())*100\n",
    "\n",
    "print ('Precision: ', Precision)\n",
    "print ('Sensitivity: ', Sensitivity)\n",
    "print ('Specificity: ', Specificity)\n",
    "print ('FPR :', FPR)\n",
    "print ('very major error :', very_major_error)\n",
    "print ('major error: ', major_error)\n",
    "\n",
    "print ('\\n confusion_matrix: \\n', confusion)\n",
    "\n",
    "# adds to list for model quality comparison\n",
    "shifted_direct_VME = very_major_error\n",
    "shifted_direct_ME = major_error"
   ]
  },
  {
   "cell_type": "code",
   "execution_count": 28,
   "id": "c6b3aa31",
   "metadata": {},
   "outputs": [
    {
     "name": "stdout",
     "output_type": "stream",
     "text": [
      "{0: 55, 1: 20}\n"
     ]
    },
    {
     "data": {
      "image/png": "[encoded data removed]",
      "text/plain": [
       "<Figure size 648x648 with 1 Axes>"
      ]
     },
     "metadata": {},
     "output_type": "display_data"
    }
   ],
   "source": [
    "from sklearn import metrics\n",
    "import seaborn as sns\n",
    "unique, counts = np.unique(predict, return_counts=True)\n",
    "print(dict(zip(unique, counts)))\n",
    "\n",
    "cm = metrics.confusion_matrix(y_test_nodup, predict)\n",
    "plt.figure(figsize=(9,9))\n",
    "\n",
    "group_names = ['True Resistant','Very major error','Major error','True Susceptible']\n",
    "group_counts = ['{0:0.0f}'.format(value) for value in\n",
    "                cm.flatten()]\n",
    "group_percentages = ['{0:.2%}'.format(value) for value in\n",
    "                     cm.flatten()/np.sum(cm)]\n",
    "labels = [f'{v1}\\n{v2}\\n{v3}' for v1, v2, v3 in\n",
    "          zip(group_names,group_counts,group_percentages)]\n",
    "labels = np.asarray(labels).reshape(2,2)\n",
    "\n",
    "sns.heatmap(cm, annot=labels, fmt='', linewidths=.5, square = True, cmap = 'Blues_r', cbar=False);\n",
    "plt.ylabel('Actual label');\n",
    "plt.xlabel('Predicted label');\n",
    "plt.title('Random Forest - Shifted Direct Binary Classification');\n",
    "#plt.savefig('figures/shifted_direct_matrix_RF.png')"
   ]
  },
  {
   "cell_type": "code",
   "execution_count": null,
   "id": "8027d285",
   "metadata": {},
   "outputs": [],
   "source": []
  }
 ],
 "metadata": {
  "kernelspec": {
   "display_name": "Python 3 (ipykernel)",
   "language": "python",
   "name": "python3"
  },
  "language_info": {
   "codemirror_mode": {
    "name": "ipython",
    "version": 3
   },
   "file_extension": ".py",
   "mimetype": "text/x-python",
   "name": "python",
   "nbconvert_exporter": "python",
   "pygments_lexer": "ipython3",
   "version": "3.8.12"
  }
 },
 "nbformat": 4,
 "nbformat_minor": 5
}
