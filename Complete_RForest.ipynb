{
 "cells": [
  {
   "cell_type": "markdown",
   "id": "418ce683",
   "metadata": {},
   "source": [
    "Direct binary classification with optimum model - Random Forest\n",
    "Used to see how it performs on dataset containing duplicates"
   ]
  },
  {
   "cell_type": "code",
   "execution_count": 1,
   "id": "9a88db11",
   "metadata": {},
   "outputs": [],
   "source": [
    "import pandas as pd\n",
    "import numpy as np\n",
    "pd.options.display.max_columns = 999\n",
    "ML_data = pd.read_csv('ML_data.csv')\n",
    "import seaborn as sns\n",
    "sns.set_theme()\n",
    "sns.set_palette(sns.color_palette('Set1'))"
   ]
  },
  {
   "cell_type": "code",
   "execution_count": 2,
   "id": "811c5ba4",
   "metadata": {},
   "outputs": [],
   "source": [
    "df = ML_data[['METHOD_MIC','MUT_RESISTANCE','MUTATION','Site1_Distance','d_volume','d_MW',\t\\\n",
    "              'd_hydropathy', 'd_Pi', 'Depth','H','O','T','S','G','E',  \\\n",
    "              'B','I','Tempfactor','Hem_dist','Site2_dist','SNAP2_score']]\n",
    "\n",
    "# creates features numpy array\n",
    "features = df[df.columns[3:]].to_numpy()\n",
    "\n",
    "#creates resistance label column\n",
    "label = df['MUT_RESISTANCE'].to_numpy()"
   ]
  },
  {
   "cell_type": "code",
   "execution_count": 3,
   "id": "7c0b1fb5",
   "metadata": {},
   "outputs": [],
   "source": [
    "from sklearn.model_selection import train_test_split, KFold, GridSearchCV\n",
    "#split data into training and test sets\n",
    "X_train, X_test, y_train, y_test = train_test_split(features, label,\n",
    "                                                    random_state=0)"
   ]
  },
  {
   "cell_type": "code",
   "execution_count": 4,
   "id": "5b99355b",
   "metadata": {},
   "outputs": [],
   "source": [
    "#no preprocessing - therefore, do not see why I would need a pipeline\n",
    "\n",
    "from sklearn.ensemble import RandomForestClassifier\n",
    "from sklearn.model_selection import train_test_split, KFold, GridSearchCV\n",
    "from sklearn.metrics import accuracy_score, average_precision_score, roc_auc_score\n",
    "\n",
    "forest = RandomForestClassifier(n_jobs=-1, random_state=0)\n",
    "param_grid = {'n_estimators':[10,20,30,40,50,60,100],\n",
    "              'max_depth':[1,2,4,6,8,10], 'max_features': ['auto', 'sqrt'], \\\n",
    "             'min_samples_leaf': [1, 2, 4]}"
   ]
  },
  {
   "cell_type": "code",
   "execution_count": 9,
   "id": "b4581b31",
   "metadata": {},
   "outputs": [
    {
     "name": "stdout",
     "output_type": "stream",
     "text": [
      "grid_kfold_shuffle: best estimator: \n",
      " RandomForestClassifier(max_depth=10, n_estimators=40, n_jobs=-1, random_state=0)\n",
      "grid_kfold_shuffle: best cross-validation score:  0.9899402612817537\n",
      "grid_kfold_shuffle: test set average accuracy:  0.9917960738353355 \n",
      "\n"
     ]
    }
   ],
   "source": [
    "#grid search with shuffled kfold validation\n",
    "KFold_shuffle=KFold(n_splits=5, shuffle=True, random_state=0)\n",
    "grid_kfold_shuffle = GridSearchCV(forest, param_grid, cv=KFold_shuffle)\n",
    "grid_kfold_shuffle.fit(X_train, y_train)\n",
    "print ('grid_kfold_shuffle: best estimator: \\n', grid_kfold_shuffle.best_estimator_)\n",
    "print ('grid_kfold_shuffle: best cross-validation score: ', grid_kfold_shuffle.best_score_)\n",
    "print ('grid_kfold_shuffle: test set average accuracy: ', \n",
    "       accuracy_score(y_test, grid_kfold_shuffle.predict(X_test)), '\\n')"
   ]
  },
  {
   "cell_type": "code",
   "execution_count": 11,
   "id": "f0855966",
   "metadata": {},
   "outputs": [
    {
     "name": "stdout",
     "output_type": "stream",
     "text": [
      "grid_kfold_shuffle: best estimator: \n",
      " RandomForestClassifier(max_depth=10, n_estimators=50, n_jobs=-1, random_state=0)\n",
      "grid_kfold_shuffle: best cross-validation score:  0.9624927685532475\n",
      "grid_kfold_shuffle test set average precision:  0.9784467660559595 \n",
      "\n"
     ]
    }
   ],
   "source": [
    "#grid search with shuffled kfold validation\n",
    "#use predict_proba function to calculate average_precision\n",
    "kfold_shuffle = KFold(n_splits=5, shuffle=True, random_state=0)\n",
    "grid_kfold_shuffle = GridSearchCV(forest, param_grid, cv=kfold_shuffle, scoring='average_precision')\n",
    "grid_kfold_shuffle.fit(X_train, y_train)\n",
    "print ('grid_kfold_shuffle: best estimator: \\n', grid_kfold_shuffle.best_estimator_)\n",
    "print ('grid_kfold_shuffle: best cross-validation score: ', grid_kfold_shuffle.best_score_)                  \n",
    "print ('grid_kfold_shuffle test set average precision: ', \n",
    "       average_precision_score(y_test, grid_kfold_shuffle.predict_proba(X_test)[:,1]), '\\n')"
   ]
  },
  {
   "cell_type": "code",
   "execution_count": 12,
   "id": "907698b2",
   "metadata": {},
   "outputs": [
    {
     "name": "stdout",
     "output_type": "stream",
     "text": [
      "grid_kfold_shuffle: best estimator: \n",
      " RandomForestClassifier(max_depth=10, n_estimators=50, n_jobs=-1, random_state=0)\n",
      "grid_kfold_shuffle: best cross-validation score:  0.9980750581544802\n",
      "grid_kfold_shuffle test set AUC:  0.9989569968130458 \n",
      "\n"
     ]
    }
   ],
   "source": [
    "#grid search with shuffled kfold validation\n",
    "#use predict_prob a function ot calculate ROC AUC\n",
    "\n",
    "kfold_shuffle = KFold(n_splits=5, shuffle=True, random_state=0)\n",
    "grid_kfold_shuffle = GridSearchCV(forest, param_grid, cv=kfold_shuffle, scoring='roc_auc')\n",
    "grid_kfold_shuffle.fit(X_train, y_train)\n",
    "print ('grid_kfold_shuffle: best estimator: \\n', grid_kfold_shuffle.best_estimator_)\n",
    "print ('grid_kfold_shuffle: best cross-validation score: ', grid_kfold_shuffle.best_score_)                  \n",
    "print ('grid_kfold_shuffle test set AUC: ', \n",
    "       roc_auc_score(y_test, grid_kfold_shuffle.predict_proba(X_test)[:,1]), '\\n')"
   ]
  },
  {
   "cell_type": "code",
   "execution_count": 5,
   "id": "4b3bb9df",
   "metadata": {},
   "outputs": [
    {
     "name": "stdout",
     "output_type": "stream",
     "text": [
      "Precision:  0.9428571428571428\n",
      "Sensitivity:  0.8918918918918919\n",
      "Specificity:  0.9975497702909648\n",
      "FPR : 0.00245022970903519\n",
      "very major error : 0.2450229709035222\n",
      "major error:  10.81081081081081\n",
      "\n",
      " confusion matrix: \n",
      " [[3257    8]\n",
      " [  16  132]]\n"
     ]
    }
   ],
   "source": [
    "# confusion matrix (max_depth=8)\n",
    "#best parameters for average precision\n",
    "\n",
    "from sklearn.metrics import confusion_matrix\n",
    "\n",
    "forest = RandomForestClassifier(max_depth=10, n_estimators=50, n_jobs=-1, random_state=0)\n",
    "forest.fit(X_train, y_train)\n",
    "predict = forest.predict(X_test).astype(int)\n",
    "\n",
    "#generate confusion matrix\n",
    "confusion = confusion_matrix(y_test, predict)\n",
    "\n",
    "#calculate precision, sensitivity, specficity, FPR, errors\n",
    "Precision = (confusion[1][1])/(confusion[1][1]+confusion[0][1])\n",
    "Sensitivity = (confusion[1][1])/(confusion[1][1]+confusion[1][0])\n",
    "Specificity = (confusion[0][0])/(confusion[0][0]+confusion[0][1])\n",
    "FPR = 1-Specificity\n",
    "very_major_error = (confusion[0][1]/len(y_test[y_test==0]))*100\n",
    "major_error = (confusion[1][0]/len(y_test[y_test==1]))*100\n",
    "\n",
    "print ('Precision: ', Precision)\n",
    "print ('Sensitivity: ', Sensitivity)\n",
    "print ('Specificity: ', Specificity)\n",
    "print ('FPR :', FPR)\n",
    "print ('very major error :', very_major_error)\n",
    "print ('major error: ', major_error)\n",
    "print ('\\n confusion matrix: \\n', confusion)\n",
    "\n",
    "# begins creates list for model comparison:\n",
    "direct_VME = very_major_error\n",
    "direct_ME = major_error"
   ]
  },
  {
   "cell_type": "code",
   "execution_count": 7,
   "id": "4aacccb7",
   "metadata": {},
   "outputs": [
    {
     "name": "stdout",
     "output_type": "stream",
     "text": [
      "{0: 3273, 1: 140}\n"
     ]
    },
    {
     "data": {
      "image/png": "[encoded data removed]",
      "text/plain": [
       "<Figure size 648x648 with 1 Axes>"
      ]
     },
     "metadata": {},
     "output_type": "display_data"
    }
   ],
   "source": [
    "from sklearn import metrics\n",
    "import seaborn as sns\n",
    "import matplotlib.pyplot as plt\n",
    "\n",
    "unique, counts = np.unique(predict, return_counts=True)\n",
    "print(dict(zip(unique, counts)))\n",
    "\n",
    "cm = metrics.confusion_matrix(y_test, predict)\n",
    "plt.figure(figsize=(9,9))\n",
    "\n",
    "group_names = ['True Resistant','Very major error','Major error','True Susceptible']\n",
    "group_counts = ['{0:0.0f}'.format(value) for value in\n",
    "                cm.flatten()]\n",
    "group_percentages = ['{0:.2%}'.format(value) for value in\n",
    "                     cm.flatten()/np.sum(cm)]\n",
    "labels = [f'{v1}\\n{v2}\\n{v3}' for v1, v2, v3 in\n",
    "          zip(group_names,group_counts,group_percentages)]\n",
    "labels = np.asarray(labels).reshape(2,2)\n",
    "\n",
    "sns.heatmap(cm, annot=labels, fmt='', linewidths=.5, square = True, cmap = 'Blues_r', cbar=False);\n",
    "plt.ylabel('Actual label');\n",
    "plt.xlabel('Predicted label');\n",
    "plt.title('Random Forest - Direct Binary Classification (Full Dataset)');\n",
    "plt.savefig('figures/full_dataset_matrix_RF.png')"
   ]
  },
  {
   "cell_type": "code",
   "execution_count": 29,
   "id": "dff20268",
   "metadata": {},
   "outputs": [
    {
     "name": "stderr",
     "output_type": "stream",
     "text": [
      "C:\\Users\\user\\AppData\\Local\\Temp/ipykernel_16952/2662661847.py:28: RuntimeWarning: invalid value encountered in double_scalars\n",
      "  grad_change = (m_error_cost / (-1*vm_error_cost))\n",
      "C:\\Users\\user\\AppData\\Local\\Temp/ipykernel_16952/2662661847.py:28: RuntimeWarning: divide by zero encountered in double_scalars\n",
      "  grad_change = (m_error_cost / (-1*vm_error_cost))\n",
      "C:\\Users\\user\\AppData\\Local\\Temp/ipykernel_16952/2662661847.py:28: RuntimeWarning: divide by zero encountered in double_scalars\n",
      "  grad_change = (m_error_cost / (-1*vm_error_cost))\n",
      "C:\\Users\\user\\AppData\\Local\\Temp/ipykernel_16952/2662661847.py:28: RuntimeWarning: divide by zero encountered in double_scalars\n",
      "  grad_change = (m_error_cost / (-1*vm_error_cost))\n"
     ]
    },
    {
     "data": {
      "image/png": "[encoded data removed]",
      "text/plain": [
       "<Figure size 432x288 with 1 Axes>"
      ]
     },
     "metadata": {},
     "output_type": "display_data"
    },
    {
     "name": "stdout",
     "output_type": "stream",
     "text": [
      "Optimum threshold to reduce very major error without     increasing major error by more than 1.5x :\n",
      " 0.53\n"
     ]
    }
   ],
   "source": [
    "# graph showing how major and very major error changes with decision threshold\n",
    "import matplotlib.pyplot as plt\n",
    "threshold  = np.linspace(0.5,1,num = 51)\n",
    "very_major_error = []\n",
    "major_error = []\n",
    "net_error_change = []\n",
    "threshold_shift = []\n",
    "\n",
    "forest = RandomForestClassifier(max_depth=10, n_estimators=50, n_jobs=-1, random_state=0)\n",
    "forest.fit(X_train, y_train)\n",
    "predicted_proba = forest.predict_proba(X_test)\n",
    "\n",
    "predict = (predicted_proba[:,1] >= 0.5).astype('int')\n",
    "confusion = confusion_matrix(y_test, predict)\n",
    "og_very_major_error = ((confusion[0][1]/len(y_test[y_test==0]))*100)\n",
    "og_major_error = ((confusion[1][0]/len(y_test[y_test==1]))*100)\n",
    "\n",
    "for i in threshold:\n",
    "    predict = (predicted_proba[:,1] >= i).astype('int')\n",
    "    confusion = confusion_matrix(y_test, predict)\n",
    "    very_major_error.append((confusion[0][1]/len(y_test[y_test==0]))*100)\n",
    "    major_error.append((confusion[1][0]/len(y_test[y_test==1]))*100)\n",
    "\n",
    "    #code to mathematically determine optimum threshold shifting\n",
    "    vm_error_cost = ((confusion[0][1]/len(y_test[y_test==0]))*100) - og_very_major_error\n",
    "    m_error_cost = ((confusion[1][0]/len(y_test[y_test==1]))*100) - og_major_error\n",
    "    net_error_change.append(m_error_cost + vm_error_cost)\n",
    "    grad_change = (m_error_cost / (-1*vm_error_cost))\n",
    "    if grad_change <= 1.5:\n",
    "        threshold_shift.append(i)\n",
    "    \n",
    "    \n",
    "    \n",
    "plt.plot(threshold, very_major_error, label = 'very major error')\n",
    "plt.plot(threshold, major_error, label = 'major error')\n",
    "plt.plot(threshold, net_error_change, label = 'Net change in very major error + major error')\n",
    "\n",
    "plt.ylabel('Score')\n",
    "plt.xlabel('Decision Threshold')\n",
    "plt.legend()\n",
    "plt.show()\n",
    "\n",
    "if threshold_shift == []:\n",
    "    optimum_thresh = 0.5\n",
    "    print('Shifting does not improve results')\n",
    "else:\n",
    "    optimum_thresh = max(threshold_shift)\n",
    "    print('Optimum threshold to reduce very major error without \\\n",
    "    increasing major error by more than 1.5x :\\n'\\\n",
    "        ,max(threshold_shift))"
   ]
  },
  {
   "cell_type": "code",
   "execution_count": 30,
   "id": "8f06e2c7",
   "metadata": {},
   "outputs": [
    {
     "name": "stdout",
     "output_type": "stream",
     "text": [
      "Precision:  0.9402985074626866\n",
      "Sensitivity:  0.8513513513513513\n",
      "Specificity:  0.9975497702909648\n",
      "FPR : 0.00245022970903519\n",
      "very major error : 0.2450229709035222\n",
      "major error:  14.864864864864865\n",
      "\n",
      " confusion_matrix: \n",
      " [[3257    8]\n",
      " [  22  126]]\n"
     ]
    }
   ],
   "source": [
    "# shift threshold accoriding to data above - optimum theshold to decrease FPR without\n",
    "# increasing major error by more than 1.5 x\n",
    "# = ~0.53\n",
    "\n",
    "\n",
    "# NOTE - shift actually makes the model worse here, there is no change in FPR and a slight increase\n",
    "# in major error\n",
    "\n",
    "forest = RandomForestClassifier(max_depth=8, n_jobs=-1, random_state=0)\n",
    "forest.fit(X_train, y_train)\n",
    "predicted_proba = forest.predict_proba(X_test)\n",
    "predict = (predicted_proba[:,1] >= optimum_thresh).astype('int')\n",
    "confusion = confusion_matrix(y_test, predict)\n",
    "\n",
    "Precision = (confusion[1][1])/(confusion[1][1]+confusion[0][1])\n",
    "Sensitivity = (confusion[1][1])/(confusion[1][1]+confusion[1][0])\n",
    "Specificity = (confusion[0][0])/(confusion[0][0]+confusion[0][1])\n",
    "FPR = 1-Specificity\n",
    "very_major_error = (confusion[0][1]/len(y_test[y_test==0]))*100\n",
    "major_error = (confusion[1][0]/len(y_test[y_test==1]))*100\n",
    "\n",
    "print ('Precision: ', Precision)\n",
    "print ('Sensitivity: ', Sensitivity)\n",
    "print ('Specificity: ', Specificity)\n",
    "print ('FPR :', FPR)\n",
    "print ('very major error :', very_major_error)\n",
    "print ('major error: ', major_error)\n",
    "\n",
    "print ('\\n confusion_matrix: \\n', confusion)"
   ]
  },
  {
   "cell_type": "markdown",
   "id": "d4355178",
   "metadata": {},
   "source": [
    "Model without shifting is best"
   ]
  },
  {
   "cell_type": "markdown",
   "id": "c693616e",
   "metadata": {},
   "source": [
    "Has excpetional very major error and low major error - better than all other models"
   ]
  },
  {
   "cell_type": "markdown",
   "id": "89e442e4",
   "metadata": {},
   "source": [
    "But, this is influenced by the extremely high rate of S315T (3100/3400 in test set)"
   ]
  },
  {
   "cell_type": "code",
   "execution_count": null,
   "id": "0b74d925",
   "metadata": {},
   "outputs": [],
   "source": []
  }
 ],
 "metadata": {
  "kernelspec": {
   "display_name": "Python 3 (ipykernel)",
   "language": "python",
   "name": "python3"
  },
  "language_info": {
   "codemirror_mode": {
    "name": "ipython",
    "version": 3
   },
   "file_extension": ".py",
   "mimetype": "text/x-python",
   "name": "python",
   "nbconvert_exporter": "python",
   "pygments_lexer": "ipython3",
   "version": "3.8.12"
  }
 },
 "nbformat": 4,
 "nbformat_minor": 5
}
