{
 "cells": [
  {
   "cell_type": "code",
   "execution_count": 1,
   "id": "15c5470d",
   "metadata": {},
   "outputs": [],
   "source": [
    "import pandas as pd\n",
    "import numpy as np\n",
    "pd.options.display.max_columns = 999\n",
    "ML_data = pd.read_csv('ML_data.csv')\n",
    "import seaborn as sns\n",
    "sns.set_theme()\n",
    "sns.set_palette(sns.color_palette('Set1'))"
   ]
  },
  {
   "cell_type": "markdown",
   "id": "fa6e2a32",
   "metadata": {},
   "source": [
    "Direct binary classification"
   ]
  },
  {
   "cell_type": "markdown",
   "id": "9e2eea01",
   "metadata": {},
   "source": [
    "1. Seperate the dataframe into a features and label dataset\n",
    "2. Break datasets down into training and test sets containing only unique mutations\n",
    "3. Establish pipeline and parameter grid for LinearSVC and grid search\n",
    "4. Grid search with shuffled k fold cross validation to find best preprocessing and parameters for ACCURACY\n",
    "5. Grid search with shuffled k fold cross validation to find best preprocessing and parameters for AVERAGE PRECISION\n",
    "6. Grid search with shuffled k fold cross validation to find best preprocessing and parameters for AREA UNDER ROC CURVE\n",
    "7. Precision-recall curve with best preprocessing and parameters for PRECISION\n",
    "8. ROC curve with best preprocessing and parameters for AREA UNDER ROC CURVE\n",
    "9. Use curves to determine if precision can be increased and FPR can be reduced\n",
    "10. Produce confusion matrix with best parameters for precision or area under ROC curve (whichever gave best CV score)\n",
    "11. Shift decision threshold to improve precision and FPR - reducing instances where resistant cases are predicted to be susceptible"
   ]
  },
  {
   "cell_type": "markdown",
   "id": "02e7044d",
   "metadata": {},
   "source": [
    "1. Seperate the dataframe into a features and label dataset "
   ]
  },
  {
   "cell_type": "code",
   "execution_count": 2,
   "id": "c3ab0a1b",
   "metadata": {},
   "outputs": [],
   "source": [
    "df = ML_data[['METHOD_MIC','MUT_RESISTANCE','MUTATION','Site1_Distance','d_volume','d_MW',\t\\\n",
    "              'd_hydropathy', 'd_Pi', 'Depth','H','O','T','S','G','E',  \\\n",
    "              'B','I','Tempfactor','Hem_dist','Site2_dist','SNAP2_score']]\n",
    "\n",
    "# creates features numpy array\n",
    "features = df[df.columns[2:]].to_numpy()\n",
    "\n",
    "#creates resistance label column\n",
    "label = df['MUT_RESISTANCE'].to_numpy()"
   ]
  },
  {
   "cell_type": "markdown",
   "id": "d8c444d0",
   "metadata": {},
   "source": [
    "2. Break datasets down into training and test sets containing only unique mutations\n",
    "- Also have a smaller test set to be used for cross-validaiton which comes from the training set"
   ]
  },
  {
   "cell_type": "code",
   "execution_count": 3,
   "id": "a7451247",
   "metadata": {},
   "outputs": [],
   "source": [
    "#split data into training and test sets\n",
    "from sklearn.model_selection import train_test_split, KFold, GridSearchCV\n",
    "\n",
    "X_train, X_test, y_train, y_test = train_test_split(features, label,\n",
    "                                                    random_state=0)"
   ]
  },
  {
   "cell_type": "code",
   "execution_count": 4,
   "id": "0efd8733",
   "metadata": {},
   "outputs": [],
   "source": [
    "# creates features and label dfs from unique mutations\n",
    "def remove_duplicate_mutations(X_dataset, y_dataset):\n",
    "\n",
    "    #converts long X_train and y_train to pd df to join\n",
    "    X_train_df = pd.DataFrame(X_dataset)\n",
    "    X_train_df.rename(columns = {0:'MUTATION'}, inplace = True)\n",
    "    y_train_df = pd.DataFrame(y_dataset)\n",
    "    y_train_df.rename(columns = {0:'MUT_RESISTANCE'}, inplace = True)\n",
    "\n",
    "    CV_train = X_train_df.join(y_train_df,  how = 'inner')\n",
    "\n",
    "    #removes duplicates and mutation column\n",
    "    CV_train_unique = CV_train.drop_duplicates(subset='MUTATION', keep = 'first')\n",
    "    CV_train_unique.drop(['MUTATION'], axis = 1, inplace = True)\n",
    "\n",
    "    #seperates into unique features and label numpy arrays\n",
    "    features_unique = CV_train_unique[CV_train_unique.columns[:-1]].to_numpy()\n",
    "    label_unique = CV_train_unique['MUT_RESISTANCE']\n",
    "\n",
    "    X_no_duplicates = (features_unique)\n",
    "    y_no_duplicates = (label_unique)\n",
    "    \n",
    "    return (X_no_duplicates, y_no_duplicates)"
   ]
  },
  {
   "cell_type": "code",
   "execution_count": 5,
   "id": "6c4a358d",
   "metadata": {},
   "outputs": [
    {
     "name": "stderr",
     "output_type": "stream",
     "text": [
      "C:\\Users\\user\\anaconda3\\lib\\site-packages\\pandas\\core\\frame.py:4906: SettingWithCopyWarning: \n",
      "A value is trying to be set on a copy of a slice from a DataFrame\n",
      "\n",
      "See the caveats in the documentation: https://pandas.pydata.org/pandas-docs/stable/user_guide/indexing.html#returning-a-view-versus-a-copy\n",
      "  return super().drop(\n"
     ]
    }
   ],
   "source": [
    "X_train_nodup, y_train_nodup = remove_duplicate_mutations(X_train, y_train)\n",
    "X_test_nodup, y_test_nodup = remove_duplicate_mutations(X_test, y_test)"
   ]
  },
  {
   "cell_type": "code",
   "execution_count": 6,
   "id": "ea5f3867",
   "metadata": {},
   "outputs": [],
   "source": [
    "#split data into training and test sets\n",
    "X_train_cv, X_test_cv, y_train_cv, y_test_cv = train_test_split(X_train_nodup, y_train_nodup,\n",
    "                                                    random_state=0, test_size=0.2)"
   ]
  },
  {
   "cell_type": "markdown",
   "id": "d6e2bcd4",
   "metadata": {},
   "source": [
    "3. Establish pipeline and parameter grid for LinearSVC and grid search"
   ]
  },
  {
   "cell_type": "code",
   "execution_count": 7,
   "id": "75ad9b75",
   "metadata": {},
   "outputs": [],
   "source": [
    "from sklearn.svm import LinearSVC\n",
    "from sklearn.preprocessing import MinMaxScaler, StandardScaler, RobustScaler\n",
    "from sklearn.pipeline import Pipeline\n",
    "from sklearn.metrics import accuracy_score, average_precision_score, roc_auc_score\n",
    "\n",
    "#create linear svc pipeline with preprocessing\n",
    "pipe = Pipeline([('preprocessing', StandardScaler()),\\\n",
    "                 ('classifier', LinearSVC(max_iter=100000, dual=False))])\n",
    "#create parameter grid with differnt preprocessing and classification parameters\n",
    "param_grid = {'preprocessing':[StandardScaler(), MinMaxScaler(), RobustScaler(), None],\n",
    "              'classifier__C': [0.01, 0.1, 1, 10, 100]}\n"
   ]
  },
  {
   "cell_type": "markdown",
   "id": "a5319db6",
   "metadata": {},
   "source": [
    "4. Grid search with shuffled k fold cross validation to find best preprocessing and parameters for ACCURACY"
   ]
  },
  {
   "cell_type": "code",
   "execution_count": 8,
   "id": "5dcf0a0e",
   "metadata": {},
   "outputs": [
    {
     "name": "stdout",
     "output_type": "stream",
     "text": [
      "grid_kfold_shuffle: best estimator: \n",
      " Pipeline(steps=[('preprocessing', StandardScaler()),\n",
      "                ('classifier', LinearSVC(C=0.01, dual=False, max_iter=100000))])\n",
      "grid_kfold_shuffle: best cross-validation score:  0.7044520547945206\n",
      "grid_kfold_shuffle: test set average accuracy:  0.7582417582417582 \n",
      "\n"
     ]
    }
   ],
   "source": [
    "#grid search with shuffled k fold cross validation\n",
    "Kfold_shuffle=KFold(n_splits=5, shuffle=True, random_state=0)\n",
    "grid_kfold_shuffle = GridSearchCV(pipe, param_grid, cv=Kfold_shuffle)\n",
    "grid_kfold_shuffle.fit(X_train_cv, y_train_cv)\n",
    "print ('grid_kfold_shuffle: best estimator: \\n', grid_kfold_shuffle.best_estimator_)\n",
    "print ('grid_kfold_shuffle: best cross-validation score: ', grid_kfold_shuffle.best_score_)\n",
    "print ('grid_kfold_shuffle: test set average accuracy: ', \n",
    "       accuracy_score(y_test_cv, grid_kfold_shuffle.predict(X_test_cv)), '\\n')"
   ]
  },
  {
   "cell_type": "markdown",
   "id": "a092b0f4",
   "metadata": {},
   "source": [
    "5. Grid search with shuffled k fold cross validation to find best preprocessing and parameters for AVERAGE PRECISION"
   ]
  },
  {
   "cell_type": "code",
   "execution_count": 9,
   "id": "ec53272e",
   "metadata": {},
   "outputs": [
    {
     "name": "stdout",
     "output_type": "stream",
     "text": [
      "grid_kfold_shuffle: best estimator: \n",
      " Pipeline(steps=[('preprocessing', MinMaxScaler()),\n",
      "                ('classifier', LinearSVC(C=10, dual=False, max_iter=100000))])\n",
      "grid_kfold_shuffle: best cross-validation score:  0.7453926160642108\n",
      "grid_kfold_shuffle test set average precision:  0.8391497038947539 \n",
      "\n"
     ]
    }
   ],
   "source": [
    "#Grid search with with shuffled kfold cross validation\n",
    "#use decision function to calculate average_precision\n",
    "kfold_shuffle = KFold(n_splits=5, shuffle=True, random_state=0)\n",
    "grid_kfold_shuffle = GridSearchCV(pipe, param_grid, cv=kfold_shuffle, scoring='average_precision')\n",
    "grid_kfold_shuffle.fit(X_train_cv, y_train_cv)\n",
    "print ('grid_kfold_shuffle: best estimator: \\n', grid_kfold_shuffle.best_estimator_)\n",
    "print ('grid_kfold_shuffle: best cross-validation score: ', grid_kfold_shuffle.best_score_)                  \n",
    "print ('grid_kfold_shuffle test set average precision: ', \n",
    "       average_precision_score(y_test_cv, grid_kfold_shuffle.decision_function(X_test_cv)), '\\n')"
   ]
  },
  {
   "cell_type": "markdown",
   "id": "bbac0a32",
   "metadata": {},
   "source": [
    "6. Grid search with shuffled k fold cross validation to find best preprocessing and parameters for AREA UNDER ROC CURVE"
   ]
  },
  {
   "cell_type": "code",
   "execution_count": 10,
   "id": "a5981873",
   "metadata": {},
   "outputs": [
    {
     "name": "stdout",
     "output_type": "stream",
     "text": [
      "grid_kfold_shuffle: best estimator: \n",
      " Pipeline(steps=[('preprocessing', StandardScaler()),\n",
      "                ('classifier', LinearSVC(C=0.1, dual=False, max_iter=100000))])\n",
      "grid_kfold_shuffle: best cross-validation score:  0.7514574665451859\n",
      "grid_kfold_shuffle test set AUC:  0.8444444444444443 \n",
      "\n"
     ]
    }
   ],
   "source": [
    "#Grid search with with shuffled kfold cross validation\n",
    "#use decision function to calculate AUC\n",
    "kfold_shuffle = KFold(n_splits=5, shuffle=True, random_state=0)\n",
    "grid_kfold_shuffle = GridSearchCV(pipe, param_grid, cv=kfold_shuffle, scoring='roc_auc')\n",
    "grid_kfold_shuffle.fit(X_train_cv, y_train_cv)\n",
    "print ('grid_kfold_shuffle: best estimator: \\n', grid_kfold_shuffle.best_estimator_)\n",
    "print ('grid_kfold_shuffle: best cross-validation score: ', grid_kfold_shuffle.best_score_)                  \n",
    "print ('grid_kfold_shuffle test set AUC: ', \n",
    "       roc_auc_score(y_test_cv, grid_kfold_shuffle.decision_function(X_test_cv)), '\\n')"
   ]
  },
  {
   "cell_type": "markdown",
   "id": "20dd1057",
   "metadata": {},
   "source": [
    "7. Precision-recall curve with best preprocessing and parameters for PRECISION"
   ]
  },
  {
   "cell_type": "code",
   "execution_count": 11,
   "id": "6d2f59be",
   "metadata": {},
   "outputs": [
    {
     "data": {
      "text/plain": [
       "Text(0.5, 1.0, 'precision-recall curve for linearSVC (MinMaxScaler(), c=10)')"
      ]
     },
     "execution_count": 11,
     "metadata": {},
     "output_type": "execute_result"
    },
    {
     "data": {
      "image/png": "[encoded data removed]",
      "text/plain": [
       "<Figure size 432x288 with 1 Axes>"
      ]
     },
     "metadata": {},
     "output_type": "display_data"
    }
   ],
   "source": [
    "#use best preprocessing (MinMaxScaler()) and parameters (c=10) for av. precision\n",
    "from sklearn.metrics import precision_recall_curve\n",
    "from matplotlib import pyplot as plt\n",
    "import numpy as np\n",
    "\n",
    "pipe = Pipeline([('preprocessing', MinMaxScaler()), \n",
    "                 ('classifier', LinearSVC(C=10, max_iter=100000, dual=False))])\n",
    "\n",
    "pipe.fit(X_train_cv, y_train_cv)\n",
    "\n",
    "predict = (pipe.decision_function(X_test_nodup))\n",
    "\n",
    "precision, recall, thresholds = precision_recall_curve(y_test_nodup, predict)\n",
    "\n",
    "plt.plot(precision, recall, label='LinearSVC')\n",
    "close_zero = np.argmin(np.abs(thresholds))\n",
    "plt.plot(precision[close_zero], recall[close_zero], '^', c='k', \n",
    "          markersize=10, label='threshold zero ', fillstyle='none', mew=2)\n",
    "plt.xlabel('precision')\n",
    "plt.ylabel('recall')\n",
    "plt.legend(loc='best')\n",
    "plt.title('precision-recall curve for linearSVC (MinMaxScaler(), c=10)')"
   ]
  },
  {
   "cell_type": "markdown",
   "id": "671031e4",
   "metadata": {},
   "source": [
    "8. ROC\n",
    "curve with best preprocessing and parameters for AREA UNDER ROC CURVE"
   ]
  },
  {
   "cell_type": "code",
   "execution_count": 12,
   "id": "de79aacc",
   "metadata": {},
   "outputs": [
    {
     "data": {
      "text/plain": [
       "Text(0.5, 1.0, 'ROC curve for linearSVC (StandardScaler(), C=0.1)')"
      ]
     },
     "execution_count": 12,
     "metadata": {},
     "output_type": "execute_result"
    },
    {
     "data": {
      "image/png": "[encoded data removed]",
      "text/plain": [
       "<Figure size 432x288 with 1 Axes>"
      ]
     },
     "metadata": {},
     "output_type": "display_data"
    }
   ],
   "source": [
    "#use best preprocessing (StandardScaler()) and parameters (c=0.1) for ROC AUC\n",
    "\n",
    "from sklearn.metrics import roc_curve\n",
    "\n",
    "pipe = Pipeline([('preprocessing', StandardScaler()), \n",
    "                 ('classifier', LinearSVC(C=0.1, max_iter=100000, dual=False))])\n",
    "pipe.fit(X_train_cv, y_train_cv)\n",
    "    \n",
    "fpr, tpr, thresholds = roc_curve(y_test_nodup, pipe.decision_function(X_test_nodup))\n",
    "\n",
    "plt.plot(fpr, tpr, label='LinearSVC')\n",
    "close_zero = np.argmin(np.abs(thresholds))\n",
    "plt.plot(fpr[close_zero], tpr[close_zero], '^', c='k',\n",
    "         markersize=10, label=' threshold zero', fillstyle='none', mew=2)\n",
    "plt.xlabel('FPR')\n",
    "plt.ylabel('TPR')#roc curve for best average precision estimator\n",
    "plt.legend(loc='best')\n",
    "plt.title('ROC curve for linearSVC (StandardScaler(), C=0.1)')"
   ]
  },
  {
   "cell_type": "markdown",
   "id": "cd80d749",
   "metadata": {},
   "source": [
    "9. Use curves to determine if precision can be increased and FPR can be reduced "
   ]
  },
  {
   "cell_type": "markdown",
   "id": "435866e1",
   "metadata": {},
   "source": [
    "- Decreasing FPR or precision is followed by a similar loss to the other factor"
   ]
  },
  {
   "cell_type": "markdown",
   "id": "a1f2f736",
   "metadata": {},
   "source": [
    "10. Produce confusion matrix with best parameters for precision or area under ROC curve (whichever gave best CV score)"
   ]
  },
  {
   "cell_type": "code",
   "execution_count": 13,
   "id": "e5877bb1",
   "metadata": {},
   "outputs": [
    {
     "name": "stdout",
     "output_type": "stream",
     "text": [
      "Precision:  0.8068181818181818\n",
      "Sensitivity:  0.71\n",
      "Specificity:  0.8495575221238938\n",
      "FPR : 0.1504424778761062\n",
      "very major error : 15.04424778761062\n",
      "major error:  28.999999999999996\n",
      "\n",
      " confusion matrix: \n",
      " [[96 17]\n",
      " [29 71]]\n"
     ]
    }
   ],
   "source": [
    "#confusion matrix (StandardScaler(), c=0.1)\n",
    "\n",
    "from sklearn.metrics import confusion_matrix\n",
    "\n",
    "#build and fit pipeline\n",
    "pipe = Pipeline([('preprocessing', StandardScaler()), \n",
    "                 ('classifier', LinearSVC(C=0.1, max_iter=100000, dual=False))])\n",
    "\n",
    "pipe.fit(X_train_cv, y_train_cv)\n",
    "predict = pipe.predict(X_test_nodup).astype(int)\n",
    "\n",
    "#generate confusion matrix\n",
    "confusion = confusion_matrix(y_test_nodup, predict)\n",
    "\n",
    "#calculate precision, sensitivity, specificity, FPR, errors\n",
    "Precision = (confusion[1][1])/(confusion[1][1]+confusion[0][1])\n",
    "Sensitivity = (confusion[1][1])/(confusion[1][1]+confusion[1][0])\n",
    "Specificity = (confusion[0][0])/(confusion[0][0]+confusion[0][1])\n",
    "FPR = 1-Specificity\n",
    "very_major_error = (confusion[0][1]/y_test_nodup[y_test_nodup==0].count())*100\n",
    "major_error = (confusion[1][0]/y_test_nodup[y_test_nodup==1].count())*100\n",
    "\n",
    "\n",
    "print ('Precision: ', Precision)\n",
    "print ('Sensitivity: ', Sensitivity)\n",
    "print ('Specificity: ', Specificity)\n",
    "print ('FPR :', FPR)\n",
    "print ('very major error :', very_major_error)\n",
    "print ('major error: ', major_error)\n",
    "print ('\\n confusion matrix: \\n', confusion)\n",
    "\n",
    "# begins creates list for model comparison:\n",
    "direct_VME = very_major_error\n",
    "direct_ME = major_error"
   ]
  },
  {
   "cell_type": "code",
   "execution_count": 14,
   "id": "9996c5aa",
   "metadata": {},
   "outputs": [
    {
     "name": "stdout",
     "output_type": "stream",
     "text": [
      "{0: 125, 1: 88}\n"
     ]
    },
    {
     "data": {
      "image/png": "[encoded data removed]",
      "text/plain": [
       "<Figure size 648x648 with 2 Axes>"
      ]
     },
     "metadata": {},
     "output_type": "display_data"
    }
   ],
   "source": [
    "from sklearn import metrics\n",
    "import seaborn as sns\n",
    "\n",
    "unique, counts = np.unique(predict, return_counts=True)\n",
    "print(dict(zip(unique, counts)))\n",
    "\n",
    "cm = metrics.confusion_matrix(y_test_nodup, predict)\n",
    "plt.figure(figsize=(9,9))\n",
    "\n",
    "group_names = ['True Resistant','Very major error','Major error','True Susceptible']\n",
    "group_counts = ['{0:0.0f}'.format(value) for value in\n",
    "                cm.flatten()]\n",
    "group_percentages = ['{0:.2%}'.format(value) for value in\n",
    "                     cm.flatten()/np.sum(cm)]\n",
    "labels = [f'{v1}\\n{v2}\\n{v3}' for v1, v2, v3 in\n",
    "          zip(group_names,group_counts,group_percentages)]\n",
    "labels = np.asarray(labels).reshape(2,2)\n",
    "\n",
    "sns.heatmap(cm, annot=labels, fmt='', linewidths=.5, square = True, cmap = 'Blues_r', cbar=False);\n",
    "plt.ylabel('Actual label');\n",
    "plt.xlabel('Predicted label');\n",
    "plt.title('Linear SVC - Direct Binary Classification');"
   ]
  },
  {
   "cell_type": "markdown",
   "id": "5470f93c",
   "metadata": {},
   "source": [
    "11. Shift decision threshold to improve precision and FPR - reducing instances where resistant cases are predicted to be susceptible"
   ]
  },
  {
   "cell_type": "code",
   "execution_count": 15,
   "id": "233a51d9",
   "metadata": {},
   "outputs": [
    {
     "name": "stderr",
     "output_type": "stream",
     "text": [
      "C:\\Users\\user\\AppData\\Local\\Temp/ipykernel_29284/3803690163.py:24: RuntimeWarning: invalid value encountered in double_scalars\n",
      "  grad_change = (m_error_cost / (-1*vm_error_cost))\n"
     ]
    },
    {
     "data": {
      "image/png": "[encoded data removed]",
      "text/plain": [
       "<Figure size 432x288 with 1 Axes>"
      ]
     },
     "metadata": {},
     "output_type": "display_data"
    },
    {
     "name": "stdout",
     "output_type": "stream",
     "text": [
      "Optimum threshold to reduce very major error without     increasing major error by more than 1.5x :\n",
      " 0.02\n"
     ]
    }
   ],
   "source": [
    "# graph showing how major and very major error changes with decision threshold\n",
    "\n",
    "threshold  = np.linspace(0,1,num = 51)\n",
    "very_major_error = []\n",
    "major_error = []\n",
    "net_error_change = []\n",
    "threshold_shift = []\n",
    "\n",
    "predict = (pipe.decision_function(X_test_nodup)>=0).astype(int)\n",
    "confusion = confusion_matrix(y_test_nodup, predict)\n",
    "og_very_major_error = ((confusion[0][1]/y_test_nodup[y_test_nodup==0].count())*100)\n",
    "og_major_error = ((confusion[1][0]/y_test_nodup[y_test_nodup==1].count())*100)\n",
    "\n",
    "for i in threshold:\n",
    "    predict = (pipe.decision_function(X_test_nodup)>=i).astype(int)\n",
    "    confusion = confusion_matrix(y_test_nodup, predict)\n",
    "    very_major_error.append((confusion[0][1]/y_test_nodup[y_test_nodup==0].count())*100)\n",
    "    major_error.append((confusion[1][0]/y_test_nodup[y_test_nodup==1].count())*100)\n",
    "\n",
    "    #code to mathematically determine optimum threshold shifting\n",
    "    vm_error_cost = ((confusion[0][1]/y_test_nodup[y_test_nodup==0].count())*100) - og_very_major_error\n",
    "    m_error_cost = ((confusion[1][0]/y_test_nodup[y_test_nodup==1].count())*100) - og_major_error\n",
    "    net_error_change.append(m_error_cost + vm_error_cost)\n",
    "    grad_change = (m_error_cost / (-1*vm_error_cost))\n",
    "    if grad_change <= 1.5:\n",
    "        threshold_shift.append(i)\n",
    "    \n",
    "    \n",
    "    \n",
    "plt.plot(threshold, very_major_error, label = 'very major error')\n",
    "plt.plot(threshold, major_error, label = 'major error')\n",
    "plt.plot(threshold, net_error_change, label = 'Net change in very major error + major error')\n",
    "\n",
    "plt.ylabel('Score')\n",
    "plt.xlabel('Decision Threshold')\n",
    "plt.legend()\n",
    "plt.show()\n",
    "\n",
    "if threshold_shift == []:\n",
    "    optimum_thresh = 0\n",
    "    print('Shifting does not improve results')\n",
    "else:\n",
    "    optimum_thresh = max(threshold_shift)\n",
    "    print('Optimum threshold to reduce very major error without \\\n",
    "    increasing major error by more than 1.5x :\\n'\\\n",
    "        ,max(threshold_shift))"
   ]
  },
  {
   "cell_type": "code",
   "execution_count": 16,
   "id": "7a2703c3",
   "metadata": {},
   "outputs": [
    {
     "name": "stdout",
     "output_type": "stream",
     "text": [
      "Precision:  0.8214285714285714\n",
      "Sensitivity:  0.69\n",
      "Specificity:  0.8672566371681416\n",
      "FPR : 0.1327433628318584\n",
      "very major error : 13.274336283185843\n",
      "major error:  31.0\n",
      "\n",
      " confusion_matrix: \n",
      " [[98 15]\n",
      " [31 69]]\n"
     ]
    }
   ],
   "source": [
    "# shift threshold accoriding to data above - optimum theshold to decrease FPR without\n",
    "# increasing major error by more than 1.5 x\n",
    "# = ~0.02\n",
    "\n",
    "predict = (pipe.decision_function(X_test_nodup)>=optimum_thresh).astype(int)\n",
    "confusion = confusion_matrix(y_test_nodup, predict)\n",
    "\n",
    "Precision = (confusion[1][1])/(confusion[1][1]+confusion[0][1])\n",
    "Sensitivity = (confusion[1][1])/(confusion[1][1]+confusion[1][0])\n",
    "Specificity = (confusion[0][0])/(confusion[0][0]+confusion[0][1])\n",
    "FPR = 1-Specificity\n",
    "very_major_error = (confusion[0][1]/y_test_nodup[y_test_nodup==0].count())*100\n",
    "major_error = (confusion[1][0]/y_test_nodup[y_test_nodup==1].count())*100\n",
    "\n",
    "print ('Precision: ', Precision)\n",
    "print ('Sensitivity: ', Sensitivity)\n",
    "print ('Specificity: ', Specificity)\n",
    "print ('FPR :', FPR)\n",
    "print ('very major error :', very_major_error)\n",
    "print ('major error: ', major_error)\n",
    "\n",
    "print ('\\n confusion_matrix: \\n', confusion)\n",
    "\n",
    "# adds to list for model quality comparison\n",
    "shifted_direct_VME = very_major_error\n",
    "shifted_direct_ME = major_error"
   ]
  },
  {
   "cell_type": "markdown",
   "id": "61deead0",
   "metadata": {},
   "source": [
    "Optimum model: preprocessing (StandardScaler()), parameters (c=0.1), Decision Threshold = 0.02"
   ]
  },
  {
   "cell_type": "code",
   "execution_count": null,
   "id": "b4dbf7bc",
   "metadata": {},
   "outputs": [],
   "source": []
  },
  {
   "cell_type": "markdown",
   "id": "3dd72bcf",
   "metadata": {},
   "source": [
    "Feature importance data for model comparison:"
   ]
  },
  {
   "cell_type": "code",
   "execution_count": 17,
   "id": "569f5487",
   "metadata": {},
   "outputs": [
    {
     "data": {
      "text/plain": [
       "<matplotlib.legend.Legend at 0x1e4a7b440a0>"
      ]
     },
     "execution_count": 17,
     "metadata": {},
     "output_type": "execute_result"
    },
    {
     "data": {
      "image/png": "[encoded data removed]",
      "text/plain": [
       "<Figure size 576x720 with 1 Axes>"
      ]
     },
     "metadata": {},
     "output_type": "display_data"
    }
   ],
   "source": [
    "#Use standardscaler() for no_params \n",
    "#need to scale data to use coefficients for feature importance \n",
    "no_params = Pipeline([('preprocessing', StandardScaler()),\\\n",
    "                 ('classifier', LinearSVC(max_iter=100000, dual=False))])\n",
    "\n",
    "best_params = Pipeline([('preprocessing', StandardScaler()), \n",
    "                 ('classifier', LinearSVC(C=0.1, max_iter=100000, dual=False))])\n",
    "\n",
    "no_params.fit(X_train_cv, y_train_cv)\n",
    "best_params.fit(X_train_cv, y_train_cv)\n",
    "\n",
    "DF = pd.DataFrame({'Default Parameters':((no_params.named_steps['classifier'].coef_)[0]),\n",
    "                   'Best Parameters':((best_params.named_steps['classifier'].coef_)[0]),\n",
    "                   'n_features':np.arange(X_train_cv.shape[1])})\n",
    "                          \n",
    "df_melted = DF.melt(\"n_features\",var_name=\"Params\",value_name=\"importance\")\n",
    "\n",
    "sns.set_theme()\n",
    "sns.set(rc={'figure.figsize':(8,10)})\n",
    "sns.set_palette(sns.color_palette('Set1'))\n",
    "x = sns.barplot(data=df_melted, x='importance', y='n_features', hue='Params', orient='h')\n",
    "plt.yticks(DF['n_features'], df.columns[3:])\n",
    "x.set(xlabel='Coefficient', ylabel='Feature')\n",
    "plt.legend(loc='lower right')"
   ]
  },
  {
   "cell_type": "code",
   "execution_count": 18,
   "id": "88106973",
   "metadata": {},
   "outputs": [],
   "source": [
    "#produce relative importance df for best model for direct binary classification comparison\n",
    "modal_df = abs(DF['Best Parameters'])\n",
    "relative_importance = []\n",
    "for i in modal_df:\n",
    "    relative_importance.append(i / max(modal_df))\n",
    "lin_SVC_df = pd.DataFrame({'LSVC_relative_importance':relative_importance,\n",
    "                   'n_features':np.arange(X_train_cv.shape[1])})\n",
    "lin_SVC_df.to_csv('LSVC_relative_importance.csv')"
   ]
  },
  {
   "cell_type": "code",
   "execution_count": null,
   "id": "db292259",
   "metadata": {},
   "outputs": [],
   "source": []
  },
  {
   "cell_type": "markdown",
   "id": "dd8be90a",
   "metadata": {},
   "source": [
    "Indirect binary classification via multiclass MIC classification"
   ]
  },
  {
   "cell_type": "markdown",
   "id": "2a1f4c77",
   "metadata": {},
   "source": [
    "1. Seperate the dataframe into a features and label dataset\n",
    "2. Break datasets down into training and test sets containing only unique mutations\n",
    "3. Establish pipeline and parameter grid for model and grid search\n",
    "4. Grid search with shuffled k fold cross validation to find best preprocessing and parameters for ACCURACY\n",
    "5. Produce confusion matrix with best parameters for ACCURACY\n",
    "6. Convert predicted MIC to binary phenotype\n",
    "7. Produce binary confusion matrix with best parameters for ACCURACY"
   ]
  },
  {
   "cell_type": "markdown",
   "id": "c05e5650",
   "metadata": {},
   "source": [
    "1. Seperate the dataframe into a features and label dataset"
   ]
  },
  {
   "cell_type": "code",
   "execution_count": 19,
   "id": "e6f8193a",
   "metadata": {},
   "outputs": [],
   "source": [
    "MIC_ML_data = ML_data.dropna(subset = ['METHOD_MIC'])"
   ]
  },
  {
   "cell_type": "code",
   "execution_count": 20,
   "id": "31d8a1ba",
   "metadata": {},
   "outputs": [
    {
     "name": "stderr",
     "output_type": "stream",
     "text": [
      "C:\\Users\\user\\AppData\\Local\\Temp/ipykernel_29284/380884722.py:17: SettingWithCopyWarning: \n",
      "A value is trying to be set on a copy of a slice from a DataFrame.\n",
      "Try using .loc[row_indexer,col_indexer] = value instead\n",
      "\n",
      "See the caveats in the documentation: https://pandas.pydata.org/pandas-docs/stable/user_guide/indexing.html#returning-a-view-versus-a-copy\n",
      "  MIC_ML_data['MIC_values'] = MIC_strings\n"
     ]
    }
   ],
   "source": [
    "# need code to clean up values > 1.6 - need to see if RF can use continuous data\n",
    "\n",
    "MIC_strings = []\n",
    "\n",
    "for i in MIC_ML_data['METHOD_MIC']:\n",
    "    if i == '3.2':\n",
    "        MIC_strings.append('>1.6')\n",
    "    elif i == '6.4':\n",
    "        MIC_strings.append('>1.6')\n",
    "    elif i == '12.8':\n",
    "        MIC_strings.append('>1.6')\n",
    "    elif i == '>12.8':\n",
    "        MIC_strings.append('>1.6')\n",
    "    else:\n",
    "        MIC_strings.append(i)\n",
    "        \n",
    "MIC_ML_data['MIC_values'] = MIC_strings"
   ]
  },
  {
   "cell_type": "code",
   "execution_count": 21,
   "id": "a2ebd836",
   "metadata": {},
   "outputs": [],
   "source": [
    "MIC_df = MIC_ML_data[['MIC_values','MUT_RESISTANCE','MUTATION','Site1_Distance','d_volume','d_MW',\t\\\n",
    "              'd_hydropathy', 'd_Pi', 'Depth','H','O','T','S','G','E',  \\\n",
    "              'B','I','Tempfactor','Hem_dist','Site2_dist','SNAP2_score']]\n",
    "\n",
    "# creates features numpy array\n",
    "MIC_features = MIC_df[MIC_df.columns[2:]].to_numpy()\n",
    "\n",
    "#creates resistance label column\n",
    "MIC_label = MIC_df['MIC_values'].to_numpy()"
   ]
  },
  {
   "cell_type": "markdown",
   "id": "a9a47ce4",
   "metadata": {},
   "source": [
    "2. Break datasets down into training and test sets containing only unique mutations"
   ]
  },
  {
   "cell_type": "code",
   "execution_count": 22,
   "id": "6d5469f0",
   "metadata": {},
   "outputs": [],
   "source": [
    "#split data into training and test sets\n",
    "X_train, X_test, y_train, y_test = train_test_split(MIC_features, MIC_label,\n",
    "                                                    random_state=0)"
   ]
  },
  {
   "cell_type": "code",
   "execution_count": 23,
   "id": "e4c61539",
   "metadata": {},
   "outputs": [],
   "source": [
    "# creates features and label dfs from unique mutations when the original train-test split \n",
    "# is inputted \n",
    "def remove_duplicate_mutations(X_dataset, y_dataset):\n",
    "\n",
    "    #converts long X_train and y_train to pd df to join\n",
    "    X_train_df = pd.DataFrame(X_dataset)\n",
    "    X_train_df.rename(columns = {0:'MUTATION'}, inplace = True)\n",
    "    y_train_df = pd.DataFrame(y_dataset)\n",
    "    y_train_df.rename(columns = {0:'MIC_VALUES'}, inplace = True)\n",
    "\n",
    "    CV_train = X_train_df.join(y_train_df,  how = 'inner')\n",
    "\n",
    "    #converts MIC_values to an integer so that the mean can be calculated for each mutation\n",
    "    #with multiple samples\n",
    "    MIC_integers = []\n",
    "\n",
    "    for i in CV_train['MIC_VALUES']:\n",
    "        if i == '<=0.025':\n",
    "            MIC_integers.append(1)\n",
    "        elif i == '0.05':\n",
    "            MIC_integers.append(2)\n",
    "        elif i == '0.1':\n",
    "            MIC_integers.append(3)\n",
    "        elif i == '0.2':\n",
    "            MIC_integers.append(4)\n",
    "        elif i == '0.4':\n",
    "            MIC_integers.append(5)\n",
    "        elif i == '0.8':\n",
    "            MIC_integers.append(6)\n",
    "        elif i == '1.6':\n",
    "            MIC_integers.append(7)\n",
    "        elif i == '>1.6':\n",
    "            MIC_integers.append(8)\n",
    "        \n",
    "    CV_train['MIC_integers'] = MIC_integers\n",
    "\n",
    "    #calculates the mean MIC value using the integer scale for each mutation\n",
    "    MIC_calc_df = CV_train[['MUTATION','MIC_integers']].groupby('MUTATION').mean()\n",
    "    \n",
    "    #rounds the mean MIC value to the nearest integer for conversion back to the \n",
    "    #original MIC classes\n",
    "    MIC_rounded = []\n",
    "    for i in MIC_calc_df['MIC_integers']:\n",
    "        rnd = round(i)\n",
    "        MIC_rounded.append(rnd)\n",
    "    MIC_calc_df['MIC_rounded'] = MIC_rounded\n",
    "    \n",
    "    #converts integers back to orignal MIC classes\n",
    "    MIC_strings = []\n",
    "    for i in MIC_calc_df['MIC_rounded']:\n",
    "        if i == 1:\n",
    "            MIC_strings.append('<=0.025')\n",
    "        elif i == 2:\n",
    "            MIC_strings.append('0.05')\n",
    "        elif i == 3:\n",
    "            MIC_strings.append('0.1')\n",
    "        elif i == 4:\n",
    "            MIC_strings.append('0.2')\n",
    "        elif i == 5:\n",
    "            MIC_strings.append('0.4')\n",
    "        elif i == 6:\n",
    "            MIC_strings.append('0.8')\n",
    "        elif i == 7:\n",
    "            MIC_strings.append('1.6')\n",
    "        elif i == 8:\n",
    "            MIC_strings.append('>1.6')   \n",
    "\n",
    "    MIC_calc_df['MIC_final'] = MIC_strings\n",
    "\n",
    "    # joins new MIC classes to CV_train df to replace the variation in MIC values associated\n",
    "    # with mutations with multiple DST_measurements \n",
    "    MIC_calc_df.drop(['MIC_integers','MIC_rounded'], axis =1, inplace = True)\n",
    "    CV_train.set_index('MUTATION', inplace = True)\n",
    "    CV_train = CV_train.join(MIC_calc_df)\n",
    "    CV_train.reset_index(inplace = True)\n",
    "    CV_train.drop(['MIC_VALUES','MIC_integers'], axis = 1, inplace = True)\n",
    "    CV_train.rename(columns = {'index':'MUTATION','MIC_final':'MIC_VALUES'}, inplace = True)\n",
    "    \n",
    "    #removes duplicates and mutation column\n",
    "    CV_train_unique = CV_train.drop_duplicates(subset='MUTATION', keep = 'first')\n",
    "    CV_train_unique.drop(['MUTATION'], axis = 1, inplace = True)\n",
    "\n",
    "    #seperates into unique features and label numpy arrays\n",
    "    features_unique = CV_train_unique[CV_train_unique.columns[:-1]].to_numpy()\n",
    "    label_unique = CV_train_unique['MIC_VALUES']\n",
    "\n",
    "    X_no_duplicates = (features_unique)\n",
    "    y_no_duplicates = (label_unique)\n",
    "    \n",
    "    return (X_no_duplicates, y_no_duplicates)"
   ]
  },
  {
   "cell_type": "code",
   "execution_count": 24,
   "id": "e77d1d61",
   "metadata": {},
   "outputs": [
    {
     "name": "stderr",
     "output_type": "stream",
     "text": [
      "C:\\Users\\user\\anaconda3\\lib\\site-packages\\pandas\\core\\frame.py:4906: SettingWithCopyWarning: \n",
      "A value is trying to be set on a copy of a slice from a DataFrame\n",
      "\n",
      "See the caveats in the documentation: https://pandas.pydata.org/pandas-docs/stable/user_guide/indexing.html#returning-a-view-versus-a-copy\n",
      "  return super().drop(\n"
     ]
    }
   ],
   "source": [
    "X_train_nodup, y_train_nodup = remove_duplicate_mutations(X_train, y_train)\n",
    "X_test_nodup, y_test_nodup = remove_duplicate_mutations(X_test, y_test)"
   ]
  },
  {
   "cell_type": "code",
   "execution_count": 25,
   "id": "5c008788",
   "metadata": {},
   "outputs": [],
   "source": [
    "#split data into training and test sets\n",
    "X_train_cv, X_test_cv, y_train_cv, y_test_cv = train_test_split(X_train_nodup, y_train_nodup,\n",
    "                                                    random_state=0, test_size=0.2)"
   ]
  },
  {
   "cell_type": "markdown",
   "id": "61ecedf8",
   "metadata": {},
   "source": [
    "3. Establish pipeline and parameter grid for model and grid search"
   ]
  },
  {
   "cell_type": "code",
   "execution_count": 26,
   "id": "d658efb6",
   "metadata": {},
   "outputs": [],
   "source": [
    "#build pipeline and paratmeter grid (one vs rest)\n",
    "pipe = Pipeline([('preprocessing', StandardScaler()), ('classifier', LinearSVC(max_iter=100000, dual=False))])\n",
    "param_grid = {'preprocessing':[StandardScaler(), MinMaxScaler(), RobustScaler()],\n",
    "              'classifier__C': [0.01, 0.1, 1, 10, 100]}"
   ]
  },
  {
   "cell_type": "markdown",
   "id": "8ba83e40",
   "metadata": {},
   "source": [
    "4. Grid search with shuffled k fold cross validation to find best preprocessing and parameters for ACCURACY"
   ]
  },
  {
   "cell_type": "code",
   "execution_count": 27,
   "id": "70922091",
   "metadata": {},
   "outputs": [
    {
     "name": "stdout",
     "output_type": "stream",
     "text": [
      "grid_kfold_shuffle: best estimator: \n",
      " Pipeline(steps=[('preprocessing', MinMaxScaler()),\n",
      "                ('classifier', LinearSVC(C=1, dual=False, max_iter=100000))])\n",
      "grid_kfold_shuffle: best cross-validation score:  0.2294354838709677\n",
      "grid_kfold_shuffle: test set average accuracy:  0.2 \n",
      "\n"
     ]
    }
   ],
   "source": [
    "#Grid search with shuffled kfold cross validation\n",
    "Kfold_shuffle=KFold(n_splits=5, shuffle=True, random_state=0)\n",
    "grid_kfold_shuffle = GridSearchCV(pipe, param_grid, cv=Kfold_shuffle, n_jobs=-1)\n",
    "grid_kfold_shuffle.fit(X_train_cv, y_train_cv)\n",
    "print ('grid_kfold_shuffle: best estimator: \\n', grid_kfold_shuffle.best_estimator_)\n",
    "print ('grid_kfold_shuffle: best cross-validation score: ', grid_kfold_shuffle.best_score_)\n",
    "print ('grid_kfold_shuffle: test set average accuracy: ', \n",
    "       accuracy_score(y_test_cv, grid_kfold_shuffle.predict(X_test_cv)), '\\n')"
   ]
  },
  {
   "cell_type": "markdown",
   "id": "a6e81920",
   "metadata": {},
   "source": [
    "5. Produce confusion matrix with best parameters for ACCURACY"
   ]
  },
  {
   "cell_type": "code",
   "execution_count": 28,
   "id": "6980071a",
   "metadata": {},
   "outputs": [
    {
     "name": "stdout",
     "output_type": "stream",
     "text": [
      "\n",
      " multiclass confusion matrix: \n",
      " [[4 4 0 0 0 0 0 0]\n",
      " [4 5 0 0 0 0 0 0]\n",
      " [5 2 0 0 1 1 0 3]\n",
      " [3 3 0 1 1 2 1 2]\n",
      " [2 0 0 0 1 1 0 4]\n",
      " [1 0 0 0 0 3 2 2]\n",
      " [0 0 0 0 0 1 0 3]\n",
      " [2 3 0 0 1 1 2 4]]\n"
     ]
    }
   ],
   "source": [
    "from sklearn.metrics import confusion_matrix\n",
    "\n",
    "#build pipeline and fit\n",
    "pipe = Pipeline([('preprocessing', MinMaxScaler()),\n",
    "                ('classifier', LinearSVC(C=1, dual=False, max_iter=100000))])\n",
    "\n",
    "pipe.fit(X_train_cv, y_train_cv)                 \n",
    "\n",
    "predict = pipe.predict(X_test_nodup)\n",
    "#generate confusion matrix\n",
    "target_names = ['<=0.025','0.05','0.1','0.2','0.4','0.8',  '1.6','>1.6']\n",
    "confusion = confusion_matrix(y_test_nodup, predict, labels = target_names)\n",
    "\n",
    "print ('\\n multiclass confusion matrix: \\n', confusion)"
   ]
  },
  {
   "cell_type": "code",
   "execution_count": 29,
   "id": "5de71786",
   "metadata": {},
   "outputs": [
    {
     "data": {
      "image/png": "[encoded data removed]",
      "text/plain": [
       "<Figure size 576x720 with 1 Axes>"
      ]
     },
     "metadata": {},
     "output_type": "display_data"
    }
   ],
   "source": [
    "#generate heatmap of confusion matrix for visualisation\n",
    "\n",
    "import mglearn\n",
    "\n",
    "target_names = ['<=0.025','0.05','0.1','0.2','0.4','0.8', '1.6','>1.6']\n",
    "scores_image = mglearn.tools.heatmap(confusion, xlabel='predicted label',\n",
    "                                     ylabel='true label', xticklabels=target_names,\n",
    "                                     yticklabels=target_names, cmap=plt.cm.gray_r, fmt='%d')\n",
    "plt.title('confusion matrix heat map')\n",
    "plt.gca().invert_yaxis()"
   ]
  },
  {
   "cell_type": "code",
   "execution_count": 30,
   "id": "916d8e3c",
   "metadata": {},
   "outputs": [
    {
     "name": "stdout",
     "output_type": "stream",
     "text": [
      "              precision    recall  f1-score   support\n",
      "\n",
      "        0.05       0.29      0.56      0.38         9\n",
      "         0.1       1.00      0.00      0.00        12\n",
      "         0.2       1.00      0.08      0.14        13\n",
      "         0.4       0.25      0.12      0.17         8\n",
      "         0.8       0.33      0.38      0.35         8\n",
      "         1.6       0.00      0.00      0.00         4\n",
      "     <=0.025       0.19      0.50      0.28         8\n",
      "        >1.6       0.22      0.31      0.26        13\n",
      "\n",
      "    accuracy                           0.24        75\n",
      "   macro avg       0.41      0.24      0.20        75\n",
      "weighted avg       0.49      0.24      0.20        75\n",
      "\n"
     ]
    }
   ],
   "source": [
    "#generate classification report\n",
    "from sklearn.metrics import classification_report\n",
    "\n",
    "print (classification_report(y_test_nodup, predict, zero_division=True))"
   ]
  },
  {
   "cell_type": "markdown",
   "id": "95b2c6a6",
   "metadata": {},
   "source": [
    "6. Convert predicted MIC to binary phenotype"
   ]
  },
  {
   "cell_type": "code",
   "execution_count": 31,
   "id": "b926bbe3",
   "metadata": {},
   "outputs": [],
   "source": [
    "# will categorise multiclass data into 2 groups\n",
    "def MIC_to_binary(data):\n",
    "    RS_dict = {0:['0.2','0.4','0.8','1.6','>1.6'],\n",
    "           1:['<=0.025','0.05','0.1']}\n",
    "    binary_list = []\n",
    "    for i in data:\n",
    "        for k,v in RS_dict.items():\n",
    "            for j in v:\n",
    "                if i == j:\n",
    "                    binary_list.append(k)\n",
    "\n",
    "    binary_array = np.array(binary_list)\n",
    "    return binary_array"
   ]
  },
  {
   "cell_type": "markdown",
   "id": "be98b93b",
   "metadata": {},
   "source": [
    "7. Produce binary confusion matrix with best parameters for ACCURACY"
   ]
  },
  {
   "cell_type": "code",
   "execution_count": 34,
   "id": "4b2b161c",
   "metadata": {},
   "outputs": [
    {
     "name": "stdout",
     "output_type": "stream",
     "text": [
      "Precision:  0.631578947368421\n",
      "Sensitivity:  0.8275862068965517\n",
      "Specificity:  0.6956521739130435\n",
      "FPR : 0.30434782608695654\n",
      "very major error : 30.434782608695656\n",
      "major error:  17.24137931034483\n",
      "\n",
      " confusion matrix: \n",
      " [[32 14]\n",
      " [ 5 24]]\n"
     ]
    },
    {
     "data": {
      "image/png": "[encoded data removed]",
      "text/plain": [
       "<Figure size 576x720 with 1 Axes>"
      ]
     },
     "metadata": {},
     "output_type": "display_data"
    }
   ],
   "source": [
    "#convert MIC targets to binary targets and generate confusion matrix\n",
    "predict = pipe.predict(X_test_nodup)\n",
    "confusion = confusion_matrix(MIC_to_binary(y_test_nodup), MIC_to_binary(predict))\n",
    "cm = metrics.confusion_matrix(MIC_to_binary(y_test_nodup), MIC_to_binary(predict))\n",
    "\n",
    "#calculate precision, senstivity, specificty, FPR, and erros\n",
    "Precision = (confusion[1][1])/(confusion[1][1]+confusion[0][1])\n",
    "Sensitivity = (confusion[1][1])/(confusion[1][1]+confusion[1][0])\n",
    "Specificity = (confusion[0][0])/(confusion[0][0]+confusion[0][1])\n",
    "FPR = 1-Specificity\n",
    "very_major_error = (confusion[0][1]/len(MIC_to_binary(y_test_nodup)[MIC_to_binary(y_test_nodup)==0]))*100\n",
    "major_error = (confusion[1][0]/len(MIC_to_binary(y_test_nodup)[MIC_to_binary(y_test_nodup)==1]))*100\n",
    "\n",
    "\n",
    "print ('Precision: ', Precision)\n",
    "print ('Sensitivity: ', Sensitivity)\n",
    "print ('Specificity: ', Specificity)\n",
    "print ('FPR :', FPR)\n",
    "print ('very major error :', very_major_error)\n",
    "print ('major error: ', major_error)\n",
    "print ('\\n confusion matrix: \\n', confusion)\n",
    "\n",
    "group_names = ['True Resistant','Very major error','Major error','True Susceptible']\n",
    "group_counts = ['{0:0.0f}'.format(value) for value in\n",
    "                cm.flatten()]\n",
    "group_percentages = ['{0:.2%}'.format(value) for value in\n",
    "                     cm.flatten()/np.sum(cm)]\n",
    "labels = [f'{v1}\\n{v2}\\n{v3}' for v1, v2, v3 in\n",
    "          zip(group_names,group_counts,group_percentages)]\n",
    "labels = np.asarray(labels).reshape(2,2)\n",
    "\n",
    "sns.heatmap(cm, annot=labels, fmt='', linewidths=.5, square = True, cmap = 'Blues_r', cbar=False);\n",
    "plt.ylabel('Actual label');\n",
    "plt.xlabel('Predicted label');\n",
    "plt.title('Linear SVC - Indirect Binary Classification');\n",
    "\n",
    "#completes list of model quality values for model comparison\n",
    "shifted_multiclass_VME = very_major_error\n",
    "shifted_multiclass_ME = major_error\n",
    "\n",
    "LSVC_quality = [direct_VME, direct_ME, shifted_direct_VME, shifted_direct_ME, \\\n",
    "              shifted_multiclass_VME,shifted_multiclass_ME]\n",
    "\n",
    "LSVC_quality_df = pd.DataFrame({'LSVC_quality':LSVC_quality})\n",
    "LSVC_quality_df.to_csv('LSVC_quality.csv')"
   ]
  },
  {
   "cell_type": "code",
   "execution_count": 33,
   "id": "d58d53aa",
   "metadata": {},
   "outputs": [
    {
     "name": "stdout",
     "output_type": "stream",
     "text": [
      "              precision    recall  f1-score   support\n",
      "\n",
      "           0       0.86      0.70      0.77        46\n",
      "           1       0.63      0.83      0.72        29\n",
      "\n",
      "    accuracy                           0.75        75\n",
      "   macro avg       0.75      0.76      0.74        75\n",
      "weighted avg       0.77      0.75      0.75        75\n",
      "\n"
     ]
    }
   ],
   "source": [
    "print (classification_report(MIC_to_binary(y_test_nodup), MIC_to_binary(predict)))"
   ]
  },
  {
   "cell_type": "code",
   "execution_count": null,
   "id": "ecfdbaf0",
   "metadata": {},
   "outputs": [],
   "source": []
  }
 ],
 "metadata": {
  "kernelspec": {
   "display_name": "Python 3 (ipykernel)",
   "language": "python",
   "name": "python3"
  },
  "language_info": {
   "codemirror_mode": {
    "name": "ipython",
    "version": 3
   },
   "file_extension": ".py",
   "mimetype": "text/x-python",
   "name": "python",
   "nbconvert_exporter": "python",
   "pygments_lexer": "ipython3",
   "version": "3.8.12"
  }
 },
 "nbformat": 4,
 "nbformat_minor": 5
}
