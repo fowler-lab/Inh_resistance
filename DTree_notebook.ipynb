{
 "cells": [
  {
   "cell_type": "code",
   "execution_count": 1,
   "id": "21184673",
   "metadata": {},
   "outputs": [],
   "source": [
    "import pandas as pd\n",
    "import numpy as np\n",
    "pd.options.display.max_columns = 999\n",
    "ML_data = pd.read_csv('ML_data.csv')"
   ]
  },
  {
   "cell_type": "code",
   "execution_count": 2,
   "id": "8a650d71",
   "metadata": {},
   "outputs": [],
   "source": [
    "df = ML_data[['METHOD_MIC','MUT_RESISTANCE','MUTATION','Site1_Distance','d_volume','d_MW',\t\\\n",
    "              'd_hydropathy', 'd_Pi', 'Depth','H','O','T','S','G','E',  \\\n",
    "              'B','I','Tempfactor','Hem_dist']]\n",
    "\n",
    "# creates features numpy array\n",
    "features = df[df.columns[2:]].to_numpy()\n",
    "\n",
    "#creates resistance label column\n",
    "label = df['MUT_RESISTANCE'].to_numpy()"
   ]
  },
  {
   "cell_type": "code",
   "execution_count": 3,
   "id": "43ef5397",
   "metadata": {},
   "outputs": [],
   "source": [
    "#no preprocessing - therefore, do not see why I would need a pipeline\n",
    "\n",
    "from sklearn.tree import DecisionTreeClassifier\n",
    "from sklearn.pipeline import Pipeline\n",
    "from sklearn.model_selection import train_test_split, KFold, GridSearchCV\n",
    "from sklearn.metrics import accuracy_score, average_precision_score, roc_auc_score\n",
    "\n",
    "tree = DecisionTreeClassifier(random_state=0)\n",
    "param_grid = {'max_depth':[2,4,6,8,10,12,14, None], \n",
    "              'min_samples_split':[0.1,0.2,0.3,0.4,0.5,0.6,0.7,0.8,0.9,1.0],\n",
    "              'min_samples_leaf':[0.1,0.2,0.3,0.4,0.5],\n",
    "              'max_features':['auto','sqrt','log2', None]}\n",
    "X_train, X_test, y_train, y_test = train_test_split(features, label,\n",
    "                                                    random_state=0)"
   ]
  },
  {
   "cell_type": "code",
   "execution_count": 4,
   "id": "64c9c7ee",
   "metadata": {},
   "outputs": [],
   "source": [
    "# creates features and label dfs from unique mutations\n",
    "def remove_duplicate_mutations(X_dataset, y_dataset):\n",
    "\n",
    "    #converts long X_train and y_train to pd df to join\n",
    "    X_train_df = pd.DataFrame(X_dataset)\n",
    "    X_train_df.rename(columns = {0:'MUTATION'}, inplace = True)\n",
    "    y_train_df = pd.DataFrame(y_dataset)\n",
    "    y_train_df.rename(columns = {0:'MUT_RESISTANCE'}, inplace = True)\n",
    "\n",
    "    CV_train = X_train_df.join(y_train_df,  how = 'inner')\n",
    "\n",
    "    #removes duplicates and mutation column\n",
    "    CV_train_unique = CV_train.drop_duplicates(subset='MUTATION', keep = 'first')\n",
    "    CV_train_unique.drop(['MUTATION'], axis = 1, inplace = True)\n",
    "\n",
    "    #seperates into unique features and label numpy arrays\n",
    "    features_unique = CV_train_unique[CV_train_unique.columns[:-1]].to_numpy()\n",
    "    label_unique = CV_train_unique['MUT_RESISTANCE']\n",
    "\n",
    "    X_no_duplicates = (features_unique)\n",
    "    y_no_duplicates = (label_unique)\n",
    "    \n",
    "    return (X_no_duplicates, y_no_duplicates)"
   ]
  },
  {
   "cell_type": "code",
   "execution_count": 5,
   "id": "7c6ab938",
   "metadata": {},
   "outputs": [
    {
     "name": "stderr",
     "output_type": "stream",
     "text": [
      "C:\\Users\\user\\anaconda3\\lib\\site-packages\\pandas\\core\\frame.py:4906: SettingWithCopyWarning: \n",
      "A value is trying to be set on a copy of a slice from a DataFrame\n",
      "\n",
      "See the caveats in the documentation: https://pandas.pydata.org/pandas-docs/stable/user_guide/indexing.html#returning-a-view-versus-a-copy\n",
      "  return super().drop(\n"
     ]
    }
   ],
   "source": [
    "X_train_nodup, y_train_nodup = remove_duplicate_mutations(X_train, y_train)\n",
    "X_test_nodup, y_test_nodup = remove_duplicate_mutations(X_test, y_test)"
   ]
  },
  {
   "cell_type": "code",
   "execution_count": 6,
   "id": "de2beab9",
   "metadata": {},
   "outputs": [],
   "source": [
    "#split data into training and test sets\n",
    "X_train_cv, X_test_cv, y_train_cv, y_test_cv = train_test_split(X_train_nodup, y_train_nodup,\n",
    "                                                    random_state=0)"
   ]
  },
  {
   "cell_type": "code",
   "execution_count": 7,
   "id": "e10a6c94",
   "metadata": {},
   "outputs": [
    {
     "name": "stdout",
     "output_type": "stream",
     "text": [
      "grid_kfold_shuffle: best estimator: \n",
      " DecisionTreeClassifier(max_depth=6, min_samples_leaf=0.1, min_samples_split=0.1,\n",
      "                       random_state=0)\n",
      "grid_kfold_shuffle: best cross-validation score:  0.6372695346795434\n",
      "grid_kfold_shuffle: test set average accuracy:  0.6403508771929824 \n",
      "\n"
     ]
    }
   ],
   "source": [
    "#Grid search with shuffled kfold validation\n",
    "Kfold_shuffle=KFold(n_splits=5, shuffle=True, random_state=0)\n",
    "grid_kfold_shuffle = GridSearchCV(tree, param_grid, cv=Kfold_shuffle)\n",
    "grid_kfold_shuffle.fit(X_train_cv, y_train_cv)\n",
    "print ('grid_kfold_shuffle: best estimator: \\n', grid_kfold_shuffle.best_estimator_)\n",
    "print ('grid_kfold_shuffle: best cross-validation score: ', grid_kfold_shuffle.best_score_)\n",
    "print ('grid_kfold_shuffle: test set average accuracy: ', \n",
    "       accuracy_score(y_test_cv, grid_kfold_shuffle.predict(X_test_cv)), '\\n')"
   ]
  },
  {
   "cell_type": "code",
   "execution_count": 8,
   "id": "f6ea5e2d",
   "metadata": {},
   "outputs": [],
   "source": [
    "#rogof score - look into - amino acid properties \n",
    "\n",
    "# up-sampling \n",
    "# "
   ]
  },
  {
   "cell_type": "code",
   "execution_count": 9,
   "id": "4a78bc2e",
   "metadata": {},
   "outputs": [],
   "source": [
    "from matplotlib import pyplot as plt\n",
    "import numpy as np\n",
    "\n",
    "#define trees with best perfoming parameters, or default parameters\n",
    "tree_best_params = DecisionTreeClassifier(max_depth=4, min_samples_leaf=0.2,\n",
    "                       min_samples_split=0.1, random_state=0)\n",
    "tree_no_params = DecisionTreeClassifier(random_state=0)\n",
    "tree_best_params.fit(X_train_cv, y_train_cv)    \n",
    "tree_no_params.fit(X_train_cv, y_train_cv)\n",
    "\n",
    "#plot charts\n",
    "def plot_feature_importances(model):\n",
    "    n_features = features[:,1:].shape[1]\n",
    "    plt.barh(np.arange(n_features), model.feature_importances_, align='center')\n",
    "    plt.yticks(np.arange(n_features), df.columns[3:])\n",
    "    plt.xlabel('feature importance')\n",
    "    plt.ylabel('feature')\n",
    "    plt.ylim(-1, n_features)\n",
    "    plt.title('Feature importance plot')"
   ]
  },
  {
   "cell_type": "code",
   "execution_count": 10,
   "id": "5699d423",
   "metadata": {},
   "outputs": [
    {
     "data": {
      "image/png": "[encoded data removed]",
      "text/plain": [
       "<Figure size 432x288 with 1 Axes>"
      ]
     },
     "metadata": {
      "needs_background": "light"
     },
     "output_type": "display_data"
    }
   ],
   "source": [
    "plot_feature_importances(tree_no_params)"
   ]
  },
  {
   "cell_type": "code",
   "execution_count": 11,
   "id": "f7f55a2f",
   "metadata": {},
   "outputs": [
    {
     "data": {
      "image/png": "[encoded data removed]",
      "text/plain": [
       "<Figure size 432x288 with 1 Axes>"
      ]
     },
     "metadata": {
      "needs_background": "light"
     },
     "output_type": "display_data"
    }
   ],
   "source": [
    "plot_feature_importances(tree_best_params)"
   ]
  },
  {
   "cell_type": "code",
   "execution_count": 12,
   "id": "5116b64c",
   "metadata": {},
   "outputs": [
    {
     "name": "stdout",
     "output_type": "stream",
     "text": [
      "grid_kfold_shuffle: best estimator: \n",
      " DecisionTreeClassifier(max_depth=6, min_samples_leaf=0.1, min_samples_split=0.1,\n",
      "                       random_state=0)\n",
      "grid_kfold_shuffle: best cross-validation score:  0.6358122986606134\n",
      "grid_kfold_shuffle test set average precision:  0.7002171371789321 \n",
      "\n"
     ]
    }
   ],
   "source": [
    "#Grid search with shuffled kfold validation\n",
    "#use predict_proba function to calculate average_precision\n",
    "kfold_shuffle = KFold(n_splits=5, shuffle=True, random_state=0)\n",
    "grid_kfold_shuffle = GridSearchCV(tree, param_grid, cv=kfold_shuffle, scoring='average_precision')\n",
    "grid_kfold_shuffle.fit(X_train_cv, y_train_cv)\n",
    "print ('grid_kfold_shuffle: best estimator: \\n', grid_kfold_shuffle.best_estimator_)\n",
    "print ('grid_kfold_shuffle: best cross-validation score: ', grid_kfold_shuffle.best_score_)                  \n",
    "print ('grid_kfold_shuffle test set average precision: ', \n",
    "       average_precision_score(y_test_cv, grid_kfold_shuffle.predict_proba(X_test_cv)[:,1]), '\\n')"
   ]
  },
  {
   "cell_type": "code",
   "execution_count": 13,
   "id": "0b7a658e",
   "metadata": {},
   "outputs": [
    {
     "name": "stdout",
     "output_type": "stream",
     "text": [
      "grid_kfold_shuffle: best estimator: \n",
      " DecisionTreeClassifier(max_depth=6, min_samples_leaf=0.1, min_samples_split=0.1,\n",
      "                       random_state=0)\n",
      "grid_kfold_shuffle: best cross-validation score:  0.6725072078991781\n",
      "grid_kfold_shuffle test set AUC:  0.7032019704433498 \n",
      "\n"
     ]
    }
   ],
   "source": [
    "#Grid search with shuffled kfold validation\n",
    "#use predict_proba function to calculate AUC\n",
    "\n",
    "kfold_shuffle = KFold(n_splits=5, shuffle=True, random_state=0)\n",
    "grid_kfold_shuffle = GridSearchCV(tree, param_grid, cv=kfold_shuffle, scoring='roc_auc')\n",
    "grid_kfold_shuffle.fit(X_train_cv, y_train_cv)\n",
    "print ('grid_kfold_shuffle: best estimator: \\n', grid_kfold_shuffle.best_estimator_)\n",
    "print ('grid_kfold_shuffle: best cross-validation score: ', grid_kfold_shuffle.best_score_)                  \n",
    "print ('grid_kfold_shuffle test set AUC: ', \n",
    "       roc_auc_score(y_test_cv, grid_kfold_shuffle.predict_proba(X_test_cv)[:,1]), '\\n')"
   ]
  },
  {
   "cell_type": "code",
   "execution_count": 14,
   "id": "1dd2c7bd",
   "metadata": {},
   "outputs": [
    {
     "data": {
      "text/plain": [
       "<matplotlib.legend.Legend at 0x1893299e640>"
      ]
     },
     "execution_count": 14,
     "metadata": {},
     "output_type": "execute_result"
    },
    {
     "data": {
      "image/png": "[encoded data removed]",
      "text/plain": [
       "<Figure size 432x288 with 1 Axes>"
      ]
     },
     "metadata": {
      "needs_background": "light"
     },
     "output_type": "display_data"
    }
   ],
   "source": [
    "#use best parameters for average precision\n",
    "\n",
    "from sklearn.metrics import precision_recall_curve\n",
    "from matplotlib import pyplot as plt\n",
    "\n",
    "tree = DecisionTreeClassifier(max_depth=4, min_samples_leaf=0.2, min_samples_split=0.1,\n",
    "                       random_state=0)\n",
    "tree.fit(X_train_cv, y_train_cv)\n",
    "\n",
    "precision, recall, thresholds = precision_recall_curve(y_test_cv, tree.predict_proba(X_test_cv)[:, 1])\n",
    "\n",
    "plt.plot(precision, recall, label='tree')\n",
    "close_default = np.argmin(np.abs(thresholds - 0.5))\n",
    "plt.plot(precision[close_default], recall[close_default], '^', c='k', \n",
    "          markersize=10, label='threshold 0.5 ', fillstyle='none', mew=2)\n",
    "plt.xlabel('precision')\n",
    "plt.ylabel('recall')\n",
    "plt.title('Precision-recall curve for decision tree')\n",
    "plt.legend(loc='best')"
   ]
  },
  {
   "cell_type": "code",
   "execution_count": 15,
   "id": "8522f136",
   "metadata": {},
   "outputs": [
    {
     "data": {
      "text/plain": [
       "<matplotlib.legend.Legend at 0x189330fdbe0>"
      ]
     },
     "execution_count": 15,
     "metadata": {},
     "output_type": "execute_result"
    },
    {
     "data": {
      "image/png": "[encoded data removed]",
      "text/plain": [
       "<Figure size 432x288 with 1 Axes>"
      ]
     },
     "metadata": {
      "needs_background": "light"
     },
     "output_type": "display_data"
    }
   ],
   "source": [
    "# use best parameters for AUC\n",
    "from sklearn.metrics import roc_curve\n",
    "\n",
    "fpr, tpr, thresholds = roc_curve(y_test_cv, tree.predict_proba(X_test_cv)[:, 1])\n",
    "\n",
    "plt.plot(fpr, tpr, label='ROC curve tree')\n",
    "plt.xlabel('FPR')\n",
    "plt.ylabel('TPR(recall)')\n",
    "\n",
    "close_default = np.argmin(np.abs(thresholds - 0.5))\n",
    "plt.plot(fpr[close_default], tpr[close_default], '^', markersize=10, label='threshold 0.5', \n",
    "         fillstyle='none', c='k', mew=2)\n",
    "plt.title('ROC curve for decision tree')\n",
    "plt.legend(loc=4)"
   ]
  },
  {
   "cell_type": "code",
   "execution_count": 16,
   "id": "bebd91cb",
   "metadata": {},
   "outputs": [
    {
     "name": "stdout",
     "output_type": "stream",
     "text": [
      "Precision:  0.7345132743362832\n",
      "Sensitivity:  0.7217391304347827\n",
      "Specificity:  0.6938775510204082\n",
      "FPR : 0.30612244897959184\n",
      "very major error : 30.612244897959183\n",
      "major error:  27.82608695652174\n",
      "\n",
      " confusion matrix: \n",
      " [[68 30]\n",
      " [32 83]]\n"
     ]
    }
   ],
   "source": [
    "#confusion matrix (max_features=auto, max_depth=2, min_samples_lieaf=0.1, min_samples_split = 0)   \n",
    "   \n",
    "from sklearn.metrics import confusion_matrix\n",
    "\n",
    "#build and fit decision tree\n",
    "tree = DecisionTreeClassifier(max_depth=4, min_samples_leaf=0.2, min_samples_split=0.1,\n",
    "                       random_state=0)\n",
    "tree.fit(X_train_cv, y_train_cv)\n",
    "predict = tree.predict(X_test_nodup).astype(int)\n",
    "\n",
    "#generate confusion matrix\n",
    "confusion = confusion_matrix(y_test_nodup, predict)\n",
    "\n",
    "#calculate precision, sensitivty, specificity, FPR, errors\n",
    "Precision = (confusion[1][1])/(confusion[1][1]+confusion[0][1])\n",
    "Sensitivity = (confusion[1][1])/(confusion[1][1]+confusion[1][0])\n",
    "Specificity = (confusion[0][0])/(confusion[0][0]+confusion[0][1])\n",
    "FPR = 1-Specificity\n",
    "very_major_error = (confusion[0][1]/y_test_nodup[y_test_nodup==0].count())*100\n",
    "major_error = (confusion[1][0]/y_test_nodup[y_test_nodup==1].count())*100\n",
    "\n",
    "\n",
    "print ('Precision: ', Precision)\n",
    "print ('Sensitivity: ', Sensitivity)\n",
    "print ('Specificity: ', Specificity)\n",
    "print ('FPR :', FPR)\n",
    "print ('very major error :', very_major_error)\n",
    "print ('major error: ', major_error)\n",
    "print ('\\n confusion matrix: \\n', confusion)"
   ]
  },
  {
   "cell_type": "code",
   "execution_count": 17,
   "id": "c79d5881",
   "metadata": {},
   "outputs": [
    {
     "name": "stdout",
     "output_type": "stream",
     "text": [
      "{0: 100, 1: 113}\n"
     ]
    },
    {
     "data": {
      "image/png": "[encoded data removed]",
      "text/plain": [
       "<Figure size 648x648 with 2 Axes>"
      ]
     },
     "metadata": {
      "needs_background": "light"
     },
     "output_type": "display_data"
    }
   ],
   "source": [
    "from sklearn import metrics\n",
    "import seaborn as sns\n",
    "unique, counts = np.unique(predict, return_counts=True)\n",
    "print(dict(zip(unique, counts)))\n",
    "\n",
    "cm = metrics.confusion_matrix(y_test_nodup, predict)\n",
    "plt.figure(figsize=(9,9))\n",
    "sns.heatmap(cm, annot=True, fmt=\".3f\", linewidths=.5, square = True, cmap = 'Blues_r');\n",
    "plt.ylabel('Actual label');\n",
    "plt.xlabel('Predicted label');"
   ]
  },
  {
   "cell_type": "code",
   "execution_count": 18,
   "id": "ade9eedc",
   "metadata": {},
   "outputs": [
    {
     "data": {
      "text/plain": [
       "array([[ 98,   0],\n",
       "       [115,   0]], dtype=int64)"
      ]
     },
     "execution_count": 18,
     "metadata": {},
     "output_type": "execute_result"
    }
   ],
   "source": [
    "tree = DecisionTreeClassifier(max_depth=4, min_samples_leaf=0.2, min_samples_split=0.1,\n",
    "                       random_state=0)\n",
    "tree.fit(X_train_cv, y_train_cv)\n",
    "predicted_proba = tree.predict_proba(X_test_nodup)\n",
    "predict = (predicted_proba[:,1] >= 0.95).astype('int')\n",
    "\n",
    "#generate confusion matrix\n",
    "confusion = confusion_matrix(y_test_nodup, predict)\n",
    "confusion"
   ]
  },
  {
   "cell_type": "markdown",
   "id": "8cd514c2",
   "metadata": {},
   "source": [
    "Indirect binary classification via multiclass MIC classification"
   ]
  },
  {
   "cell_type": "code",
   "execution_count": 19,
   "id": "4064eb71",
   "metadata": {},
   "outputs": [],
   "source": [
    "MIC_ML_data = ML_data.dropna(subset = ['METHOD_MIC'])"
   ]
  },
  {
   "cell_type": "code",
   "execution_count": 20,
   "id": "00b2eb57",
   "metadata": {},
   "outputs": [
    {
     "name": "stderr",
     "output_type": "stream",
     "text": [
      "C:\\Users\\user\\AppData\\Local\\Temp/ipykernel_11004/380884722.py:17: SettingWithCopyWarning: \n",
      "A value is trying to be set on a copy of a slice from a DataFrame.\n",
      "Try using .loc[row_indexer,col_indexer] = value instead\n",
      "\n",
      "See the caveats in the documentation: https://pandas.pydata.org/pandas-docs/stable/user_guide/indexing.html#returning-a-view-versus-a-copy\n",
      "  MIC_ML_data['MIC_values'] = MIC_strings\n"
     ]
    }
   ],
   "source": [
    "# need code to clean up values > 1.6 - need to see if RF can use continuous data\n",
    "\n",
    "MIC_strings = []\n",
    "\n",
    "for i in MIC_ML_data['METHOD_MIC']:\n",
    "    if i == '3.2':\n",
    "        MIC_strings.append('>1.6')\n",
    "    elif i == '6.4':\n",
    "        MIC_strings.append('>1.6')\n",
    "    elif i == '12.8':\n",
    "        MIC_strings.append('>1.6')\n",
    "    elif i == '>12.8':\n",
    "        MIC_strings.append('>1.6')\n",
    "    else:\n",
    "        MIC_strings.append(i)\n",
    "        \n",
    "MIC_ML_data['MIC_values'] = MIC_strings"
   ]
  },
  {
   "cell_type": "code",
   "execution_count": 21,
   "id": "03dd2b20",
   "metadata": {},
   "outputs": [],
   "source": [
    "MIC_df = MIC_ML_data[['MIC_values','MUT_RESISTANCE','MUTATION','Site1_Distance','d_volume','d_MW',\t\\\n",
    "              'd_hydropathy', 'd_Pi', 'Depth','H','O','T','S','G','E',  \\\n",
    "              'B','I','Tempfactor','Hem_dist']]\n",
    "\n",
    "# creates features numpy array\n",
    "MIC_features = MIC_df[MIC_df.columns[2:]].to_numpy()\n",
    "\n",
    "#creates resistance label column\n",
    "MIC_label = MIC_df['MIC_values'].to_numpy()"
   ]
  },
  {
   "cell_type": "code",
   "execution_count": 22,
   "id": "1fa9ba8b",
   "metadata": {},
   "outputs": [],
   "source": [
    "#split data into training and test sets\n",
    "X_train, X_test, y_train, y_test = train_test_split(MIC_features, MIC_label,\n",
    "                                                    random_state=0)"
   ]
  },
  {
   "cell_type": "code",
   "execution_count": 23,
   "id": "079a2107",
   "metadata": {},
   "outputs": [],
   "source": [
    "# creates features and label dfs from unique mutations when the original train-test split \n",
    "# is inputted \n",
    "def remove_duplicate_mutations(X_dataset, y_dataset):\n",
    "\n",
    "    #converts long X_train and y_train to pd df to join\n",
    "    X_train_df = pd.DataFrame(X_dataset)\n",
    "    X_train_df.rename(columns = {0:'MUTATION'}, inplace = True)\n",
    "    y_train_df = pd.DataFrame(y_dataset)\n",
    "    y_train_df.rename(columns = {0:'MIC_VALUES'}, inplace = True)\n",
    "\n",
    "    CV_train = X_train_df.join(y_train_df,  how = 'inner')\n",
    "\n",
    "    #converts MIC_values to an integer so that the mean can be calculated for each mutation\n",
    "    #with multiple samples\n",
    "    MIC_integers = []\n",
    "\n",
    "    for i in CV_train['MIC_VALUES']:\n",
    "        if i == '<=0.025':\n",
    "            MIC_integers.append(1)\n",
    "        elif i == '0.05':\n",
    "            MIC_integers.append(2)\n",
    "        elif i == '0.1':\n",
    "            MIC_integers.append(3)\n",
    "        elif i == '0.2':\n",
    "            MIC_integers.append(4)\n",
    "        elif i == '0.4':\n",
    "            MIC_integers.append(5)\n",
    "        elif i == '0.8':\n",
    "            MIC_integers.append(6)\n",
    "        elif i == '1.6':\n",
    "            MIC_integers.append(7)\n",
    "        elif i == '>1.6':\n",
    "            MIC_integers.append(8)\n",
    "        \n",
    "    CV_train['MIC_integers'] = MIC_integers\n",
    "\n",
    "    #calculates the mean MIC value using the integer scale for each mutation\n",
    "    MIC_calc_df = CV_train[['MUTATION','MIC_integers']].groupby('MUTATION').mean()\n",
    "    \n",
    "    #rounds the mean MIC value to the nearest integer for conversion back to the \n",
    "    #original MIC classes\n",
    "    MIC_rounded = []\n",
    "    for i in MIC_calc_df['MIC_integers']:\n",
    "        rnd = round(i)\n",
    "        MIC_rounded.append(rnd)\n",
    "    MIC_calc_df['MIC_rounded'] = MIC_rounded\n",
    "    \n",
    "    #converts integers back to orignal MIC classes\n",
    "    MIC_strings = []\n",
    "    for i in MIC_calc_df['MIC_rounded']:\n",
    "        if i == 1:\n",
    "            MIC_strings.append('<=0.025')\n",
    "        elif i == 2:\n",
    "            MIC_strings.append('0.05')\n",
    "        elif i == 3:\n",
    "            MIC_strings.append('0.1')\n",
    "        elif i == 4:\n",
    "            MIC_strings.append('0.2')\n",
    "        elif i == 5:\n",
    "            MIC_strings.append('0.4')\n",
    "        elif i == 6:\n",
    "            MIC_strings.append('0.8')\n",
    "        elif i == 7:\n",
    "            MIC_strings.append('1.6')\n",
    "        elif i == 8:\n",
    "            MIC_strings.append('>1.6')   \n",
    "\n",
    "    MIC_calc_df['MIC_final'] = MIC_strings\n",
    "\n",
    "    # joins new MIC classes to CV_train df to replace the variation in MIC values associated\n",
    "    # with mutations with multiple DST_measurements \n",
    "    MIC_calc_df.drop(['MIC_integers','MIC_rounded'], axis =1, inplace = True)\n",
    "    CV_train.set_index('MUTATION', inplace = True)\n",
    "    CV_train = CV_train.join(MIC_calc_df)\n",
    "    CV_train.reset_index(inplace = True)\n",
    "    CV_train.drop(['MIC_VALUES','MIC_integers'], axis = 1, inplace = True)\n",
    "    CV_train.rename(columns = {'index':'MUTATION','MIC_final':'MIC_VALUES'}, inplace = True)\n",
    "    \n",
    "    #removes duplicates and mutation column\n",
    "    CV_train_unique = CV_train.drop_duplicates(subset='MUTATION', keep = 'first')\n",
    "    CV_train_unique.drop(['MUTATION'], axis = 1, inplace = True)\n",
    "\n",
    "    #seperates into unique features and label numpy arrays\n",
    "    features_unique = CV_train_unique[CV_train_unique.columns[:-1]].to_numpy()\n",
    "    label_unique = CV_train_unique['MIC_VALUES']\n",
    "\n",
    "    X_no_duplicates = (features_unique)\n",
    "    y_no_duplicates = (label_unique)\n",
    "    \n",
    "    return (X_no_duplicates, y_no_duplicates)"
   ]
  },
  {
   "cell_type": "code",
   "execution_count": 24,
   "id": "b232eb99",
   "metadata": {},
   "outputs": [
    {
     "name": "stderr",
     "output_type": "stream",
     "text": [
      "C:\\Users\\user\\anaconda3\\lib\\site-packages\\pandas\\core\\frame.py:4906: SettingWithCopyWarning: \n",
      "A value is trying to be set on a copy of a slice from a DataFrame\n",
      "\n",
      "See the caveats in the documentation: https://pandas.pydata.org/pandas-docs/stable/user_guide/indexing.html#returning-a-view-versus-a-copy\n",
      "  return super().drop(\n"
     ]
    }
   ],
   "source": [
    "X_train_nodup, y_train_nodup = remove_duplicate_mutations(X_train, y_train)\n",
    "X_test_nodup, y_test_nodup = remove_duplicate_mutations(X_test, y_test)"
   ]
  },
  {
   "cell_type": "code",
   "execution_count": 25,
   "id": "d976ee33",
   "metadata": {},
   "outputs": [],
   "source": [
    "#split data into training and test sets\n",
    "X_train_cv, X_test_cv, y_train_cv, y_test_cv = train_test_split(X_train_nodup, y_train_nodup,\n",
    "                                                    random_state=0)"
   ]
  },
  {
   "cell_type": "code",
   "execution_count": 26,
   "id": "9733097b",
   "metadata": {},
   "outputs": [],
   "source": [
    "#no preprocessing - therefore, no pipeline\n",
    "#build classifier and parameter grid\n",
    "\n",
    "tree = DecisionTreeClassifier(random_state=0)\n",
    "param_grid = {'max_depth':[2,4,6,8,10,12,14, None], \n",
    "              'min_samples_split':[0.1,0.2,0.3,0.4,0.5,0.6,0.7,0.8,0.9,1.0],\n",
    "              'min_samples_leaf':[0.1,0.2,0.3,0.4,0.5],\n",
    "              'max_features':['auto','sqrt','log2', None]}"
   ]
  },
  {
   "cell_type": "code",
   "execution_count": 27,
   "id": "1bf53dfc",
   "metadata": {},
   "outputs": [
    {
     "name": "stdout",
     "output_type": "stream",
     "text": [
      "grid_kfold_shuffle: best estimator: \n",
      " DecisionTreeClassifier(max_depth=4, min_samples_leaf=0.1, min_samples_split=0.1,\n",
      "                       random_state=0)\n",
      "grid_kfold_shuffle: best cross-validation score:  0.26643678160919537\n",
      "grid_kfold_shuffle: test set average accuracy:  0.16 \n",
      "\n"
     ]
    }
   ],
   "source": [
    "from sklearn.model_selection import KFold\n",
    "#Grid search with kfold cross validation (best cv for logred multiclass classificaiton)\n",
    "Kfold = KFold(n_splits=5)\n",
    "grid_kfold = GridSearchCV(tree, param_grid, cv=Kfold)\n",
    "grid_kfold.fit(X_train_cv, y_train_cv)\n",
    "print ('grid_kfold_shuffle: best estimator: \\n', grid_kfold.best_estimator_)\n",
    "print ('grid_kfold_shuffle: best cross-validation score: ', grid_kfold.best_score_)\n",
    "print ('grid_kfold_shuffle: test set average accuracy: ', \n",
    "       accuracy_score(y_test_cv, grid_kfold.predict(X_test_cv)), '\\n')"
   ]
  },
  {
   "cell_type": "code",
   "execution_count": 28,
   "id": "42bed6df",
   "metadata": {},
   "outputs": [],
   "source": [
    "#define trees with best perfoming parameters, or default parameters\n",
    "tree_best_params = DecisionTreeClassifier(max_depth=2, min_samples_leaf=0.2,\n",
    "                       min_samples_split=0.7, random_state=0)\n",
    "tree_no_params = DecisionTreeClassifier(random_state=0)\n",
    "tree_best_params.fit(X_train_cv, y_train_cv)    \n",
    "tree_no_params.fit(X_train_cv, y_train_cv)\n",
    "\n",
    "#plot charts\n",
    "def plot_feature_importances(model):\n",
    "    n_features = features[:,1:].shape[1]\n",
    "    plt.barh(np.arange(n_features), model.feature_importances_, align='center')\n",
    "    plt.yticks(np.arange(n_features), df.columns[3:])\n",
    "    plt.xlabel('feature importance')\n",
    "    plt.ylabel('feature')\n",
    "    plt.ylim(-1, n_features)\n",
    "    plt.title('Feature importance plot')"
   ]
  },
  {
   "cell_type": "code",
   "execution_count": 29,
   "id": "4ea28f6a",
   "metadata": {},
   "outputs": [
    {
     "data": {
      "image/png": "[encoded data removed]",
      "text/plain": [
       "<Figure size 432x288 with 1 Axes>"
      ]
     },
     "metadata": {
      "needs_background": "light"
     },
     "output_type": "display_data"
    }
   ],
   "source": [
    "plot_feature_importances(tree_no_params)"
   ]
  },
  {
   "cell_type": "code",
   "execution_count": 30,
   "id": "31e060b4",
   "metadata": {},
   "outputs": [
    {
     "data": {
      "image/png": "[encoded data removed]",
      "text/plain": [
       "<Figure size 432x288 with 1 Axes>"
      ]
     },
     "metadata": {
      "needs_background": "light"
     },
     "output_type": "display_data"
    }
   ],
   "source": [
    "plot_feature_importances(tree_best_params)"
   ]
  },
  {
   "cell_type": "code",
   "execution_count": 31,
   "id": "ebf59926",
   "metadata": {},
   "outputs": [
    {
     "name": "stdout",
     "output_type": "stream",
     "text": [
      "\n",
      " confusion matrix: \n",
      " [[ 8  0  0  0  0  0  0  1]\n",
      " [ 4  0  0  0  0  0  0  8]\n",
      " [ 5  0  0  0  0  0  0  8]\n",
      " [ 1  0  0  0  0  0  0  7]\n",
      " [ 1  0  0  0  0  0  0  7]\n",
      " [ 0  0  0  0  0  0  0  4]\n",
      " [ 5  0  0  0  0  0  0  3]\n",
      " [ 2  0  0  0  0  0  0 11]]\n"
     ]
    }
   ],
   "source": [
    "#copy and fit classifier with best parameters from previous section\n",
    "tree = tree_best_params\n",
    "tree.fit(X_train_cv, y_train_cv)                 \n",
    "                 \n",
    "predict = tree.predict(X_test_nodup)\n",
    "#generate confusion matrix\n",
    "confusion = confusion_matrix(y_test_nodup, predict)\n",
    "\n",
    "print ('\\n confusion matrix: \\n', confusion)"
   ]
  },
  {
   "cell_type": "code",
   "execution_count": 32,
   "id": "bacdd2da",
   "metadata": {},
   "outputs": [
    {
     "data": {
      "image/png": "[encoded data removed]",
      "text/plain": [
       "<Figure size 432x288 with 1 Axes>"
      ]
     },
     "metadata": {
      "needs_background": "light"
     },
     "output_type": "display_data"
    }
   ],
   "source": [
    "#generate heatmap of confusion matrix for visualisation\n",
    "\n",
    "import mglearn\n",
    "\n",
    "target_names = MIC_ML_data['MIC_values'].unique().tolist()\n",
    "scores_image = mglearn.tools.heatmap(confusion, xlabel='predicted label',\n",
    "                                     ylabel='true label', xticklabels=target_names,\n",
    "                                     yticklabels=target_names, cmap=plt.cm.gray_r, fmt='%d')\n",
    "plt.title('confusion matrix')\n",
    "plt.gca().invert_yaxis()"
   ]
  },
  {
   "cell_type": "code",
   "execution_count": 33,
   "id": "5d7c18fc",
   "metadata": {},
   "outputs": [
    {
     "name": "stdout",
     "output_type": "stream",
     "text": [
      "              precision    recall  f1-score   support\n",
      "\n",
      "        0.05       0.31      0.89      0.46         9\n",
      "         0.1       1.00      0.00      0.00        12\n",
      "         0.2       1.00      0.00      0.00        13\n",
      "         0.4       1.00      0.00      0.00         8\n",
      "         0.8       1.00      0.00      0.00         8\n",
      "         1.6       1.00      0.00      0.00         4\n",
      "     <=0.025       1.00      0.00      0.00         8\n",
      "        >1.6       0.22      0.85      0.35        13\n",
      "\n",
      "    accuracy                           0.25        75\n",
      "   macro avg       0.82      0.22      0.10        75\n",
      "weighted avg       0.78      0.25      0.12        75\n",
      "\n"
     ]
    }
   ],
   "source": [
    "#generate classification report\n",
    "from sklearn.metrics import classification_report\n",
    "\n",
    "print (classification_report(y_test_nodup, predict, zero_division=True))"
   ]
  },
  {
   "cell_type": "code",
   "execution_count": 34,
   "id": "f72fed39",
   "metadata": {},
   "outputs": [],
   "source": [
    "# will categorise multiclass data into 2 groups\n",
    "def MIC_to_binary(data):\n",
    "    RS_dict = {1:['0.2','0.4','0.8','1.6','>1.6'],\n",
    "           0:['<=0.025','0.05','0.1']}\n",
    "    binary_list = []\n",
    "    for i in data:\n",
    "        for k,v in RS_dict.items():\n",
    "            for j in v:\n",
    "                if i == j:\n",
    "                    binary_list.append(k)\n",
    "\n",
    "    binary_array = np.array(binary_list)\n",
    "    return binary_array"
   ]
  },
  {
   "cell_type": "code",
   "execution_count": 35,
   "id": "8c779680",
   "metadata": {},
   "outputs": [
    {
     "name": "stdout",
     "output_type": "stream",
     "text": [
      "Precision:  0.7551020408163265\n",
      "Sensitivity:  0.8043478260869565\n",
      "Specificity:  0.5862068965517241\n",
      "FPR : 0.4137931034482759\n",
      "very major error : inf\n",
      "major error:  inf\n",
      "\n",
      " confusion matrix: \n",
      " [[17 12]\n",
      " [ 9 37]]\n"
     ]
    },
    {
     "name": "stderr",
     "output_type": "stream",
     "text": [
      "C:\\Users\\user\\AppData\\Local\\Temp/ipykernel_11004/4269136536.py:9: RuntimeWarning: divide by zero encountered in longlong_scalars\n",
      "  very_major_error = (confusion[0][1]/y_test_nodup[y_test_nodup==0].count())*100\n",
      "C:\\Users\\user\\AppData\\Local\\Temp/ipykernel_11004/4269136536.py:10: RuntimeWarning: divide by zero encountered in longlong_scalars\n",
      "  major_error = (confusion[1][0]/y_test_nodup[y_test_nodup==1].count())*100\n"
     ]
    }
   ],
   "source": [
    "#generate confusion matrix\n",
    "confusion = confusion_matrix(MIC_to_binary(y_test_nodup), MIC_to_binary(predict))\n",
    "\n",
    "#calculate precision, sensitivity, specificty, FPR, and errors\n",
    "Precision = (confusion[1][1])/(confusion[1][1]+confusion[0][1])\n",
    "Sensitivity = (confusion[1][1])/(confusion[1][1]+confusion[1][0])\n",
    "Specificity = (confusion[0][0])/(confusion[0][0]+confusion[0][1])\n",
    "FPR = 1-Specificity\n",
    "very_major_error = (confusion[0][1]/y_test_nodup[y_test_nodup==0].count())*100\n",
    "major_error = (confusion[1][0]/y_test_nodup[y_test_nodup==1].count())*100\n",
    "\n",
    "\n",
    "print ('Precision: ', Precision)\n",
    "print ('Sensitivity: ', Sensitivity)\n",
    "print ('Specificity: ', Specificity)\n",
    "print ('FPR :', FPR)\n",
    "print ('very major error :', very_major_error)\n",
    "print ('major error: ', major_error)\n",
    "print ('\\n confusion matrix: \\n', confusion)"
   ]
  },
  {
   "cell_type": "code",
   "execution_count": 36,
   "id": "f83d568f",
   "metadata": {},
   "outputs": [
    {
     "name": "stdout",
     "output_type": "stream",
     "text": [
      "              precision    recall  f1-score   support\n",
      "\n",
      "           0       0.65      0.59      0.62        29\n",
      "           1       0.76      0.80      0.78        46\n",
      "\n",
      "    accuracy                           0.72        75\n",
      "   macro avg       0.70      0.70      0.70        75\n",
      "weighted avg       0.72      0.72      0.72        75\n",
      "\n"
     ]
    }
   ],
   "source": [
    "print (classification_report(MIC_to_binary(y_test_nodup), MIC_to_binary(predict)))"
   ]
  }
 ],
 "metadata": {
  "kernelspec": {
   "display_name": "Python 3 (ipykernel)",
   "language": "python",
   "name": "python3"
  },
  "language_info": {
   "codemirror_mode": {
    "name": "ipython",
    "version": 3
   },
   "file_extension": ".py",
   "mimetype": "text/x-python",
   "name": "python",
   "nbconvert_exporter": "python",
   "pygments_lexer": "ipython3",
   "version": "3.8.12"
  }
 },
 "nbformat": 4,
 "nbformat_minor": 5
}
