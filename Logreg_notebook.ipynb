{
 "cells": [
  {
   "cell_type": "code",
   "execution_count": 1,
   "id": "761e2cf4",
   "metadata": {},
   "outputs": [],
   "source": [
    "import pandas as pd\n",
    "import numpy as np\n",
    "pd.options.display.max_columns = 999\n",
    "ML_data = pd.read_csv('ML_data.csv')"
   ]
  },
  {
   "cell_type": "code",
   "execution_count": 2,
   "id": "16dc3b21",
   "metadata": {},
   "outputs": [],
   "source": [
    "df = ML_data[['METHOD_MIC','MUT_RESISTANCE','Site1_Distance','d_volume','d_MW',\t\\\n",
    "              'd_hydropathy', 'd_Pi', 'Depth']]\n",
    "\n",
    "# creates features numpy array\n",
    "features = df[df.columns[2:]].to_numpy()\n",
    "\n",
    "#creates resistance label column\n",
    "label = df['MUT_RESISTANCE'].to_numpy()"
   ]
  },
  {
   "cell_type": "code",
   "execution_count": 3,
   "id": "41ae8a08",
   "metadata": {},
   "outputs": [],
   "source": [
    "from sklearn.linear_model import LogisticRegression\n",
    "from sklearn.preprocessing import MinMaxScaler, StandardScaler, RobustScaler\n",
    "from sklearn.pipeline import Pipeline\n",
    "from sklearn.model_selection import train_test_split, KFold, GridSearchCV\n",
    "from sklearn.metrics import accuracy_score, average_precision_score, roc_auc_score\n",
    "\n",
    "#create logistic regression pipeline with preprocessing \n",
    "pipe = Pipeline([('preprocessing', StandardScaler()), ('classifier', LogisticRegression(max_iter=10000))])\n",
    "#create parameter grid with different preprocessing and classifier parameters\n",
    "param_grid = {'preprocessing':[StandardScaler(), MinMaxScaler(), RobustScaler(), None],\n",
    "              'classifier__C': [0.01, 0.1, 1, 10, 100]}\n",
    "\n",
    "#split data into training and test sets\n",
    "X_train1, X_test, y_train1, y_test = train_test_split(features, label,\n",
    "                                                    random_state=0)"
   ]
  },
  {
   "cell_type": "code",
   "execution_count": 4,
   "id": "55981b48",
   "metadata": {},
   "outputs": [
    {
     "name": "stderr",
     "output_type": "stream",
     "text": [
      "C:\\Users\\user\\anaconda3\\lib\\site-packages\\pandas\\core\\frame.py:4906: SettingWithCopyWarning: \n",
      "A value is trying to be set on a copy of a slice from a DataFrame\n",
      "\n",
      "See the caveats in the documentation: https://pandas.pydata.org/pandas-docs/stable/user_guide/indexing.html#returning-a-view-versus-a-copy\n",
      "  return super().drop(\n"
     ]
    }
   ],
   "source": [
    "# creates features and label dfs from unique mutations in the training split\n",
    "\n",
    "#converts long X_train and y_train to pd df to join\n",
    "X_train_df = pd.DataFrame(X_train1)\n",
    "y_train_df = pd.DataFrame(y_train1)\n",
    "y_train_df.rename(columns = {0:'MUT_RESISTANCE'}, inplace = True)\n",
    "CV_train = X_train_df.join(y_train_df,  how = 'inner')\n",
    "\n",
    "#adds mutation column to df so rows can be identified by mutation\n",
    "mutation_index_s = ML_data['MUTATION']\n",
    "mutation_index_pd = pd.Series(mutation_index_s)\n",
    "mutation_index = mutation_index_pd.to_frame()\n",
    "CV_training_and_mutations = CV_train.join(mutation_index, how = 'inner')\n",
    "\n",
    "#removes duplicates and mutation column\n",
    "CV_train_unique = CV_training_and_mutations.drop_duplicates(subset='MUTATION', keep = 'first')\n",
    "CV_train_unique.drop(['MUTATION'], axis = 1, inplace = True)\n",
    "\n",
    "#seperates into unique features and label numpy arrays\n",
    "features_unique = CV_train_unique[CV_train_unique.columns[:-1]].to_numpy()\n",
    "label_unique = CV_train_unique['MUT_RESISTANCE']\n",
    "\n",
    "X_train = (features_unique)\n",
    "y_train = (label_unique)"
   ]
  },
  {
   "cell_type": "code",
   "execution_count": 5,
   "id": "aaffa145",
   "metadata": {},
   "outputs": [
    {
     "name": "stdout",
     "output_type": "stream",
     "text": [
      "grid_strat: best estimator: \n",
      " Pipeline(steps=[('preprocessing', RobustScaler()),\n",
      "                ('classifier', LogisticRegression(C=0.01, max_iter=10000))])\n",
      "grid_strat: best cross-validation score : 0.9715284715284715 \n",
      "\n",
      "grid_strat: test set average accuracy : 0.9657193085262232\n"
     ]
    }
   ],
   "source": [
    "#Grid search with stratified cross validation\n",
    "grid_strat = GridSearchCV(pipe, param_grid, cv=5)\n",
    "grid_strat.fit(X_train, y_train)\n",
    "print ('grid_strat: best estimator: \\n', grid_strat.best_estimator_)\n",
    "print ('grid_strat: best cross-validation score :', grid_strat.best_score_, '\\n')\n",
    "print ('grid_strat: test set average accuracy :', \n",
    "       accuracy_score(y_test, grid_strat.predict(X_test)))"
   ]
  },
  {
   "cell_type": "code",
   "execution_count": 6,
   "id": "8dec8b2b",
   "metadata": {},
   "outputs": [
    {
     "name": "stdout",
     "output_type": "stream",
     "text": [
      "grid_kfold: best estimator: \n",
      " Pipeline(steps=[('preprocessing', RobustScaler()),\n",
      "                ('classifier', LogisticRegression(C=0.01, max_iter=10000))])\n",
      "grid_kfold: best cross-validation score : 0.9688977688977689 \n",
      "\n",
      "grid_kfold: test set average accuracy : 0.9657193085262232\n"
     ]
    }
   ],
   "source": [
    "#Grid search with kfold cross validation\n",
    "Kfold = KFold(n_splits=5)\n",
    "grid_kfold = GridSearchCV(pipe, param_grid, cv=Kfold)\n",
    "grid_kfold.fit(X_train, y_train)\n",
    "print ('grid_kfold: best estimator: \\n', grid_kfold.best_estimator_)\n",
    "print ('grid_kfold: best cross-validation score :', grid_kfold.best_score_, '\\n')\n",
    "print ('grid_kfold: test set average accuracy :', \n",
    "       accuracy_score(y_test, grid_kfold.predict(X_test)))"
   ]
  },
  {
   "cell_type": "code",
   "execution_count": 7,
   "id": "e5349cf7",
   "metadata": {},
   "outputs": [
    {
     "name": "stdout",
     "output_type": "stream",
     "text": [
      "grid_kfold_shuffle: best estimator: \n",
      " Pipeline(steps=[('preprocessing', RobustScaler()),\n",
      "                ('classifier', LogisticRegression(C=0.1, max_iter=10000))])\n",
      "grid_kfold_shuffle: best cross-validation score:  0.968997668997669\n",
      "grid_kfold_shuffle: test set average accuracy:  0.9645473190741284 \n",
      "\n"
     ]
    }
   ],
   "source": [
    "#Search with shuffled cross validation\n",
    "Kfold_shuffle=KFold(n_splits=5, shuffle=True, random_state=0)\n",
    "grid_kfold_shuffle = GridSearchCV(pipe, param_grid, cv=Kfold_shuffle)\n",
    "grid_kfold_shuffle.fit(X_train, y_train)\n",
    "print ('grid_kfold_shuffle: best estimator: \\n', grid_kfold_shuffle.best_estimator_)\n",
    "print ('grid_kfold_shuffle: best cross-validation score: ', grid_kfold_shuffle.best_score_)\n",
    "print ('grid_kfold_shuffle: test set average accuracy: ', \n",
    "       accuracy_score(y_test, grid_kfold_shuffle.predict(X_test)), '\\n')"
   ]
  },
  {
   "cell_type": "code",
   "execution_count": 8,
   "id": "99a60926",
   "metadata": {},
   "outputs": [
    {
     "name": "stdout",
     "output_type": "stream",
     "text": [
      "grid_strat: best estimator: \n",
      " Pipeline(steps=[('preprocessing', RobustScaler()),\n",
      "                ('classifier', LogisticRegression(C=0.01, max_iter=10000))])\n",
      "grid_strat: best cross-validation score:  0.9994473622639275\n",
      "grid_strat: test set average precision:  0.999021575251239 \n",
      "\n"
     ]
    }
   ],
   "source": [
    "#Grid search with with stratified cross validation\n",
    "#use decision function to calculate average_precision\n",
    "grid_strat = GridSearchCV(pipe, param_grid, cv=5, scoring='average_precision')\n",
    "grid_strat.fit(X_train, y_train)\n",
    "print ('grid_strat: best estimator: \\n', grid_strat.best_estimator_)\n",
    "print ('grid_strat: best cross-validation score: ', grid_strat.best_score_)                  \n",
    "print ('grid_strat: test set average precision: ', \n",
    "       average_precision_score(y_test, grid_strat.decision_function(X_test)), '\\n')"
   ]
  },
  {
   "cell_type": "code",
   "execution_count": 9,
   "id": "1e6fb942",
   "metadata": {},
   "outputs": [
    {
     "name": "stdout",
     "output_type": "stream",
     "text": [
      "grid_kfold: best estimator: \n",
      " Pipeline(steps=[('preprocessing', StandardScaler()),\n",
      "                ('classifier', LogisticRegression(C=10, max_iter=10000))])\n",
      "grid_kfold: best cross-validation score:  0.999394311176274\n",
      "grid_kfold test set average precision:  0.9992606958597934 \n",
      "\n"
     ]
    }
   ],
   "source": [
    "#Grid search with with kfold cross validation\n",
    "#use decision function to calculate average_precision\n",
    "kfold = KFold(n_splits=5)\n",
    "grid_kfold = GridSearchCV(pipe, param_grid, cv=kfold, scoring='average_precision')\n",
    "grid_kfold.fit(X_train, y_train)\n",
    "print ('grid_kfold: best estimator: \\n', grid_kfold.best_estimator_)\n",
    "print ('grid_kfold: best cross-validation score: ', grid_kfold.best_score_)                  \n",
    "print ('grid_kfold test set average precision: ', \n",
    "       average_precision_score(y_test, grid_kfold.decision_function(X_test)), '\\n')"
   ]
  },
  {
   "cell_type": "code",
   "execution_count": 10,
   "id": "d6902d6c",
   "metadata": {},
   "outputs": [
    {
     "name": "stdout",
     "output_type": "stream",
     "text": [
      "grid_kfold_shuffle: best estimator: \n",
      " Pipeline(steps=[('preprocessing', MinMaxScaler()),\n",
      "                ('classifier', LogisticRegression(C=100, max_iter=10000))])\n",
      "grid_kfold_shuffle: best cross-validation score:  0.9995574930861384\n",
      "grid_kfold_shuffle test set average precision:  0.9992941613952065 \n",
      "\n"
     ]
    }
   ],
   "source": [
    "#Grid search with with shuffled cross validation\n",
    "#use decision function to calculate average_precision\n",
    "kfold_shuffle = KFold(n_splits=5, shuffle=True, random_state=0)\n",
    "grid_kfold_shuffle = GridSearchCV(pipe, param_grid, cv=kfold_shuffle, scoring='average_precision')\n",
    "grid_kfold_shuffle.fit(X_train, y_train)\n",
    "print ('grid_kfold_shuffle: best estimator: \\n', grid_kfold_shuffle.best_estimator_)\n",
    "print ('grid_kfold_shuffle: best cross-validation score: ', grid_kfold_shuffle.best_score_)                  \n",
    "print ('grid_kfold_shuffle test set average precision: ', \n",
    "       average_precision_score(y_test, grid_kfold_shuffle.decision_function(X_test)), '\\n')"
   ]
  },
  {
   "cell_type": "code",
   "execution_count": 11,
   "id": "2dc3ed5f",
   "metadata": {},
   "outputs": [
    {
     "name": "stdout",
     "output_type": "stream",
     "text": [
      "grid_strat: best estimator: \n",
      " Pipeline(steps=[('preprocessing', RobustScaler()),\n",
      "                ('classifier', LogisticRegression(C=100, max_iter=10000))])\n",
      "grid_strat: best cross-validation score:  0.9909056316590563\n",
      "grid_strat: test set AUC:  0.9828628781921277 \n",
      "\n"
     ]
    }
   ],
   "source": [
    "#Grid search with with stratified cross validation\n",
    "#use decision function to calculate AUC\n",
    "\n",
    "grid_strat = GridSearchCV(pipe, param_grid, cv=5, scoring='roc_auc')\n",
    "grid_strat.fit(X_train, y_train)\n",
    "print ('grid_strat: best estimator: \\n', grid_strat.best_estimator_)\n",
    "print ('grid_strat: best cross-validation score: ', grid_strat.best_score_)                  \n",
    "print ('grid_strat: test set AUC: ', \n",
    "       roc_auc_score(y_test, grid_strat.decision_function(X_test)), '\\n')"
   ]
  },
  {
   "cell_type": "code",
   "execution_count": 12,
   "id": "19a05549",
   "metadata": {},
   "outputs": [
    {
     "name": "stdout",
     "output_type": "stream",
     "text": [
      "grid_kfold: best estimator: \n",
      " Pipeline(steps=[('preprocessing', RobustScaler()),\n",
      "                ('classifier', LogisticRegression(C=0.1, max_iter=10000))])\n",
      "grid_kfold: best cross-validation score:  0.9907812371303846\n",
      "grid_kfold test set AUC:  0.9845142999048053 \n",
      "\n"
     ]
    }
   ],
   "source": [
    "#Grid search with with kfold cross validation\n",
    "#use decision function to calculate AUC\n",
    "kfold = KFold(n_splits=5)\n",
    "grid_kfold = GridSearchCV(pipe, param_grid, cv=kfold, scoring='roc_auc')\n",
    "grid_kfold.fit(X_train, y_train)\n",
    "print ('grid_kfold: best estimator: \\n', grid_kfold.best_estimator_)\n",
    "print ('grid_kfold: best cross-validation score: ', grid_kfold.best_score_)                  \n",
    "print ('grid_kfold test set AUC: ', \n",
    "       roc_auc_score(y_test, grid_kfold.decision_function(X_test)), '\\n')"
   ]
  },
  {
   "cell_type": "code",
   "execution_count": 13,
   "id": "4d3a6db4",
   "metadata": {},
   "outputs": [
    {
     "name": "stdout",
     "output_type": "stream",
     "text": [
      "grid_kfold_shuffle: best estimator: \n",
      " Pipeline(steps=[('preprocessing', StandardScaler()),\n",
      "                ('classifier', LogisticRegression(C=10, max_iter=10000))])\n",
      "grid_kfold_shuffle: best cross-validation score:  0.9922624664023468\n",
      "grid_kfold_shuffle test set AUC:  0.9835561441993295 \n",
      "\n"
     ]
    }
   ],
   "source": [
    "#Grid search with with shuffled kfold cross validation\n",
    "#use decision function to calculate AUC\n",
    "kfold_shuffle = KFold(n_splits=5, shuffle=True, random_state=0)\n",
    "grid_kfold_shuffle = GridSearchCV(pipe, param_grid, cv=kfold_shuffle, scoring='roc_auc')\n",
    "grid_kfold_shuffle.fit(X_train, y_train)\n",
    "print ('grid_kfold_shuffle: best estimator: \\n', grid_kfold_shuffle.best_estimator_)\n",
    "print ('grid_kfold_shuffle: best cross-validation score: ', grid_kfold_shuffle.best_score_)                  \n",
    "print ('grid_kfold_shuffle test set AUC: ', \n",
    "       roc_auc_score(y_test, grid_kfold_shuffle.decision_function(X_test)), '\\n')"
   ]
  },
  {
   "cell_type": "code",
   "execution_count": 22,
   "id": "7eb351e2",
   "metadata": {},
   "outputs": [
    {
     "name": "stdout",
     "output_type": "stream",
     "text": [
      "[0.95860247 0.95859031 0.95887192 0.95915369 0.96       0.96056504\n",
      " 0.96141384 0.96169711 0.96198055 0.96226415 0.96224189 0.96223075\n",
      " 0.96308328 0.96306147 0.96305055 0.9633353  0.96362023 0.96390533\n",
      " 0.96419059 0.96447602 0.9644655  0.96475118 0.96474074 0.96502667\n",
      " 0.96500593 0.96499555 0.9652819  0.96556842 0.96585511 0.9667162\n",
      " 0.96700357 0.96757882 0.96756918 0.96755952 0.96784757 0.967838\n",
      " 0.96841478 0.96840537 0.9686941  0.96868476 0.96897375 0.96926291\n",
      " 0.96925373 0.96924455 0.96953405 0.96952495 0.9698147  0.96980568\n",
      " 0.96979665 0.97008675 0.97006884 0.97035928 0.9706499  0.9706411\n",
      " 0.97060588 0.97089709 0.97118848 0.97117983 0.97147147 0.97557298\n",
      " 0.97556561 0.97555824 0.9758527  0.97578692 0.97577226 0.97636364\n",
      " 0.97665959 0.97695573 0.97694874 0.97694175 0.97693475 0.97692775\n",
      " 0.97722442 0.97720365 0.97750076 0.97779805 0.97869102 0.97867804\n",
      " 0.97897623 0.97896983 0.97926829 0.97956694 0.97956071 0.97985963\n",
      " 0.98015873 0.98014661 0.98014054 0.9804401  0.98043412 0.98042215\n",
      " 0.98041016 0.98071035 0.98070444 0.98069261 0.9806867  0.98098743\n",
      " 0.98128834 0.98158944 0.9821922  0.98249386 0.98248848 0.98279041\n",
      " 0.98277983 0.98308213 0.98338462 0.9833795  0.98398522 0.98398028\n",
      " 0.98428351 0.98458693 0.98519432 0.9854983  0.98580247 0.98579809\n",
      " 0.98610253 0.98640717 0.98639876 0.98639456 0.98638193 0.98668731\n",
      " 0.98668318 0.98667493 0.9866708  0.98697674 0.9869727  0.98696057\n",
      " 0.98726708 0.98726313 0.98725917 0.98848787 0.98848428 0.9884807\n",
      " 0.98847711 0.98847352 0.98846993 0.98846633 0.98877456 0.98908297\n",
      " 0.98906592 0.9890625  0.98905908 0.98998748 0.99029734 0.99091763\n",
      " 0.99122807 0.99122257 0.99121982 0.99121431 0.99152542 0.99214824\n",
      " 0.99214577 0.99214331 0.99307958 0.99339207 0.99338583 0.99401198\n",
      " 0.99401009 0.9940082  0.99432177 0.99431997 0.99431818 0.99431459\n",
      " 0.994311   0.9943092  0.9943074  0.99462196 0.99462025 0.99525016\n",
      " 0.99524715 0.9955626  0.99556119 0.99555838 0.99555273 0.99586908\n",
      " 0.99586777 0.99618442 0.99618321 0.99618199 0.99618078 0.99649793\n",
      " 0.9964957  0.99649458 0.99649235 0.99649123 0.99649011 0.99648899\n",
      " 0.99680715 0.99680613 0.99680511 0.99680409 0.99680307 0.99680205\n",
      " 0.9968     0.99711908 0.99775785 0.99775497 0.99775425 0.99775353\n",
      " 0.99807384 0.99807322 0.99871465 0.99903568 0.99903506 0.9993565\n",
      " 0.99935629 1.         1.         1.         1.         1.\n",
      " 1.         1.         1.        ]\n"
     ]
    },
    {
     "data": {
      "image/png": "[encoded data removed]",
      "text/plain": [
       "<Figure size 432x288 with 1 Axes>"
      ]
     },
     "metadata": {
      "needs_background": "light"
     },
     "output_type": "display_data"
    }
   ],
   "source": [
    "#use best preprocessing (standard scaler) and parameters (c=100) for av. precision\n",
    "from sklearn.metrics import precision_recall_curve\n",
    "from matplotlib import pyplot as plt\n",
    "import numpy as np\n",
    "\n",
    "pipe = Pipeline([('preprocessing', StandardScaler()), \n",
    "                ('classifier', LogisticRegression(C=100, max_iter=10000))])\n",
    "    \n",
    "pipe.fit(X_train, y_train)\n",
    "predict = (pipe.decision_function(X_test))\n",
    "\n",
    "precision, recall, thresholds = precision_recall_curve(y_test, predict)\n",
    "\n",
    "plt.plot(precision, recall, label='LogReg')\n",
    "close_zero = np.argmin(np.abs(thresholds))\n",
    "plt.plot(precision[close_zero], recall[close_zero], '^', c='k', \n",
    "              markersize=10, label='threshold zero ', fillstyle='none', mew=2)\n",
    "plt.xlabel('precision')\n",
    "plt.ylabel('recall')\n",
    "plt.legend(loc='best')\n",
    "plt.title('Precision-recall curve for logistic regression (StandardScaler(), C=100)')\n",
    "    \n",
    "print(precision)"
   ]
  },
  {
   "cell_type": "code",
   "execution_count": 23,
   "id": "67a3780c",
   "metadata": {},
   "outputs": [
    {
     "data": {
      "text/plain": [
       "Text(0.5, 1.0, 'ROC curve for logistic regression (StandardScaler(), C=100)')"
      ]
     },
     "execution_count": 23,
     "metadata": {},
     "output_type": "execute_result"
    },
    {
     "data": {
      "image/png": "[encoded data removed]",
      "text/plain": [
       "<Figure size 432x288 with 1 Axes>"
      ]
     },
     "metadata": {
      "needs_background": "light"
     },
     "output_type": "display_data"
    }
   ],
   "source": [
    "#use best preprocessing (standard scaler) and parameters (c=100) for av. precision\n",
    "from sklearn.metrics import roc_curve\n",
    "\n",
    "fpr, tpr, thresholds = roc_curve(y_test, pipe.decision_function(X_test))\n",
    "\n",
    "plt.plot(fpr, tpr, label='LogReg')\n",
    "close_zero = np.argmin(np.abs(thresholds))\n",
    "plt.plot(fpr[close_zero], tpr[close_zero], '^', c='k',\n",
    "         markersize=10, label=' threshold zero', fillstyle='none', mew=2)\n",
    "plt.xlabel('FPR')\n",
    "plt.ylabel('TPR')\n",
    "plt.legend(loc='best')\n",
    "plt.title('ROC curve for logistic regression (StandardScaler(), C=100)')"
   ]
  },
  {
   "cell_type": "code",
   "execution_count": 28,
   "id": "cc811d9d",
   "metadata": {},
   "outputs": [
    {
     "name": "stdout",
     "output_type": "stream",
     "text": [
      "Precision:  0.9854983029929034\n",
      "Sensitivity:  0.9782542113323124\n",
      "Specificity:  0.6824324324324325\n",
      "FPR : 0.31756756756756754\n",
      "\n",
      " confusion matrix: \n",
      " [[ 101   47]\n",
      " [  71 3194]]\n"
     ]
    }
   ],
   "source": [
    "#confusion matrix (StandardScaler, C=100)\n",
    "\n",
    "from sklearn.metrics import confusion_matrix\n",
    "\n",
    "#build and fit pipieline\n",
    "pipe = Pipeline([('preprocessing', StandardScaler()), \n",
    "                 ('classifier', LogisticRegression(C=100, max_iter=10000))])\n",
    "\n",
    "pipe.fit(X_train, y_train)\n",
    "predict = pipe.predict(X_test).astype(int)\n",
    "\n",
    "#generate confusion matrix\n",
    "confusion = confusion_matrix(y_test, predict)\n",
    "\n",
    "#calculate precision, sensitivity, specifcity, FPR, erros\n",
    "Precision = (confusion[1][1])/(confusion[1][1]+confusion[0][1])\n",
    "Sensitivity = (confusion[1][1])/(confusion[1][1]+confusion[1][0])\n",
    "Specificity = (confusion[0][0])/(confusion[0][0]+confusion[0][1])\n",
    "FPR = 1-Specificity\n",
    "#very_major_error = (confusion[0][1]/y_test[y_test==0].count())*100\n",
    "#major_error = (confusion[1][0]/y_test[y_test==1].count())*100\n",
    "\n",
    "\n",
    "print ('Precision: ', Precision)\n",
    "print ('Sensitivity: ', Sensitivity)\n",
    "print ('Specificity: ', Specificity)\n",
    "print ('FPR :', FPR)\n",
    "#print ('very major error :', very_major_error)\n",
    "#print ('major error: ', major_error)\n",
    "print ('\\n confusion matrix: \\n', confusion)"
   ]
  },
  {
   "cell_type": "code",
   "execution_count": null,
   "id": "8dff1a54",
   "metadata": {},
   "outputs": [],
   "source": []
  }
 ],
 "metadata": {
  "kernelspec": {
   "display_name": "Python 3 (ipykernel)",
   "language": "python",
   "name": "python3"
  },
  "language_info": {
   "codemirror_mode": {
    "name": "ipython",
    "version": 3
   },
   "file_extension": ".py",
   "mimetype": "text/x-python",
   "name": "python",
   "nbconvert_exporter": "python",
   "pygments_lexer": "ipython3",
   "version": "3.8.12"
  }
 },
 "nbformat": 4,
 "nbformat_minor": 5
}
