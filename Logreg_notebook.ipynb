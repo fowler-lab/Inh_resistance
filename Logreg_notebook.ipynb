{
 "cells": [
  {
   "cell_type": "code",
   "execution_count": 1,
   "id": "65bb9c76",
   "metadata": {},
   "outputs": [],
   "source": [
    "import pandas as pd\n",
    "import numpy as np\n",
    "pd.options.display.max_columns = 999\n",
    "ML_data = pd.read_csv('ML_data.csv')\n",
    "import sklearn\n",
    "from sklearn.linear_model import LogisticRegression\n",
    "from sklearn.model_selection import train_test_split\n",
    "import matplotlib.pyplot as plt\n",
    "import seaborn as sns\n",
    "from sklearn import metrics\n",
    "import numpy as np\n",
    "from sklearn.model_selection import cross_val_score\n",
    "from sklearn.model_selection import ShuffleSplit"
   ]
  },
  {
   "cell_type": "code",
   "execution_count": 2,
   "id": "88c01151",
   "metadata": {},
   "outputs": [],
   "source": [
    "df = ML_data[['METHOD_MIC','MUT_RESISTANCE','MUTATION','Site1_Distance','d_volume','d_MW',\t\\\n",
    "              'd_hydropathy', 'd_Pi', 'Depth']]\n",
    "\n",
    "# creates features numpy array\n",
    "features = df[df.columns[2:]].to_numpy()\n",
    "\n",
    "#creates resistance label column\n",
    "label = df['MUT_RESISTANCE'].to_numpy()"
   ]
  },
  {
   "cell_type": "code",
   "execution_count": 3,
   "id": "544838ae",
   "metadata": {},
   "outputs": [],
   "source": [
    "from sklearn.linear_model import LogisticRegression\n",
    "from sklearn.preprocessing import MinMaxScaler, StandardScaler, RobustScaler\n",
    "from sklearn.pipeline import Pipeline\n",
    "from sklearn.model_selection import train_test_split, KFold, GridSearchCV\n",
    "from sklearn.metrics import accuracy_score, average_precision_score, roc_auc_score\n",
    "\n",
    "#create logistic regression pipeline with preprocessing \n",
    "pipe = Pipeline([('preprocessing', StandardScaler()), ('classifier', LogisticRegression(max_iter=10000))])\n",
    "#create parameter grid with different preprocessing and classifier parameters\n",
    "param_grid = {'preprocessing':[StandardScaler(), MinMaxScaler(), RobustScaler(), None],\n",
    "              'classifier__C': [0.01, 0.1, 1, 10, 100]}\n",
    "\n",
    "#split data into training and test sets\n",
    "X_train, X_test, y_train, y_test = train_test_split(features, label,\n",
    "                                                    random_state=0)"
   ]
  },
  {
   "cell_type": "code",
   "execution_count": 4,
   "id": "a0f88985",
   "metadata": {},
   "outputs": [],
   "source": [
    "# creates features and label dfs from unique mutations\n",
    "def remove_duplicate_mutations(X_dataset, y_dataset):\n",
    "\n",
    "    #converts long X_train and y_train to pd df to join\n",
    "    X_train_df = pd.DataFrame(X_dataset)\n",
    "    X_train_df.rename(columns = {0:'MUTATION'}, inplace = True)\n",
    "    y_train_df = pd.DataFrame(y_dataset)\n",
    "    y_train_df.rename(columns = {0:'MUT_RESISTANCE'}, inplace = True)\n",
    "\n",
    "    CV_train = X_train_df.join(y_train_df,  how = 'inner')\n",
    "\n",
    "    #removes duplicates and mutation column\n",
    "    CV_train_unique = CV_train.drop_duplicates(subset='MUTATION', keep = 'first')\n",
    "    CV_train_unique.drop(['MUTATION'], axis = 1, inplace = True)\n",
    "\n",
    "    #seperates into unique features and label numpy arrays\n",
    "    features_unique = CV_train_unique[CV_train_unique.columns[:-1]].to_numpy()\n",
    "    label_unique = CV_train_unique['MUT_RESISTANCE']\n",
    "\n",
    "    X_no_duplicates = (features_unique)\n",
    "    y_no_duplicates = (label_unique)\n",
    "    \n",
    "    return (X_no_duplicates, y_no_duplicates)"
   ]
  },
  {
   "cell_type": "code",
   "execution_count": 5,
   "id": "10dad179",
   "metadata": {},
   "outputs": [
    {
     "name": "stderr",
     "output_type": "stream",
     "text": [
      "C:\\Users\\user\\anaconda3\\lib\\site-packages\\pandas\\core\\frame.py:4906: SettingWithCopyWarning: \n",
      "A value is trying to be set on a copy of a slice from a DataFrame\n",
      "\n",
      "See the caveats in the documentation: https://pandas.pydata.org/pandas-docs/stable/user_guide/indexing.html#returning-a-view-versus-a-copy\n",
      "  return super().drop(\n"
     ]
    }
   ],
   "source": [
    "X_train_nodup, y_train_nodup = remove_duplicate_mutations(X_train, y_train)\n",
    "X_test_nodup, y_test_nodup = remove_duplicate_mutations(X_test, y_test)"
   ]
  },
  {
   "cell_type": "code",
   "execution_count": 6,
   "id": "dddbb591",
   "metadata": {},
   "outputs": [],
   "source": [
    "#split data into training and test sets\n",
    "X_train_cv, X_test_cv, y_train_cv, y_test_cv = train_test_split(X_train_nodup, y_train_nodup,\n",
    "                                                    random_state=0)"
   ]
  },
  {
   "cell_type": "code",
   "execution_count": 7,
   "id": "a48ec91f",
   "metadata": {},
   "outputs": [
    {
     "name": "stdout",
     "output_type": "stream",
     "text": [
      "grid_strat: best estimator: \n",
      " Pipeline(steps=[('preprocessing', MinMaxScaler()),\n",
      "                ('classifier', LogisticRegression(C=0.1, max_iter=10000))])\n",
      "grid_strat: best cross-validation score : 0.6635206321334504 \n",
      "\n",
      "grid_strat: test set average accuracy : 0.7280701754385965\n"
     ]
    }
   ],
   "source": [
    "#Grid search with stratified cross validation\n",
    "grid_strat = GridSearchCV(pipe, param_grid, cv=5)\n",
    "grid_strat.fit(X_train_cv, y_train_cv)\n",
    "print ('grid_strat: best estimator: \\n', grid_strat.best_estimator_)\n",
    "print ('grid_strat: best cross-validation score :', grid_strat.best_score_, '\\n')\n",
    "print ('grid_strat: test set average accuracy :', \n",
    "       accuracy_score(y_test_cv, grid_strat.predict(X_test_cv)))"
   ]
  },
  {
   "cell_type": "code",
   "execution_count": 8,
   "id": "d6dc5606",
   "metadata": {},
   "outputs": [
    {
     "name": "stdout",
     "output_type": "stream",
     "text": [
      "grid_kfold: best estimator: \n",
      " Pipeline(steps=[('preprocessing', MinMaxScaler()),\n",
      "                ('classifier', LogisticRegression(C=0.1, max_iter=10000))])\n",
      "grid_kfold: best cross-validation score : 0.6459174714661984 \n",
      "\n",
      "grid_kfold: test set average accuracy : 0.7280701754385965\n"
     ]
    }
   ],
   "source": [
    "#Grid search with kfold cross validation\n",
    "Kfold = KFold(n_splits=5)\n",
    "grid_kfold = GridSearchCV(pipe, param_grid, cv=Kfold)\n",
    "grid_kfold.fit(X_train_cv, y_train_cv)\n",
    "print ('grid_kfold: best estimator: \\n', grid_kfold.best_estimator_)\n",
    "print ('grid_kfold: best cross-validation score :', grid_kfold.best_score_, '\\n')\n",
    "print ('grid_kfold: test set average accuracy :', \n",
    "       accuracy_score(y_test_cv, grid_kfold.predict(X_test_cv)))"
   ]
  },
  {
   "cell_type": "code",
   "execution_count": 9,
   "id": "2aff15ea",
   "metadata": {},
   "outputs": [
    {
     "name": "stdout",
     "output_type": "stream",
     "text": [
      "grid_kfold_shuffle: best estimator: \n",
      " Pipeline(steps=[('preprocessing', None),\n",
      "                ('classifier', LogisticRegression(C=1, max_iter=10000))])\n",
      "grid_kfold_shuffle: best cross-validation score:  0.6725636523266023\n",
      "grid_kfold_shuffle: test set average accuracy:  0.7105263157894737 \n",
      "\n"
     ]
    }
   ],
   "source": [
    "#Search with shuffled cross validation\n",
    "Kfold_shuffle=KFold(n_splits=5, shuffle=True, random_state=0)\n",
    "grid_kfold_shuffle = GridSearchCV(pipe, param_grid, cv=Kfold_shuffle)\n",
    "grid_kfold_shuffle.fit(X_train_cv, y_train_cv)\n",
    "print ('grid_kfold_shuffle: best estimator: \\n', grid_kfold_shuffle.best_estimator_)\n",
    "print ('grid_kfold_shuffle: best cross-validation score: ', grid_kfold_shuffle.best_score_)\n",
    "print ('grid_kfold_shuffle: test set average accuracy: ', \n",
    "       accuracy_score(y_test_cv, grid_kfold_shuffle.predict(X_test_cv)), '\\n')"
   ]
  },
  {
   "cell_type": "code",
   "execution_count": 10,
   "id": "c26ed576",
   "metadata": {},
   "outputs": [
    {
     "name": "stdout",
     "output_type": "stream",
     "text": [
      "grid_strat: best estimator: \n",
      " Pipeline(steps=[('preprocessing', MinMaxScaler()),\n",
      "                ('classifier', LogisticRegression(C=0.01, max_iter=10000))])\n",
      "grid_strat: best cross-validation score:  0.7074536570409979\n",
      "grid_strat: test set average precision:  0.7550762595469437 \n",
      "\n"
     ]
    }
   ],
   "source": [
    "#Grid search with with stratified cross validation\n",
    "#use decision function to calculate average_precision\n",
    "grid_strat = GridSearchCV(pipe, param_grid, cv=5, scoring='average_precision')\n",
    "grid_strat.fit(X_train_cv, y_train_cv)\n",
    "print ('grid_strat: best estimator: \\n', grid_strat.best_estimator_)\n",
    "print ('grid_strat: best cross-validation score: ', grid_strat.best_score_)                  \n",
    "print ('grid_strat: test set average precision: ', \n",
    "       average_precision_score(y_test_cv, grid_strat.decision_function(X_test_cv)), '\\n')"
   ]
  },
  {
   "cell_type": "code",
   "execution_count": 11,
   "id": "cdbc429a",
   "metadata": {},
   "outputs": [
    {
     "name": "stdout",
     "output_type": "stream",
     "text": [
      "grid_kfold: best estimator: \n",
      " Pipeline(steps=[('preprocessing', RobustScaler()),\n",
      "                ('classifier', LogisticRegression(C=0.1, max_iter=10000))])\n",
      "grid_kfold: best cross-validation score:  0.7130821481395955\n",
      "grid_kfold test set average precision:  0.7550821658208867 \n",
      "\n"
     ]
    }
   ],
   "source": [
    "#Grid search with with kfold cross validation\n",
    "#use decision function to calculate average_precision\n",
    "kfold = KFold(n_splits=5)\n",
    "grid_kfold = GridSearchCV(pipe, param_grid, cv=kfold, scoring='average_precision')\n",
    "grid_kfold.fit(X_train_cv, y_train_cv)\n",
    "print ('grid_kfold: best estimator: \\n', grid_kfold.best_estimator_)\n",
    "print ('grid_kfold: best cross-validation score: ', grid_kfold.best_score_)                  \n",
    "print ('grid_kfold test set average precision: ', \n",
    "       average_precision_score(y_test_cv, grid_kfold.decision_function(X_test_cv)), '\\n')"
   ]
  },
  {
   "cell_type": "code",
   "execution_count": 12,
   "id": "9954c115",
   "metadata": {},
   "outputs": [
    {
     "name": "stdout",
     "output_type": "stream",
     "text": [
      "grid_kfold_shuffle: best estimator: \n",
      " Pipeline(steps=[('preprocessing', StandardScaler()),\n",
      "                ('classifier', LogisticRegression(C=10, max_iter=10000))])\n",
      "grid_kfold_shuffle: best cross-validation score:  0.6971984342828523\n",
      "grid_kfold_shuffle test set average precision:  0.7523960682140539 \n",
      "\n"
     ]
    }
   ],
   "source": [
    "#Grid search with with shuffled cross validation\n",
    "#use decision function to calculate average_precision\n",
    "kfold_shuffle = KFold(n_splits=5, shuffle=True, random_state=0)\n",
    "grid_kfold_shuffle = GridSearchCV(pipe, param_grid, cv=kfold_shuffle, scoring='average_precision')\n",
    "grid_kfold_shuffle.fit(X_train_cv, y_train_cv)\n",
    "print ('grid_kfold_shuffle: best estimator: \\n', grid_kfold_shuffle.best_estimator_)\n",
    "print ('grid_kfold_shuffle: best cross-validation score: ', grid_kfold_shuffle.best_score_)                  \n",
    "print ('grid_kfold_shuffle test set average precision: ', \n",
    "       average_precision_score(y_test_cv, grid_kfold_shuffle.decision_function(X_test_cv)), '\\n')"
   ]
  },
  {
   "cell_type": "code",
   "execution_count": 13,
   "id": "1f719f35",
   "metadata": {},
   "outputs": [
    {
     "name": "stdout",
     "output_type": "stream",
     "text": [
      "grid_strat: best estimator: \n",
      " Pipeline(steps=[('preprocessing', RobustScaler()),\n",
      "                ('classifier', LogisticRegression(C=0.1, max_iter=10000))])\n",
      "grid_strat: best cross-validation score:  0.7138884644766997\n",
      "grid_strat: test set AUC:  0.7423029556650247 \n",
      "\n"
     ]
    }
   ],
   "source": [
    "#Grid search with with stratified cross validation\n",
    "#use decision function to calculate AUC\n",
    "\n",
    "grid_strat = GridSearchCV(pipe, param_grid, cv=5, scoring='roc_auc')\n",
    "grid_strat.fit(X_train_cv, y_train_cv)\n",
    "print ('grid_strat: best estimator: \\n', grid_strat.best_estimator_)\n",
    "print ('grid_strat: best cross-validation score: ', grid_strat.best_score_)                  \n",
    "print ('grid_strat: test set AUC: ', \n",
    "       roc_auc_score(y_test_cv, grid_strat.decision_function(X_test_cv)), '\\n')"
   ]
  },
  {
   "cell_type": "code",
   "execution_count": 14,
   "id": "d02669b4",
   "metadata": {},
   "outputs": [
    {
     "name": "stdout",
     "output_type": "stream",
     "text": [
      "grid_kfold: best estimator: \n",
      " Pipeline(steps=[('preprocessing', RobustScaler()),\n",
      "                ('classifier', LogisticRegression(C=0.1, max_iter=10000))])\n",
      "grid_kfold: best cross-validation score:  0.724735985171891\n",
      "grid_kfold test set AUC:  0.7423029556650247 \n",
      "\n"
     ]
    }
   ],
   "source": [
    "#Grid search with with kfold cross validation\n",
    "#use decision function to calculate AUC\n",
    "kfold = KFold(n_splits=5)\n",
    "grid_kfold = GridSearchCV(pipe, param_grid, cv=kfold, scoring='roc_auc')\n",
    "grid_kfold.fit(X_train_cv, y_train_cv)\n",
    "print ('grid_kfold: best estimator: \\n', grid_kfold.best_estimator_)\n",
    "print ('grid_kfold: best cross-validation score: ', grid_kfold.best_score_)                  \n",
    "print ('grid_kfold test set AUC: ', \n",
    "       roc_auc_score(y_test_cv, grid_kfold.decision_function(X_test_cv)), '\\n')"
   ]
  },
  {
   "cell_type": "code",
   "execution_count": 15,
   "id": "36f6646b",
   "metadata": {},
   "outputs": [
    {
     "name": "stdout",
     "output_type": "stream",
     "text": [
      "grid_kfold_shuffle: best estimator: \n",
      " Pipeline(steps=[('preprocessing', None),\n",
      "                ('classifier', LogisticRegression(C=10, max_iter=10000))])\n",
      "grid_kfold_shuffle: best cross-validation score:  0.7115030745260162\n",
      "grid_kfold_shuffle test set AUC:  0.7524630541871922 \n",
      "\n"
     ]
    }
   ],
   "source": [
    "#Grid search with with shuffled kfold cross validation\n",
    "#use decision function to calculate AUC\n",
    "kfold_shuffle = KFold(n_splits=5, shuffle=True, random_state=0)\n",
    "grid_kfold_shuffle = GridSearchCV(pipe, param_grid, cv=kfold_shuffle, scoring='roc_auc')\n",
    "grid_kfold_shuffle.fit(X_train_cv, y_train_cv)\n",
    "print ('grid_kfold_shuffle: best estimator: \\n', grid_kfold_shuffle.best_estimator_)\n",
    "print ('grid_kfold_shuffle: best cross-validation score: ', grid_kfold_shuffle.best_score_)                  \n",
    "print ('grid_kfold_shuffle test set AUC: ', \n",
    "       roc_auc_score(y_test_cv, grid_kfold_shuffle.decision_function(X_test_cv)), '\\n')"
   ]
  },
  {
   "cell_type": "code",
   "execution_count": 16,
   "id": "60daeaf9",
   "metadata": {},
   "outputs": [
    {
     "name": "stdout",
     "output_type": "stream",
     "text": [
      "[0.56650246 0.56435644 0.56716418 0.57       0.57286432 0.57575758\n",
      " 0.5786802  0.58163265 0.58461538 0.58247423 0.58549223 0.58333333\n",
      " 0.58638743 0.58947368 0.58730159 0.59042553 0.59358289 0.59677419\n",
      " 0.6        0.60326087 0.60655738 0.6043956  0.60773481 0.60555556\n",
      " 0.60893855 0.60674157 0.61016949 0.61363636 0.61714286 0.62068966\n",
      " 0.62427746 0.62209302 0.62573099 0.62352941 0.62130178 0.61904762\n",
      " 0.62275449 0.62650602 0.63030303 0.63414634 0.63803681 0.63580247\n",
      " 0.63354037 0.6375     0.64150943 0.64556962 0.64968153 0.65384615\n",
      " 0.65806452 0.66233766 0.66013072 0.66447368 0.66887417 0.66666667\n",
      " 0.66442953 0.66891892 0.67346939 0.67808219 0.68275862 0.6875\n",
      " 0.68531469 0.69014085 0.68794326 0.69285714 0.69064748 0.69565217\n",
      " 0.70072993 0.70588235 0.71111111 0.70895522 0.71428571 0.71212121\n",
      " 0.70992366 0.70769231 0.70542636 0.7109375  0.70866142 0.70634921\n",
      " 0.712      0.71774194 0.71544715 0.72131148 0.71900826 0.725\n",
      " 0.73109244 0.72881356 0.72649573 0.72413793 0.73043478 0.72807018\n",
      " 0.72566372 0.72321429 0.72072072 0.72727273 0.72477064 0.72222222\n",
      " 0.72897196 0.72641509 0.72380952 0.73076923 0.72815534 0.73529412\n",
      " 0.73267327 0.73       0.72727273 0.7244898  0.72164948 0.71875\n",
      " 0.72631579 0.73404255 0.7311828  0.73913043 0.73626374 0.74444444\n",
      " 0.75280899 0.75       0.75862069 0.75581395 0.75294118 0.75\n",
      " 0.75903614 0.76829268 0.7654321  0.775      0.7721519  0.78205128\n",
      " 0.79220779 0.78947368 0.78666667 0.78378378 0.78082192 0.77777778\n",
      " 0.77464789 0.77142857 0.76811594 0.77941176 0.7761194  0.77272727\n",
      " 0.78461538 0.78125    0.79365079 0.79032258 0.78688525 0.78333333\n",
      " 0.77966102 0.77586207 0.78947368 0.78571429 0.8        0.7962963\n",
      " 0.79245283 0.78846154 0.78431373 0.78       0.79591837 0.8125\n",
      " 0.80851064 0.82608696 0.82222222 0.81818182 0.81395349 0.80952381\n",
      " 0.80487805 0.8        0.79487179 0.78947368 0.78378378 0.77777778\n",
      " 0.77142857 0.79411765 0.81818182 0.8125     0.80645161 0.83333333\n",
      " 0.82758621 0.82142857 0.81481481 0.84615385 0.84       0.83333333\n",
      " 0.82608696 0.81818182 0.85714286 0.85       0.84210526 0.88888889\n",
      " 0.88235294 0.875      0.86666667 0.85714286 0.92307692 0.91666667\n",
      " 0.90909091 0.9        0.88888889 1.         1.         1.\n",
      " 1.         1.         1.         1.         1.         1.        ]\n"
     ]
    },
    {
     "data": {
      "image/png": "[encoded data removed]",
      "text/plain": [
       "<Figure size 432x288 with 1 Axes>"
      ]
     },
     "metadata": {
      "needs_background": "light"
     },
     "output_type": "display_data"
    }
   ],
   "source": [
    "#use best preprocessing (standard scaler) and parameters (c=100) for av. precision\n",
    "from sklearn.metrics import precision_recall_curve\n",
    "from matplotlib import pyplot as plt\n",
    "import numpy as np\n",
    "\n",
    "pipe = Pipeline([('preprocessing', MinMaxScaler()), \n",
    "                ('classifier', LogisticRegression(C=0.10, max_iter=10000))])\n",
    "    \n",
    "pipe.fit(X_train_cv, y_train_cv)\n",
    "predict = (pipe.decision_function(X_test_nodup))\n",
    "\n",
    "precision, recall, thresholds = precision_recall_curve(y_test_nodup, predict)\n",
    "\n",
    "plt.plot(precision, recall, label='LogReg')\n",
    "close_zero = np.argmin(np.abs(thresholds))\n",
    "plt.plot(precision[close_zero], recall[close_zero], '^', c='k', \n",
    "              markersize=10, label='threshold zero ', fillstyle='none', mew=2)\n",
    "plt.xlabel('precision')\n",
    "plt.ylabel('recall')\n",
    "plt.legend(loc='best')\n",
    "plt.title('Precision-recall curve for logistic regression (MinMaxScaler(), C=0.1)')\n",
    "    \n",
    "print(precision)"
   ]
  },
  {
   "cell_type": "code",
   "execution_count": 17,
   "id": "24d047f3",
   "metadata": {},
   "outputs": [
    {
     "data": {
      "text/plain": [
       "Text(0.5, 1.0, 'ROC curve for logistic regression (MinMaxScaler(), C=0.1)')"
      ]
     },
     "execution_count": 17,
     "metadata": {},
     "output_type": "execute_result"
    },
    {
     "data": {
      "image/png": "[encoded data removed]",
      "text/plain": [
       "<Figure size 432x288 with 1 Axes>"
      ]
     },
     "metadata": {
      "needs_background": "light"
     },
     "output_type": "display_data"
    }
   ],
   "source": [
    "#use best preprocessing (standard scaler) and parameters (c=100) for av. precision\n",
    "from sklearn.metrics import roc_curve\n",
    "\n",
    "fpr, tpr, thresholds = roc_curve(y_test_nodup, pipe.decision_function(X_test_nodup))\n",
    "\n",
    "plt.plot(fpr, tpr, label='LogReg')\n",
    "close_zero = np.argmin(np.abs(thresholds))\n",
    "plt.plot(fpr[close_zero], tpr[close_zero], '^', c='k',\n",
    "         markersize=10, label=' threshold zero', fillstyle='none', mew=2)\n",
    "plt.xlabel('FPR')\n",
    "plt.ylabel('TPR')\n",
    "plt.legend(loc='best')\n",
    "plt.title('ROC curve for logistic regression (MinMaxScaler(), C=0.1)')"
   ]
  },
  {
   "cell_type": "code",
   "execution_count": 18,
   "id": "f8885644",
   "metadata": {},
   "outputs": [
    {
     "name": "stdout",
     "output_type": "stream",
     "text": [
      "Precision:  0.7142857142857143\n",
      "Sensitivity:  0.8260869565217391\n",
      "Specificity:  0.6122448979591837\n",
      "FPR : 0.3877551020408163\n",
      "very major error : 38.775510204081634\n",
      "major error:  17.391304347826086\n",
      "\n",
      " confusion matrix: \n",
      " [[60 38]\n",
      " [20 95]]\n"
     ]
    }
   ],
   "source": [
    "#confusion matrix (StandardScaler, C=100)\n",
    "\n",
    "from sklearn.metrics import confusion_matrix\n",
    "\n",
    "#build and fit pipieline\n",
    "pipe = Pipeline([('preprocessing', MinMaxScaler()), \n",
    "                 ('classifier', LogisticRegression(C=0.1, max_iter=10000))])\n",
    "\n",
    "pipe.fit(X_train_cv, y_train_cv)\n",
    "predict = pipe.predict(X_test_nodup).astype(int)\n",
    "\n",
    "#generate confusion matrix\n",
    "confusion = confusion_matrix(y_test_nodup, predict)\n",
    "\n",
    "#calculate precision, sensitivity, specifcity, FPR, erros\n",
    "Precision = (confusion[1][1])/(confusion[1][1]+confusion[0][1])\n",
    "Sensitivity = (confusion[1][1])/(confusion[1][1]+confusion[1][0])\n",
    "Specificity = (confusion[0][0])/(confusion[0][0]+confusion[0][1])\n",
    "FPR = 1-Specificity\n",
    "very_major_error = (confusion[0][1]/y_test_nodup[y_test_nodup==0].count())*100\n",
    "major_error = (confusion[1][0]/y_test_nodup[y_test_nodup==1].count())*100\n",
    "\n",
    "\n",
    "print ('Precision: ', Precision)\n",
    "print ('Sensitivity: ', Sensitivity)\n",
    "print ('Specificity: ', Specificity)\n",
    "print ('FPR :', FPR)\n",
    "print ('very major error :', very_major_error)\n",
    "print ('major error: ', major_error)\n",
    "print ('\\n confusion matrix: \\n', confusion)"
   ]
  },
  {
   "cell_type": "code",
   "execution_count": 19,
   "id": "edc2429a",
   "metadata": {},
   "outputs": [
    {
     "name": "stdout",
     "output_type": "stream",
     "text": [
      "{0: 80, 1: 133}\n"
     ]
    },
    {
     "data": {
      "image/png": "[encoded data removed]",
      "text/plain": [
       "<Figure size 648x648 with 2 Axes>"
      ]
     },
     "metadata": {
      "needs_background": "light"
     },
     "output_type": "display_data"
    }
   ],
   "source": [
    "unique, counts = np.unique(predict, return_counts=True)\n",
    "print(dict(zip(unique, counts)))\n",
    "\n",
    "score = pipe.score(X_test_nodup, y_test_nodup)\n",
    "\n",
    "cm = metrics.confusion_matrix(y_test_nodup, predict)\n",
    "plt.figure(figsize=(9,9))\n",
    "sns.heatmap(cm, annot=True, fmt=\".3f\", linewidths=.5, square = True, cmap = 'Blues_r');\n",
    "plt.ylabel('Actual label');\n",
    "plt.xlabel('Predicted label');\n",
    "all_sample_title = 'Accuracy Score: {0}'.format(score)\n",
    "plt.title(all_sample_title, size = 15);"
   ]
  },
  {
   "cell_type": "code",
   "execution_count": 20,
   "id": "038e22bf",
   "metadata": {},
   "outputs": [],
   "source": [
    "MIC_ML_data = ML_data.dropna(subset = ['METHOD_MIC'])"
   ]
  },
  {
   "cell_type": "code",
   "execution_count": 21,
   "id": "843e4c68",
   "metadata": {},
   "outputs": [
    {
     "name": "stderr",
     "output_type": "stream",
     "text": [
      "C:\\Users\\user\\AppData\\Local\\Temp/ipykernel_26576/380884722.py:17: SettingWithCopyWarning: \n",
      "A value is trying to be set on a copy of a slice from a DataFrame.\n",
      "Try using .loc[row_indexer,col_indexer] = value instead\n",
      "\n",
      "See the caveats in the documentation: https://pandas.pydata.org/pandas-docs/stable/user_guide/indexing.html#returning-a-view-versus-a-copy\n",
      "  MIC_ML_data['MIC_values'] = MIC_strings\n"
     ]
    }
   ],
   "source": [
    "# need code to clean up values > 1.6 - need to see if RF can use continuous data\n",
    "\n",
    "MIC_strings = []\n",
    "\n",
    "for i in MIC_ML_data['METHOD_MIC']:\n",
    "    if i == '3.2':\n",
    "        MIC_strings.append('>1.6')\n",
    "    elif i == '6.4':\n",
    "        MIC_strings.append('>1.6')\n",
    "    elif i == '12.8':\n",
    "        MIC_strings.append('>1.6')\n",
    "    elif i == '>12.8':\n",
    "        MIC_strings.append('>1.6')\n",
    "    else:\n",
    "        MIC_strings.append(i)\n",
    "        \n",
    "MIC_ML_data['MIC_values'] = MIC_strings"
   ]
  },
  {
   "cell_type": "code",
   "execution_count": 22,
   "id": "4ebc173c",
   "metadata": {},
   "outputs": [],
   "source": [
    "MIC_df = MIC_ML_data[['MIC_values','MUT_RESISTANCE','MUTATION','Site1_Distance','d_volume','d_MW',\t\\\n",
    "              'd_hydropathy', 'd_Pi', 'Depth']]\n",
    "\n",
    "# creates features numpy array\n",
    "MIC_features = MIC_df[MIC_df.columns[2:]].to_numpy()\n",
    "\n",
    "#creates resistance label column\n",
    "MIC_label = MIC_df['MIC_values'].to_numpy()"
   ]
  },
  {
   "cell_type": "code",
   "execution_count": 23,
   "id": "0afef9f2",
   "metadata": {},
   "outputs": [],
   "source": [
    "#split data into training and test sets\n",
    "X_train, X_test, y_train, y_test = train_test_split(MIC_features, MIC_label,\n",
    "                                                    random_state=0)\n"
   ]
  },
  {
   "cell_type": "code",
   "execution_count": 24,
   "id": "dac1a4bd",
   "metadata": {},
   "outputs": [],
   "source": [
    "# creates features and label dfs from unique mutations\n",
    "def remove_duplicate_mutations(X_dataset, y_dataset):\n",
    "\n",
    "    #converts long X_train and y_train to pd df to join\n",
    "    X_train_df = pd.DataFrame(X_dataset)\n",
    "    X_train_df.rename(columns = {0:'MUTATION'}, inplace = True)\n",
    "    y_train_df = pd.DataFrame(y_dataset)\n",
    "    y_train_df.rename(columns = {0:'MIC_VALUES'}, inplace = True)\n",
    "\n",
    "    CV_train = X_train_df.join(y_train_df,  how = 'inner')\n",
    "\n",
    "    #removes duplicates and mutation column\n",
    "    CV_train_unique = CV_train.drop_duplicates(subset='MUTATION', keep = 'first')\n",
    "    CV_train_unique.drop(['MUTATION'], axis = 1, inplace = True)\n",
    "\n",
    "    #seperates into unique features and label numpy arrays\n",
    "    features_unique = CV_train_unique[CV_train_unique.columns[:-1]].to_numpy()\n",
    "    label_unique = CV_train_unique['MIC_VALUES']\n",
    "\n",
    "    X_no_duplicates = (features_unique)\n",
    "    y_no_duplicates = (label_unique)\n",
    "    \n",
    "    return (X_no_duplicates, y_no_duplicates)"
   ]
  },
  {
   "cell_type": "code",
   "execution_count": 25,
   "id": "efc67297",
   "metadata": {},
   "outputs": [
    {
     "name": "stderr",
     "output_type": "stream",
     "text": [
      "C:\\Users\\user\\anaconda3\\lib\\site-packages\\pandas\\core\\frame.py:4906: SettingWithCopyWarning: \n",
      "A value is trying to be set on a copy of a slice from a DataFrame\n",
      "\n",
      "See the caveats in the documentation: https://pandas.pydata.org/pandas-docs/stable/user_guide/indexing.html#returning-a-view-versus-a-copy\n",
      "  return super().drop(\n"
     ]
    }
   ],
   "source": [
    "X_train_nodup, y_train_nodup = remove_duplicate_mutations(X_train, y_train)\n",
    "X_test_nodup, y_test_nodup = remove_duplicate_mutations(X_test, y_test)"
   ]
  },
  {
   "cell_type": "code",
   "execution_count": 26,
   "id": "8301af44",
   "metadata": {},
   "outputs": [],
   "source": [
    "#split data into training and test sets\n",
    "X_train_cv, X_test_cv, y_train_cv, y_test_cv = train_test_split(X_train_nodup, y_train_nodup,\n",
    "                                                    random_state=0)"
   ]
  },
  {
   "cell_type": "code",
   "execution_count": 27,
   "id": "5b6cf768",
   "metadata": {},
   "outputs": [],
   "source": [
    "#build pipeline and paratmeter grid\n",
    "pipe = Pipeline([('preprocessing', StandardScaler()), ('classifier', LogisticRegression(max_iter=100000000))])\n",
    "param_grid = {'preprocessing':[StandardScaler(), MinMaxScaler(), RobustScaler()],\n",
    "              'classifier__C': [0.01, 0.1, 1, 10, 100]}"
   ]
  },
  {
   "cell_type": "code",
   "execution_count": 28,
   "id": "bb5e218d",
   "metadata": {},
   "outputs": [
    {
     "name": "stdout",
     "output_type": "stream",
     "text": [
      "grid_strat: best estimator: \n",
      " Pipeline(steps=[('preprocessing', MinMaxScaler()),\n",
      "                ('classifier', LogisticRegression(C=1, max_iter=100000000))])\n",
      "grid_strat: best cross-validation score : 0.2850574712643678 \n",
      "\n",
      "grid_strat: test set average accuracy : 0.14\n"
     ]
    }
   ],
   "source": [
    "#Grid search with stratified cross valdiation\n",
    "grid_strat = GridSearchCV(pipe, param_grid, cv=5)\n",
    "grid_strat.fit(X_train_cv, y_train_cv)\n",
    "print ('grid_strat: best estimator: \\n', grid_strat.best_estimator_)\n",
    "print ('grid_strat: best cross-validation score :', grid_strat.best_score_, '\\n')\n",
    "print ('grid_strat: test set average accuracy :', \n",
    "       accuracy_score(y_test_cv, grid_strat.predict(X_test_cv)))"
   ]
  },
  {
   "cell_type": "code",
   "execution_count": 29,
   "id": "078054eb",
   "metadata": {},
   "outputs": [
    {
     "name": "stdout",
     "output_type": "stream",
     "text": [
      "grid_kfold: best estimator: \n",
      " Pipeline(steps=[('preprocessing', StandardScaler()),\n",
      "                ('classifier', LogisticRegression(C=0.01, max_iter=100000000))])\n",
      "grid_kfold: best cross-validation score:  0.25839080459770114\n",
      "grid_kfold test set average accuracy:  0.18 \n",
      "\n"
     ]
    }
   ],
   "source": [
    "#Grid search with kfold cross validation\n",
    "\n",
    "kfold = KFold(n_splits=5)\n",
    "grid_kfold = GridSearchCV(pipe, param_grid, cv=kfold, n_jobs=-1)\n",
    "grid_kfold.fit(X_train_cv, y_train_cv)\n",
    "print ('grid_kfold: best estimator: \\n', grid_kfold.best_estimator_)\n",
    "print ('grid_kfold: best cross-validation score: ', grid_kfold.best_score_)                  \n",
    "print ('grid_kfold test set average accuracy: ', \n",
    "       accuracy_score(y_test_cv, grid_kfold.predict(X_test_cv)), '\\n')"
   ]
  },
  {
   "cell_type": "code",
   "execution_count": 30,
   "id": "de27a6ca",
   "metadata": {},
   "outputs": [
    {
     "name": "stdout",
     "output_type": "stream",
     "text": [
      "grid_kfold_shuffle: best estimator: \n",
      " Pipeline(steps=[('preprocessing', MinMaxScaler()),\n",
      "                ('classifier', LogisticRegression(C=0.1, max_iter=100000000))])\n",
      "grid_kfold_shuffle: best cross-validation score:  0.2717241379310345\n",
      "grid_kfold_shuffle: test set average accuracy:  0.2 \n",
      "\n"
     ]
    }
   ],
   "source": [
    "#Grid search with shuffled kfold cross validation\n",
    "Kfold_shuffle=KFold(n_splits=5, shuffle=True, random_state=0)\n",
    "grid_kfold_shuffle = GridSearchCV(pipe, param_grid, cv=Kfold_shuffle, n_jobs=-1)\n",
    "grid_kfold_shuffle.fit(X_train_cv, y_train_cv)\n",
    "print ('grid_kfold_shuffle: best estimator: \\n', grid_kfold_shuffle.best_estimator_)\n",
    "print ('grid_kfold_shuffle: best cross-validation score: ', grid_kfold_shuffle.best_score_)\n",
    "print ('grid_kfold_shuffle: test set average accuracy: ', \n",
    "       accuracy_score(y_test_cv, grid_kfold_shuffle.predict(X_test_cv)), '\\n')"
   ]
  },
  {
   "cell_type": "code",
   "execution_count": 31,
   "id": "3782ae15",
   "metadata": {},
   "outputs": [
    {
     "name": "stdout",
     "output_type": "stream",
     "text": [
      "\n",
      " multiclass confusion matrix: \n",
      " [[ 0  0  0  0  0  0  5  4]\n",
      " [ 0  0  0  0  0  0  3  9]\n",
      " [ 0  0  0  0  0  0  3  8]\n",
      " [ 0  0  0  0  0  0  0 11]\n",
      " [ 0  0  0  0  0  0  1  4]\n",
      " [ 0  0  0  0  0  0  0  5]\n",
      " [ 0  0  0  0  0  0  5  4]\n",
      " [ 0  0  0  0  0  0  2 11]]\n"
     ]
    }
   ],
   "source": [
    "from sklearn.metrics import confusion_matrix\n",
    "\n",
    "#build pipeline and fit\n",
    "pipe = Pipeline([('preprocessing', MinMaxScaler()), \n",
    "                 ('classifier', LogisticRegression(C=0.1, max_iter=100000000))])\n",
    "\n",
    "pipe.fit(X_train_cv, y_train_cv)                 \n",
    "                 \n",
    "predict = pipe.predict(X_test_nodup)\n",
    "#generate confusion matrix\n",
    "confusion = confusion_matrix(y_test_nodup, predict)\n",
    "\n",
    "print ('\\n multiclass confusion matrix: \\n', confusion)"
   ]
  },
  {
   "cell_type": "code",
   "execution_count": 32,
   "id": "1b545e62",
   "metadata": {},
   "outputs": [
    {
     "data": {
      "image/png": "[encoded data removed]",
      "text/plain": [
       "<Figure size 432x288 with 1 Axes>"
      ]
     },
     "metadata": {
      "needs_background": "light"
     },
     "output_type": "display_data"
    }
   ],
   "source": [
    "#generate heatmap of confusion matrix for visualisation\n",
    "\n",
    "import mglearn\n",
    "\n",
    "target_names = MIC_ML_data['MIC_values'].unique().tolist()\n",
    "scores_image = mglearn.tools.heatmap(confusion, xlabel='predicted label',\n",
    "                                     ylabel='true label', xticklabels=target_names,\n",
    "                                     yticklabels=target_names, cmap=plt.cm.gray_r, fmt='%d')\n",
    "plt.title('confusion matrix heat map')\n",
    "plt.gca().invert_yaxis()"
   ]
  },
  {
   "cell_type": "code",
   "execution_count": 33,
   "id": "3dc2e2f2",
   "metadata": {},
   "outputs": [
    {
     "name": "stdout",
     "output_type": "stream",
     "text": [
      "              precision    recall  f1-score   support\n",
      "\n",
      "        0.05       1.00      0.00      0.00         9\n",
      "         0.1       1.00      0.00      0.00        12\n",
      "         0.2       1.00      0.00      0.00        11\n",
      "         0.4       1.00      0.00      0.00        11\n",
      "         0.8       1.00      0.00      0.00         5\n",
      "         1.6       1.00      0.00      0.00         5\n",
      "     <=0.025       0.26      0.56      0.36         9\n",
      "        >1.6       0.20      0.85      0.32        13\n",
      "\n",
      "    accuracy                           0.21        75\n",
      "   macro avg       0.81      0.18      0.08        75\n",
      "weighted avg       0.77      0.21      0.10        75\n",
      "\n"
     ]
    }
   ],
   "source": [
    "#generate classification report\n",
    "from sklearn.metrics import classification_report\n",
    "print (classification_report(y_test_nodup, predict, zero_division=True))"
   ]
  },
  {
   "cell_type": "code",
   "execution_count": 34,
   "id": "68eeb7eb",
   "metadata": {},
   "outputs": [],
   "source": [
    "# try both binary and ternary reports "
   ]
  },
  {
   "cell_type": "code",
   "execution_count": 35,
   "id": "c83b539a",
   "metadata": {},
   "outputs": [],
   "source": [
    "# will categorise multiclass data into 2 groups\n",
    "def MIC_to_binary(data):\n",
    "    RS_dict = {1:['0.2','0.4','0.8','1.6','>1.6'],\n",
    "           0:['<=0.025','0.05','0.1']}\n",
    "    binary_list = []\n",
    "    for i in data:\n",
    "        for k,v in RS_dict.items():\n",
    "            for j in v:\n",
    "                if i == j:\n",
    "                    binary_list.append(k)\n",
    "\n",
    "    binary_array = np.array(binary_list)\n",
    "    return binary_array"
   ]
  },
  {
   "cell_type": "code",
   "execution_count": 36,
   "id": "d85b36ff",
   "metadata": {},
   "outputs": [],
   "source": [
    "# will categorise multiclass data into 3 groups \n",
    "def MIC_to_ternary(data):\n",
    "    RS_dict = {2:['0.8','1.6','>1.6'], 1:['0.2','0.4'],\n",
    "           0:['<=0.025','0.05','0.1']}\n",
    "    binary_list = []\n",
    "    for i in data:\n",
    "        for k,v in RS_dict.items():\n",
    "            for j in v:\n",
    "                if i == j:\n",
    "                    binary_list.append(k)\n",
    "\n",
    "    binary_array = np.array(binary_list)\n",
    "    return binary_array"
   ]
  },
  {
   "cell_type": "code",
   "execution_count": 37,
   "id": "9e1a4d5d",
   "metadata": {},
   "outputs": [
    {
     "name": "stdout",
     "output_type": "stream",
     "text": [
      "Precision:  0.6964285714285714\n",
      "Sensitivity:  0.8666666666666667\n",
      "Specificity:  0.43333333333333335\n",
      "FPR : 0.5666666666666667\n",
      "very major error : inf\n",
      "major error:  inf\n",
      "\n",
      " confusion matrix: \n",
      " [[13 17]\n",
      " [ 6 39]]\n"
     ]
    },
    {
     "name": "stderr",
     "output_type": "stream",
     "text": [
      "C:\\Users\\user\\AppData\\Local\\Temp/ipykernel_26576/1930995263.py:10: RuntimeWarning: divide by zero encountered in longlong_scalars\n",
      "  very_major_error = (confusion[0][1]/y_test_nodup[y_test_nodup==0].count())*100\n",
      "C:\\Users\\user\\AppData\\Local\\Temp/ipykernel_26576/1930995263.py:11: RuntimeWarning: divide by zero encountered in longlong_scalars\n",
      "  major_error = (confusion[1][0]/y_test_nodup[y_test_nodup==1].count())*100\n"
     ]
    },
    {
     "data": {
      "image/png": "[encoded data removed]",
      "text/plain": [
       "<Figure size 648x648 with 2 Axes>"
      ]
     },
     "metadata": {
      "needs_background": "light"
     },
     "output_type": "display_data"
    }
   ],
   "source": [
    "#convert MIC targets to binary targets and generate confusion matrix\n",
    "predict = pipe.predict(X_test_nodup)\n",
    "confusion = confusion_matrix(MIC_to_binary(y_test_nodup), MIC_to_binary(predict))\n",
    "\n",
    "#calculate precision, senstivity, specificty, FPR, and erros\n",
    "Precision = (confusion[1][1])/(confusion[1][1]+confusion[0][1])\n",
    "Sensitivity = (confusion[1][1])/(confusion[1][1]+confusion[1][0])\n",
    "Specificity = (confusion[0][0])/(confusion[0][0]+confusion[0][1])\n",
    "FPR = 1-Specificity\n",
    "very_major_error = (confusion[0][1]/y_test_nodup[y_test_nodup==0].count())*100\n",
    "major_error = (confusion[1][0]/y_test_nodup[y_test_nodup==1].count())*100\n",
    "\n",
    "\n",
    "print ('Precision: ', Precision)\n",
    "print ('Sensitivity: ', Sensitivity)\n",
    "print ('Specificity: ', Specificity)\n",
    "print ('FPR :', FPR)\n",
    "print ('very major error :', very_major_error)\n",
    "print ('major error: ', major_error)\n",
    "print ('\\n confusion matrix: \\n', confusion)\n",
    "\n",
    "plt.figure(figsize=(9,9))\n",
    "sns.heatmap(confusion, annot=True, fmt=\".3f\", linewidths=.5, square = True, cmap = 'Blues_r');\n",
    "plt.ylabel('Actual label');\n",
    "plt.xlabel('Predicted label');"
   ]
  },
  {
   "cell_type": "code",
   "execution_count": 38,
   "id": "8b3690e2",
   "metadata": {},
   "outputs": [
    {
     "name": "stdout",
     "output_type": "stream",
     "text": [
      "Precision:  nan\n",
      "Sensitivity:  0.0\n",
      "Specificity:  1.0\n",
      "FPR : 0.0\n",
      "very major error : nan\n",
      "major error:  inf\n",
      "\n",
      " confusion matrix: \n",
      " [[13  0 17]\n",
      " [ 3  0 19]\n",
      " [ 3  0 20]]\n"
     ]
    },
    {
     "name": "stderr",
     "output_type": "stream",
     "text": [
      "C:\\Users\\user\\AppData\\Local\\Temp/ipykernel_26576/346083422.py:5: RuntimeWarning: invalid value encountered in longlong_scalars\n",
      "  Precision = (confusion[1][1])/(confusion[1][1]+confusion[0][1])\n",
      "C:\\Users\\user\\AppData\\Local\\Temp/ipykernel_26576/346083422.py:9: RuntimeWarning: invalid value encountered in longlong_scalars\n",
      "  very_major_error = (confusion[0][1]/y_test_nodup[y_test_nodup==0].count())*100\n",
      "C:\\Users\\user\\AppData\\Local\\Temp/ipykernel_26576/346083422.py:10: RuntimeWarning: divide by zero encountered in longlong_scalars\n",
      "  major_error = (confusion[1][0]/y_test_nodup[y_test_nodup==1].count())*100\n"
     ]
    },
    {
     "data": {
      "image/png": "[encoded data removed]",
      "text/plain": [
       "<Figure size 648x648 with 2 Axes>"
      ]
     },
     "metadata": {
      "needs_background": "light"
     },
     "output_type": "display_data"
    }
   ],
   "source": [
    "#convert MIC targets to ternary targets and generate confusion matrix\n",
    "confusion = confusion_matrix(MIC_to_ternary(y_test_nodup), MIC_to_ternary(predict))\n",
    "\n",
    "#calculate precision, senstivity, specificty, FPR, and erros\n",
    "Precision = (confusion[1][1])/(confusion[1][1]+confusion[0][1])\n",
    "Sensitivity = (confusion[1][1])/(confusion[1][1]+confusion[1][0])\n",
    "Specificity = (confusion[0][0])/(confusion[0][0]+confusion[0][1])\n",
    "FPR = 1-Specificity\n",
    "very_major_error = (confusion[0][1]/y_test_nodup[y_test_nodup==0].count())*100\n",
    "major_error = (confusion[1][0]/y_test_nodup[y_test_nodup==1].count())*100\n",
    "\n",
    "\n",
    "print ('Precision: ', Precision)\n",
    "print ('Sensitivity: ', Sensitivity)\n",
    "print ('Specificity: ', Specificity)\n",
    "print ('FPR :', FPR)\n",
    "print ('very major error :', very_major_error)\n",
    "print ('major error: ', major_error)\n",
    "print ('\\n confusion matrix: \\n', confusion)\n",
    "\n",
    "plt.figure(figsize=(9,9))\n",
    "sns.heatmap(confusion, annot=True, fmt=\".3f\", linewidths=.5, square = True, cmap = 'Blues_r');\n",
    "plt.ylabel('Actual label');\n",
    "plt.xlabel('Predicted label');"
   ]
  },
  {
   "cell_type": "code",
   "execution_count": 39,
   "id": "3bd9a16c",
   "metadata": {},
   "outputs": [
    {
     "name": "stdout",
     "output_type": "stream",
     "text": [
      "              precision    recall  f1-score   support\n",
      "\n",
      "           0       0.68      0.43      0.53        30\n",
      "           1       0.70      0.87      0.77        45\n",
      "\n",
      "    accuracy                           0.69        75\n",
      "   macro avg       0.69      0.65      0.65        75\n",
      "weighted avg       0.69      0.69      0.68        75\n",
      "\n"
     ]
    }
   ],
   "source": [
    "print (classification_report(MIC_to_binary(y_test_nodup), MIC_to_binary(predict)))"
   ]
  }
 ],
 "metadata": {
  "kernelspec": {
   "display_name": "Python 3 (ipykernel)",
   "language": "python",
   "name": "python3"
  },
  "language_info": {
   "codemirror_mode": {
    "name": "ipython",
    "version": 3
   },
   "file_extension": ".py",
   "mimetype": "text/x-python",
   "name": "python",
   "nbconvert_exporter": "python",
   "pygments_lexer": "ipython3",
   "version": "3.8.12"
  }
 },
 "nbformat": 4,
 "nbformat_minor": 5
}
