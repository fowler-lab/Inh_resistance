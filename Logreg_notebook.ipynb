{
 "cells": [
  {
   "cell_type": "code",
   "execution_count": 1,
   "id": "65bb9c76",
   "metadata": {},
   "outputs": [],
   "source": [
    "import pandas as pd\n",
    "import numpy as np\n",
    "pd.options.display.max_columns = 999\n",
    "ML_data = pd.read_csv('ML_data.csv')\n",
    "import sklearn\n",
    "from sklearn.linear_model import LogisticRegression\n",
    "from sklearn.model_selection import train_test_split\n",
    "import matplotlib.pyplot as plt\n",
    "import seaborn as sns\n",
    "from sklearn import metrics\n",
    "import numpy as np\n",
    "from sklearn.model_selection import cross_val_score\n",
    "from sklearn.model_selection import ShuffleSplit\n",
    "from pprint import pprint\n",
    "import seaborn as sns\n",
    "sns.set_theme()\n",
    "sns.set_palette(sns.color_palette('Set1'))"
   ]
  },
  {
   "cell_type": "markdown",
   "id": "6f86f5f9",
   "metadata": {},
   "source": [
    "Direct binary classification"
   ]
  },
  {
   "cell_type": "markdown",
   "id": "3c380b5a",
   "metadata": {},
   "source": [
    "1. Seperate the dataframe into a features and label dataset\n",
    "2. Break datasets down into training and test sets containing only unique mutations\n",
    "3. Establish pipeline and parameter grid for LogisticRegression and grid search\n",
    "4. Grid search with shuffled k fold cross validation to find best preprocessing and parameters for ACCURACY\n",
    "5. Grid search with shuffled k fold cross validation to find best preprocessing and parameters for AVERAGE PRECISION\n",
    "6. Grid search with shuffled k fold cross validation to find best preprocessing and parameters for AREA UNDER ROC CURVE\n",
    "7. Precision-recall curve with best preprocessing and parameters for PRECISION\n",
    "8. ROC curve with best preprocessing and parameters for AREA UNDER ROC CURVE\n",
    "9. Use curves to determine if precision can be increased and FPR can be reduced\n",
    "10. Produce confusion matrix with best parameters for precision or area under ROC curve (whichever gave best CV score)\n",
    "11. Shift decision threshold to improve precision and FPR - reducing instances where resistant cases are predicted to be susceptible"
   ]
  },
  {
   "cell_type": "markdown",
   "id": "f3acc9f7",
   "metadata": {},
   "source": [
    "1. Seperate the dataframe into a features and label dataset "
   ]
  },
  {
   "cell_type": "code",
   "execution_count": 2,
   "id": "88c01151",
   "metadata": {},
   "outputs": [],
   "source": [
    "df = ML_data[['METHOD_MIC','MUT_RESISTANCE','MUTATION','Site1_Distance','d_volume','d_MW',\t\\\n",
    "              'd_hydropathy', 'd_Pi', 'Depth','H','O','T','S','G','E',  \\\n",
    "              'B','I','Tempfactor','Hem_dist','Site2_dist','SNAP2_score']]\n",
    "\n",
    "# creates features numpy array\n",
    "features = df[df.columns[2:]].to_numpy()\n",
    "\n",
    "#creates resistance label column\n",
    "label = df['MUT_RESISTANCE'].to_numpy()"
   ]
  },
  {
   "cell_type": "markdown",
   "id": "8e3ee526",
   "metadata": {},
   "source": [
    "2. Break datasets down into training and test sets containing only unique mutations\n",
    "- Also have a smaller test set to be used for cross-validaiton which comes from the training set"
   ]
  },
  {
   "cell_type": "code",
   "execution_count": 3,
   "id": "524c867d",
   "metadata": {},
   "outputs": [],
   "source": [
    "#split data into training and test sets\n",
    "X_train, X_test, y_train, y_test = train_test_split(features, label,\n",
    "                                                    random_state=0)"
   ]
  },
  {
   "cell_type": "code",
   "execution_count": 4,
   "id": "a0f88985",
   "metadata": {},
   "outputs": [],
   "source": [
    "# creates features and label dfs from unique mutations\n",
    "def remove_duplicate_mutations(X_dataset, y_dataset):\n",
    "\n",
    "    #converts long X_train and y_train to pd df to join\n",
    "    X_train_df = pd.DataFrame(X_dataset)\n",
    "    X_train_df.rename(columns = {0:'MUTATION'}, inplace = True)\n",
    "    y_train_df = pd.DataFrame(y_dataset)\n",
    "    y_train_df.rename(columns = {0:'MUT_RESISTANCE'}, inplace = True)\n",
    "\n",
    "    CV_train = X_train_df.join(y_train_df,  how = 'inner')\n",
    "\n",
    "    #removes duplicates and mutation column\n",
    "    CV_train_unique = CV_train.drop_duplicates(subset='MUTATION', keep = 'first')\n",
    "    CV_train_unique.drop(['MUTATION'], axis = 1, inplace = True)\n",
    "\n",
    "    #seperates into unique features and label numpy arrays\n",
    "    features_unique = CV_train_unique[CV_train_unique.columns[:-1]].to_numpy()\n",
    "    label_unique = CV_train_unique['MUT_RESISTANCE']\n",
    "\n",
    "    X_no_duplicates = (features_unique)\n",
    "    y_no_duplicates = (label_unique)\n",
    "    \n",
    "    return (X_no_duplicates, y_no_duplicates)"
   ]
  },
  {
   "cell_type": "code",
   "execution_count": 5,
   "id": "10dad179",
   "metadata": {},
   "outputs": [
    {
     "name": "stderr",
     "output_type": "stream",
     "text": [
      "C:\\Users\\user\\anaconda3\\lib\\site-packages\\pandas\\core\\frame.py:4906: SettingWithCopyWarning: \n",
      "A value is trying to be set on a copy of a slice from a DataFrame\n",
      "\n",
      "See the caveats in the documentation: https://pandas.pydata.org/pandas-docs/stable/user_guide/indexing.html#returning-a-view-versus-a-copy\n",
      "  return super().drop(\n"
     ]
    }
   ],
   "source": [
    "X_train_nodup, y_train_nodup = remove_duplicate_mutations(X_train, y_train)\n",
    "X_test_nodup, y_test_nodup = remove_duplicate_mutations(X_test, y_test)"
   ]
  },
  {
   "cell_type": "code",
   "execution_count": 6,
   "id": "dddbb591",
   "metadata": {},
   "outputs": [],
   "source": [
    "#split data into training and test sets\n",
    "X_train_cv, X_test_cv, y_train_cv, y_test_cv = train_test_split(X_train_nodup, y_train_nodup,\n",
    "                                                    random_state=0, test_size = 0.2)"
   ]
  },
  {
   "cell_type": "markdown",
   "id": "48c30b57",
   "metadata": {},
   "source": [
    "3. Establish pipeline and parameter grid for LogisticRegression and grid search"
   ]
  },
  {
   "cell_type": "code",
   "execution_count": 7,
   "id": "03fe9f6c",
   "metadata": {},
   "outputs": [],
   "source": [
    "from sklearn.linear_model import LogisticRegression\n",
    "from sklearn.preprocessing import MinMaxScaler, StandardScaler, RobustScaler\n",
    "from sklearn.pipeline import Pipeline\n",
    "from sklearn.model_selection import train_test_split, KFold, GridSearchCV\n",
    "from sklearn.metrics import accuracy_score, average_precision_score, roc_auc_score\n",
    "\n",
    "#create logistic regression pipeline with preprocessing \n",
    "pipe = Pipeline([('preprocessing', StandardScaler()), ('classifier', LogisticRegression(max_iter=10000))])\n",
    "#create parameter grid with different preprocessing and classifier parameters\n",
    "param_grid = {'preprocessing':[StandardScaler(), MinMaxScaler(), RobustScaler(), None],\n",
    "              'classifier__C': [0.01, 0.1, 1, 10, 100], 'classifier__solver': \\\n",
    "              ['newton-cg', 'lbfgs', 'liblinear']}"
   ]
  },
  {
   "cell_type": "markdown",
   "id": "e40ce198",
   "metadata": {},
   "source": [
    "4. Grid search with shuffled k fold cross validation to find best preprocessing and parameters for ACCURACY"
   ]
  },
  {
   "cell_type": "code",
   "execution_count": 8,
   "id": "2aff15ea",
   "metadata": {},
   "outputs": [
    {
     "name": "stdout",
     "output_type": "stream",
     "text": [
      "grid_kfold_shuffle: best estimator: \n",
      " Pipeline(steps=[('preprocessing', StandardScaler()),\n",
      "                ('classifier',\n",
      "                 LogisticRegression(C=0.1, max_iter=10000,\n",
      "                                    solver='newton-cg'))])\n",
      "grid_kfold_shuffle: best cross-validation score:  0.7044520547945206\n",
      "grid_kfold_shuffle: test set average accuracy:  0.7472527472527473 \n",
      "\n"
     ]
    }
   ],
   "source": [
    "#Search with shuffled cross validation\n",
    "Kfold_shuffle=KFold(n_splits=5, shuffle=True, random_state=0)\n",
    "grid_kfold_shuffle = GridSearchCV(pipe, param_grid, cv=Kfold_shuffle)\n",
    "grid_kfold_shuffle.fit(X_train_cv, y_train_cv)\n",
    "print ('grid_kfold_shuffle: best estimator: \\n', grid_kfold_shuffle.best_estimator_)\n",
    "print ('grid_kfold_shuffle: best cross-validation score: ', grid_kfold_shuffle.best_score_)\n",
    "print ('grid_kfold_shuffle: test set average accuracy: ', \n",
    "       accuracy_score(y_test_cv, grid_kfold_shuffle.predict(X_test_cv)), '\\n')"
   ]
  },
  {
   "cell_type": "markdown",
   "id": "c4b2fb48",
   "metadata": {},
   "source": [
    "5. Grid search with shuffled k fold cross validation to find best preprocessing and parameters for AVERAGE PRECISION"
   ]
  },
  {
   "cell_type": "code",
   "execution_count": 9,
   "id": "9954c115",
   "metadata": {},
   "outputs": [
    {
     "name": "stdout",
     "output_type": "stream",
     "text": [
      "grid_kfold_shuffle: best estimator: \n",
      " Pipeline(steps=[('preprocessing', None),\n",
      "                ('classifier',\n",
      "                 LogisticRegression(C=0.01, max_iter=10000,\n",
      "                                    solver='newton-cg'))])\n",
      "grid_kfold_shuffle: best cross-validation score:  0.7495108480302592\n",
      "grid_kfold_shuffle test set average precision:  0.8231146595782061 \n",
      "\n"
     ]
    }
   ],
   "source": [
    "#Grid search with with shuffled cross validation\n",
    "#use decision function to calculate average_precision\n",
    "kfold_shuffle = KFold(n_splits=5, shuffle=True, random_state=0)\n",
    "grid_kfold_shuffle = GridSearchCV(pipe, param_grid, cv=kfold_shuffle, scoring='average_precision')\n",
    "grid_kfold_shuffle.fit(X_train_cv, y_train_cv)\n",
    "print ('grid_kfold_shuffle: best estimator: \\n', grid_kfold_shuffle.best_estimator_)\n",
    "print ('grid_kfold_shuffle: best cross-validation score: ', grid_kfold_shuffle.best_score_)                  \n",
    "print ('grid_kfold_shuffle test set average precision: ', \n",
    "       average_precision_score(y_test_cv, grid_kfold_shuffle.decision_function(X_test_cv)), '\\n')"
   ]
  },
  {
   "cell_type": "markdown",
   "id": "7152a385",
   "metadata": {},
   "source": [
    "6. Grid search with shuffled k fold cross validation to find best preprocessing and parameters for AREA UNDER ROC CURVE"
   ]
  },
  {
   "cell_type": "code",
   "execution_count": 10,
   "id": "36f6646b",
   "metadata": {},
   "outputs": [
    {
     "name": "stdout",
     "output_type": "stream",
     "text": [
      "grid_kfold_shuffle: best estimator: \n",
      " Pipeline(steps=[('preprocessing', MinMaxScaler()),\n",
      "                ('classifier',\n",
      "                 LogisticRegression(C=100, max_iter=10000,\n",
      "                                    solver='liblinear'))])\n",
      "grid_kfold_shuffle: best cross-validation score:  0.750472807841229\n",
      "grid_kfold_shuffle test set AUC:  0.836231884057971 \n",
      "\n"
     ]
    }
   ],
   "source": [
    "#Grid search with with shuffled kfold cross validation\n",
    "#use decision function to calculate AUC\n",
    "kfold_shuffle = KFold(n_splits=5, shuffle=True, random_state=0)\n",
    "grid_kfold_shuffle = GridSearchCV(pipe, param_grid, cv=kfold_shuffle, scoring='roc_auc')\n",
    "grid_kfold_shuffle.fit(X_train_cv, y_train_cv)\n",
    "print ('grid_kfold_shuffle: best estimator: \\n', grid_kfold_shuffle.best_estimator_)\n",
    "print ('grid_kfold_shuffle: best cross-validation score: ', grid_kfold_shuffle.best_score_)                  \n",
    "print ('grid_kfold_shuffle test set AUC: ', \n",
    "       roc_auc_score(y_test_cv, grid_kfold_shuffle.decision_function(X_test_cv)), '\\n')"
   ]
  },
  {
   "cell_type": "markdown",
   "id": "4a7077f1",
   "metadata": {},
   "source": [
    "7. Precision-recall curve with best preprocessing and parameters for PRECISION"
   ]
  },
  {
   "cell_type": "code",
   "execution_count": 11,
   "id": "60daeaf9",
   "metadata": {},
   "outputs": [
    {
     "data": {
      "text/plain": [
       "Text(0.5, 1.0, 'Precision-recall curve for logistic regression (C=0.01, solver = \"newton-cg\")')"
      ]
     },
     "execution_count": 11,
     "metadata": {},
     "output_type": "execute_result"
    },
    {
     "data": {
      "image/png": "[encoded data removed]",
      "text/plain": [
       "<Figure size 432x288 with 1 Axes>"
      ]
     },
     "metadata": {},
     "output_type": "display_data"
    }
   ],
   "source": [
    "#use best preprocessing (None) and parameters (c=0.01, solver = 'newton-cg') for av. precision\n",
    "from sklearn.metrics import precision_recall_curve\n",
    "from matplotlib import pyplot as plt\n",
    "import numpy as np\n",
    "    \n",
    "pipe = Pipeline([('preprocessing', None), \n",
    "                ('classifier', LogisticRegression(C=0.01, max_iter=10000, solver = 'newton-cg'))])\n",
    "\n",
    "pipe.fit(X_train_cv, y_train_cv)\n",
    "predict = (pipe.decision_function(X_test_nodup))\n",
    "\n",
    "precision, recall, thresholds = precision_recall_curve(y_test_nodup, predict)\n",
    "\n",
    "plt.plot(precision, recall, label='LogReg')\n",
    "close_zero = np.argmin(np.abs(thresholds))\n",
    "plt.plot(precision[close_zero], recall[close_zero], '^', c='k', \n",
    "              markersize=10, label='threshold zero ', fillstyle='none', mew=2)\n",
    "plt.xlabel('precision')\n",
    "plt.ylabel('recall')\n",
    "plt.legend(loc='best')\n",
    "plt.title('Precision-recall curve for logistic regression (C=0.01, solver = \"newton-cg\")')"
   ]
  },
  {
   "cell_type": "markdown",
   "id": "637fdbf5",
   "metadata": {},
   "source": [
    "8. ROC\n",
    "curve with best preprocessing and parameters for AREA UNDER ROC CURVE"
   ]
  },
  {
   "cell_type": "code",
   "execution_count": 12,
   "id": "24d047f3",
   "metadata": {},
   "outputs": [
    {
     "data": {
      "text/plain": [
       "Text(0.5, 1.0, 'ROC curve for logistic regression (MinMaxScaler(), C=100, solver = \"liblinear\")')"
      ]
     },
     "execution_count": 12,
     "metadata": {},
     "output_type": "execute_result"
    },
    {
     "data": {
      "image/png": "[encoded data removed]",
      "text/plain": [
       "<Figure size 432x288 with 1 Axes>"
      ]
     },
     "metadata": {},
     "output_type": "display_data"
    }
   ],
   "source": [
    "#use best preprocessing (MinMaxScaler()) and parameters (c=100, solver = 'liblinear') for best: ROC AUC\n",
    "from sklearn.metrics import roc_curve\n",
    "\n",
    "pipe = Pipeline([('preprocessing', MinMaxScaler()), \n",
    "                ('classifier', LogisticRegression(C=100, max_iter=10000, solver = 'liblinear'))])\n",
    "  \n",
    "pipe.fit(X_train_cv, y_train_cv)\n",
    "\n",
    "fpr, tpr, thresholds = roc_curve(y_test_nodup, pipe.decision_function(X_test_nodup))\n",
    "\n",
    "plt.plot(fpr, tpr, label='LogReg')\n",
    "close_zero = np.argmin(np.abs(thresholds))\n",
    "plt.plot(fpr[close_zero], tpr[close_zero], '^', c='k',\n",
    "         markersize=10, label=' threshold zero', fillstyle='none', mew=2)\n",
    "plt.xlabel('FPR')\n",
    "plt.ylabel('TPR')\n",
    "plt.legend(loc='best')\n",
    "plt.title('ROC curve for logistic regression (MinMaxScaler(), C=100, solver = \"liblinear\")')"
   ]
  },
  {
   "cell_type": "markdown",
   "id": "0647b944",
   "metadata": {},
   "source": [
    "9. Use curves to determine if precision can be increased and FPR can be reduced "
   ]
  },
  {
   "cell_type": "markdown",
   "id": "10ef69e0",
   "metadata": {},
   "source": [
    "- Increase in precision leads to large drop in recall\n",
    "- Making FPR smaller leads to a large drop in TPR"
   ]
  },
  {
   "cell_type": "markdown",
   "id": "3f2f55d5",
   "metadata": {},
   "source": [
    "10. Produce confusion matrix with best parameters for precision or area under ROC curve (whichever gave best CV score)"
   ]
  },
  {
   "cell_type": "code",
   "execution_count": 13,
   "id": "f8885644",
   "metadata": {},
   "outputs": [
    {
     "name": "stdout",
     "output_type": "stream",
     "text": [
      "Precision:  0.8\n",
      "Sensitivity:  0.68\n",
      "Specificity:  0.8495575221238938\n",
      "FPR : 0.1504424778761062\n",
      "very major error : 15.04424778761062\n",
      "major error:  32.0\n",
      "\n",
      " confusion matrix: \n",
      " [[96 17]\n",
      " [32 68]]\n"
     ]
    }
   ],
   "source": [
    "#confusion matrix (MinMaxScaler()) and parameters (c=100, solver = 'liblinear') from ROC AUC\n",
    "\n",
    "from sklearn.metrics import confusion_matrix\n",
    "\n",
    "#build and fit pipieline\n",
    "pipe = Pipeline([('preprocessing', MinMaxScaler()), \n",
    "                ('classifier', LogisticRegression(C=100, max_iter=10000, solver = 'liblinear'))])\n",
    "\n",
    "pipe.fit(X_train_cv, y_train_cv)\n",
    "predict = pipe.predict(X_test_nodup).astype(int)\n",
    "\n",
    "#generate confusion matrix\n",
    "confusion = confusion_matrix(y_test_nodup, predict)\n",
    "\n",
    "#calculate precision, sensitivity, specifcity, FPR, erros\n",
    "Precision = (confusion[1][1])/(confusion[1][1]+confusion[0][1])\n",
    "Sensitivity = (confusion[1][1])/(confusion[1][1]+confusion[1][0])\n",
    "Specificity = (confusion[0][0])/(confusion[0][0]+confusion[0][1])\n",
    "FPR = 1-Specificity\n",
    "very_major_error = (confusion[0][1]/y_test_nodup[y_test_nodup==0].count())*100\n",
    "major_error = (confusion[1][0]/y_test_nodup[y_test_nodup==1].count())*100\n",
    "\n",
    "\n",
    "print ('Precision: ', Precision)\n",
    "print ('Sensitivity: ', Sensitivity)\n",
    "print ('Specificity: ', Specificity)\n",
    "print ('FPR :', FPR)\n",
    "print ('very major error :', very_major_error)\n",
    "print ('major error: ', major_error)\n",
    "print ('\\n confusion matrix: \\n', confusion)\n",
    "\n",
    "# begins creates list for model comparison:\n",
    "direct_VME = very_major_error\n",
    "direct_ME = major_error"
   ]
  },
  {
   "cell_type": "code",
   "execution_count": 14,
   "id": "edc2429a",
   "metadata": {},
   "outputs": [
    {
     "name": "stdout",
     "output_type": "stream",
     "text": [
      "{0: 128, 1: 85}\n"
     ]
    },
    {
     "data": {
      "image/png": "[encoded data removed]",
      "text/plain": [
       "<Figure size 648x648 with 2 Axes>"
      ]
     },
     "metadata": {},
     "output_type": "display_data"
    }
   ],
   "source": [
    "unique, counts = np.unique(predict, return_counts=True)\n",
    "print(dict(zip(unique, counts)))\n",
    "\n",
    "cm = metrics.confusion_matrix(y_test_nodup, predict)\n",
    "plt.figure(figsize=(9,9))\n",
    "\n",
    "group_names = ['True Resistant','Very major error','Major error','True Susceptible']\n",
    "group_counts = ['{0:0.0f}'.format(value) for value in\n",
    "                cm.flatten()]\n",
    "group_percentages = ['{0:.2%}'.format(value) for value in\n",
    "                     cm.flatten()/np.sum(cm)]\n",
    "labels = [f'{v1}\\n{v2}\\n{v3}' for v1, v2, v3 in\n",
    "          zip(group_names,group_counts,group_percentages)]\n",
    "labels = np.asarray(labels).reshape(2,2)\n",
    "\n",
    "sns.heatmap(cm, annot=labels, fmt='', linewidths=.5, square = True, cmap = 'Blues_r', cbar=False);\n",
    "plt.ylabel('Actual label');\n",
    "plt.xlabel('Predicted label');\n",
    "plt.title('Logistic Regression - Direct Binary Classification');"
   ]
  },
  {
   "cell_type": "markdown",
   "id": "8e456d73",
   "metadata": {},
   "source": [
    "11. Shift decision threshold to improve precision and FPR - reducing instances where resistant cases are predicted to be susceptible"
   ]
  },
  {
   "cell_type": "code",
   "execution_count": 15,
   "id": "4dde57e8",
   "metadata": {},
   "outputs": [
    {
     "name": "stderr",
     "output_type": "stream",
     "text": [
      "C:\\Users\\user\\AppData\\Local\\Temp/ipykernel_3732/3803690163.py:24: RuntimeWarning: invalid value encountered in double_scalars\n",
      "  grad_change = (m_error_cost / (-1*vm_error_cost))\n",
      "C:\\Users\\user\\AppData\\Local\\Temp/ipykernel_3732/3803690163.py:24: RuntimeWarning: invalid value encountered in double_scalars\n",
      "  grad_change = (m_error_cost / (-1*vm_error_cost))\n",
      "C:\\Users\\user\\AppData\\Local\\Temp/ipykernel_3732/3803690163.py:24: RuntimeWarning: invalid value encountered in double_scalars\n",
      "  grad_change = (m_error_cost / (-1*vm_error_cost))\n",
      "C:\\Users\\user\\AppData\\Local\\Temp/ipykernel_3732/3803690163.py:24: RuntimeWarning: invalid value encountered in double_scalars\n",
      "  grad_change = (m_error_cost / (-1*vm_error_cost))\n",
      "C:\\Users\\user\\AppData\\Local\\Temp/ipykernel_3732/3803690163.py:24: RuntimeWarning: divide by zero encountered in double_scalars\n",
      "  grad_change = (m_error_cost / (-1*vm_error_cost))\n"
     ]
    },
    {
     "data": {
      "image/png": "[encoded data removed]",
      "text/plain": [
       "<Figure size 432x288 with 1 Axes>"
      ]
     },
     "metadata": {},
     "output_type": "display_data"
    },
    {
     "name": "stdout",
     "output_type": "stream",
     "text": [
      "Optimum threshold to reduce very major error without     increasing major error by more than 1.5x :\n",
      " 0.3\n"
     ]
    }
   ],
   "source": [
    "# graph showing how major and very major error changes with decision threshold\n",
    "\n",
    "threshold  = np.linspace(0,1,num = 51)\n",
    "very_major_error = []\n",
    "major_error = []\n",
    "net_error_change = []\n",
    "threshold_shift = []\n",
    "\n",
    "predict = (pipe.decision_function(X_test_nodup)>=0).astype(int)\n",
    "confusion = confusion_matrix(y_test_nodup, predict)\n",
    "og_very_major_error = ((confusion[0][1]/y_test_nodup[y_test_nodup==0].count())*100)\n",
    "og_major_error = ((confusion[1][0]/y_test_nodup[y_test_nodup==1].count())*100)\n",
    "\n",
    "for i in threshold:\n",
    "    predict = (pipe.decision_function(X_test_nodup)>=i).astype(int)\n",
    "    confusion = confusion_matrix(y_test_nodup, predict)\n",
    "    very_major_error.append((confusion[0][1]/y_test_nodup[y_test_nodup==0].count())*100)\n",
    "    major_error.append((confusion[1][0]/y_test_nodup[y_test_nodup==1].count())*100)\n",
    "\n",
    "    #code to mathematically determine optimum threshold shifting\n",
    "    vm_error_cost = ((confusion[0][1]/y_test_nodup[y_test_nodup==0].count())*100) - og_very_major_error\n",
    "    m_error_cost = ((confusion[1][0]/y_test_nodup[y_test_nodup==1].count())*100) - og_major_error\n",
    "    net_error_change.append(m_error_cost + vm_error_cost)\n",
    "    grad_change = (m_error_cost / (-1*vm_error_cost))\n",
    "    if grad_change <= 1.5:\n",
    "        threshold_shift.append(i)\n",
    "    \n",
    "    \n",
    "    \n",
    "plt.plot(threshold, very_major_error, label = 'very major error')\n",
    "plt.plot(threshold, major_error, label = 'major error')\n",
    "plt.plot(threshold, net_error_change, label = 'Net change in very major error + major error')\n",
    "\n",
    "plt.ylabel('Score')\n",
    "plt.xlabel('Decision Threshold')\n",
    "plt.legend()\n",
    "plt.show()\n",
    "\n",
    "if threshold_shift == []:\n",
    "    optimum_thresh = 0\n",
    "    print('Shifting does not improve results')\n",
    "else:\n",
    "    optimum_thresh = max(threshold_shift)\n",
    "    print('Optimum threshold to reduce very major error without \\\n",
    "    increasing major error by more than 1.5x :\\n'\\\n",
    "        ,max(threshold_shift))"
   ]
  },
  {
   "cell_type": "code",
   "execution_count": 16,
   "id": "f03718f9",
   "metadata": {},
   "outputs": [
    {
     "name": "stdout",
     "output_type": "stream",
     "text": [
      "Precision:  0.8472222222222222\n",
      "Sensitivity:  0.61\n",
      "Specificity:  0.9026548672566371\n",
      "FPR : 0.09734513274336287\n",
      "very major error : 9.734513274336283\n",
      "major error:  39.0\n",
      "\n",
      " confusion_matrix: \n",
      " [[102  11]\n",
      " [ 39  61]]\n"
     ]
    }
   ],
   "source": [
    "# shift threshold accoriding to data above - optimum theshold to decrease FPR without\n",
    "# increasing major error by more than 1.5 x\n",
    "# = ~0.3\n",
    "\n",
    "predict = (pipe.decision_function(X_test_nodup)>=optimum_thresh).astype(int)\n",
    "confusion = confusion_matrix(y_test_nodup, predict)\n",
    "\n",
    "Precision = (confusion[1][1])/(confusion[1][1]+confusion[0][1])\n",
    "Sensitivity = (confusion[1][1])/(confusion[1][1]+confusion[1][0])\n",
    "Specificity = (confusion[0][0])/(confusion[0][0]+confusion[0][1])\n",
    "FPR = 1-Specificity\n",
    "very_major_error = (confusion[0][1]/y_test_nodup[y_test_nodup==0].count())*100\n",
    "major_error = (confusion[1][0]/y_test_nodup[y_test_nodup==1].count())*100\n",
    "\n",
    "print ('Precision: ', Precision)\n",
    "print ('Sensitivity: ', Sensitivity)\n",
    "print ('Specificity: ', Specificity)\n",
    "print ('FPR :', FPR)\n",
    "print ('very major error :', very_major_error)\n",
    "print ('major error: ', major_error)\n",
    "\n",
    "print ('\\n confusion_matrix: \\n', confusion)\n",
    "\n",
    "# adds to list for model quality comparison\n",
    "shifted_direct_VME = very_major_error\n",
    "shifted_direct_ME = major_error"
   ]
  },
  {
   "cell_type": "markdown",
   "id": "4c2a142b",
   "metadata": {},
   "source": [
    "Optimum model: preprocessing (MinMaxScaler()), parameters (c=100, solver = 'liblinear', threshold = 0.3)"
   ]
  },
  {
   "cell_type": "code",
   "execution_count": null,
   "id": "ba6eba47",
   "metadata": {},
   "outputs": [],
   "source": []
  },
  {
   "cell_type": "markdown",
   "id": "a759877f",
   "metadata": {},
   "source": [
    "Feature importance data for model comparison:"
   ]
  },
  {
   "cell_type": "code",
   "execution_count": 17,
   "id": "f05ccfa1",
   "metadata": {},
   "outputs": [
    {
     "data": {
      "text/plain": [
       "<matplotlib.legend.Legend at 0x281d25e20a0>"
      ]
     },
     "execution_count": 17,
     "metadata": {},
     "output_type": "execute_result"
    },
    {
     "data": {
      "image/png": "[encoded data removed]",
      "text/plain": [
       "<Figure size 576x720 with 1 Axes>"
      ]
     },
     "metadata": {},
     "output_type": "display_data"
    }
   ],
   "source": [
    "#Use standardscaler() for no_params \n",
    "#need to scale data to use coefficients for feature importance \n",
    "no_params = Pipeline([('preprocessing', StandardScaler()), \n",
    "                      ('classifier', LogisticRegression(max_iter=10000))])\n",
    "\n",
    "best_params = Pipeline([('preprocessing', MinMaxScaler()),\n",
    "                ('classifier',\n",
    "                 LogisticRegression(C=100, max_iter=10000,\n",
    "                                    solver='liblinear'))])\n",
    "\n",
    "no_params.fit(X_train_cv, y_train_cv)\n",
    "best_params.fit(X_train_cv, y_train_cv)\n",
    "\n",
    "DF = pd.DataFrame({'Default Parameters':((no_params.named_steps['classifier'].coef_)[0]),\n",
    "                   'Best Parameters':((best_params.named_steps['classifier'].coef_)[0]),\n",
    "                   'n_features':np.arange(X_train_cv.shape[1])})\n",
    "                          \n",
    "df_melted = DF.melt(\"n_features\",var_name=\"Params\",value_name=\"importance\")\n",
    "\n",
    "sns.set_theme()\n",
    "sns.set(rc={'figure.figsize':(8,10)})\n",
    "sns.set_palette(sns.color_palette('Set1'))\n",
    "x = sns.barplot(data=df_melted, x='importance', y='n_features', hue='Params', orient='h')\n",
    "plt.yticks(DF['n_features'], df.columns[3:])\n",
    "x.set(xlabel='Coefficient', ylabel='Feature')\n",
    "plt.legend(loc='lower right')"
   ]
  },
  {
   "cell_type": "code",
   "execution_count": 18,
   "id": "69df7501",
   "metadata": {},
   "outputs": [],
   "source": [
    "#produce relative importance df for best model for direct binary classification comparison\n",
    "modal_df = abs(DF['Best Parameters'])\n",
    "relative_importance = []\n",
    "for i in modal_df:\n",
    "    relative_importance.append(i / max(modal_df))\n",
    "logreg_df = pd.DataFrame({'LR_relative_importance':relative_importance,\n",
    "                   'n_features':np.arange(X_train_cv.shape[1])})\n",
    "logreg_df.to_csv('LR_relative_importance.csv')"
   ]
  },
  {
   "cell_type": "code",
   "execution_count": null,
   "id": "3033a673",
   "metadata": {},
   "outputs": [],
   "source": []
  },
  {
   "cell_type": "markdown",
   "id": "647d9923",
   "metadata": {},
   "source": [
    "Indirect binary classification"
   ]
  },
  {
   "cell_type": "markdown",
   "id": "2cd51b7b",
   "metadata": {},
   "source": [
    "1. Seperate the dataframe into a features and label dataset\n",
    "2. Break datasets down into training and test sets containing only unique mutations\n",
    "3. Establish pipeline and parameter grid for model and grid search\n",
    "4. Grid search with shuffled k fold cross validation to find best preprocessing and parameters for ACCURACY\n",
    "5. Produce confusion matrix with best parameters for ACCURACY\n",
    "6. Convert predicted MIC to binary phenotype\n",
    "7. Produce binary confusion matrix with best parameters for ACCURACY"
   ]
  },
  {
   "cell_type": "markdown",
   "id": "062f1ab4",
   "metadata": {},
   "source": [
    "1. Seperate the dataframe into a features and label dataset"
   ]
  },
  {
   "cell_type": "code",
   "execution_count": 19,
   "id": "038e22bf",
   "metadata": {},
   "outputs": [],
   "source": [
    "MIC_ML_data = ML_data.dropna(subset = ['METHOD_MIC'])"
   ]
  },
  {
   "cell_type": "code",
   "execution_count": 20,
   "id": "843e4c68",
   "metadata": {},
   "outputs": [
    {
     "name": "stderr",
     "output_type": "stream",
     "text": [
      "C:\\Users\\user\\AppData\\Local\\Temp/ipykernel_3732/2143801672.py:16: SettingWithCopyWarning: \n",
      "A value is trying to be set on a copy of a slice from a DataFrame.\n",
      "Try using .loc[row_indexer,col_indexer] = value instead\n",
      "\n",
      "See the caveats in the documentation: https://pandas.pydata.org/pandas-docs/stable/user_guide/indexing.html#returning-a-view-versus-a-copy\n",
      "  MIC_ML_data['MIC_values'] = MIC_strings\n"
     ]
    }
   ],
   "source": [
    "# bunches up values >1.6 into one label as these vary due to difference in plates\n",
    "MIC_strings = []\n",
    "\n",
    "for i in MIC_ML_data['METHOD_MIC']:\n",
    "    if i == '3.2':\n",
    "        MIC_strings.append('>1.6')\n",
    "    elif i == '6.4':\n",
    "        MIC_strings.append('>1.6')\n",
    "    elif i == '12.8':\n",
    "        MIC_strings.append('>1.6')\n",
    "    elif i == '>12.8':\n",
    "        MIC_strings.append('>1.6')\n",
    "    else:\n",
    "        MIC_strings.append(i)\n",
    "        \n",
    "MIC_ML_data['MIC_values'] = MIC_strings"
   ]
  },
  {
   "cell_type": "code",
   "execution_count": 21,
   "id": "4ebc173c",
   "metadata": {},
   "outputs": [],
   "source": [
    "MIC_df = MIC_ML_data[['MIC_values','MUT_RESISTANCE','MUTATION','Site1_Distance','d_volume','d_MW',\t\\\n",
    "              'd_hydropathy', 'd_Pi', 'Depth','H','O','T','S','G','E',  \\\n",
    "              'B','I','Tempfactor','Hem_dist','Site2_dist','SNAP2_score']]\n",
    "\n",
    "# creates features numpy array\n",
    "MIC_features = MIC_df[MIC_df.columns[2:]].to_numpy()\n",
    "\n",
    "#creates resistance label column\n",
    "MIC_label = MIC_df['MIC_values'].to_numpy()"
   ]
  },
  {
   "cell_type": "markdown",
   "id": "da11481b",
   "metadata": {},
   "source": [
    "2. Break datasets down into training and test sets containing only unique mutations"
   ]
  },
  {
   "cell_type": "code",
   "execution_count": 22,
   "id": "0afef9f2",
   "metadata": {},
   "outputs": [],
   "source": [
    "#split data into training and test sets\n",
    "X_train, X_test, y_train, y_test = train_test_split(MIC_features, MIC_label,\n",
    "                                                    random_state=0)\n"
   ]
  },
  {
   "cell_type": "code",
   "execution_count": 23,
   "id": "dac1a4bd",
   "metadata": {},
   "outputs": [],
   "source": [
    "# creates features and label dfs from unique mutations when the original train-test split \n",
    "# is inputted \n",
    "def remove_duplicate_mutations(X_dataset, y_dataset):\n",
    "\n",
    "    #converts long X_train and y_train to pd df to join\n",
    "    X_train_df = pd.DataFrame(X_dataset)\n",
    "    X_train_df.rename(columns = {0:'MUTATION'}, inplace = True)\n",
    "    y_train_df = pd.DataFrame(y_dataset)\n",
    "    y_train_df.rename(columns = {0:'MIC_VALUES'}, inplace = True)\n",
    "\n",
    "    CV_train = X_train_df.join(y_train_df,  how = 'inner')\n",
    "\n",
    "    #converts MIC_values to an integer so that the mean can be calculated for each mutation\n",
    "    #with multiple samples\n",
    "    MIC_integers = []\n",
    "\n",
    "    for i in CV_train['MIC_VALUES']:\n",
    "        if i == '<=0.025':\n",
    "            MIC_integers.append(1)\n",
    "        elif i == '0.05':\n",
    "            MIC_integers.append(2)\n",
    "        elif i == '0.1':\n",
    "            MIC_integers.append(3)\n",
    "        elif i == '0.2':\n",
    "            MIC_integers.append(4)\n",
    "        elif i == '0.4':\n",
    "            MIC_integers.append(5)\n",
    "        elif i == '0.8':\n",
    "            MIC_integers.append(6)\n",
    "        elif i == '1.6':\n",
    "            MIC_integers.append(7)\n",
    "        elif i == '>1.6':\n",
    "            MIC_integers.append(8)\n",
    "        \n",
    "    CV_train['MIC_integers'] = MIC_integers\n",
    "\n",
    "    #calculates the mean MIC value using the integer scale for each mutation\n",
    "    MIC_calc_df = CV_train[['MUTATION','MIC_integers']].groupby('MUTATION').mean()\n",
    "    \n",
    "    #rounds the mean MIC value to the nearest integer for conversion back to the \n",
    "    #original MIC classes\n",
    "    MIC_rounded = []\n",
    "    for i in MIC_calc_df['MIC_integers']:\n",
    "        rnd = round(i)\n",
    "        MIC_rounded.append(rnd)\n",
    "    MIC_calc_df['MIC_rounded'] = MIC_rounded\n",
    "    \n",
    "    #converts integers back to orignal MIC classes\n",
    "    MIC_strings = []\n",
    "    for i in MIC_calc_df['MIC_rounded']:\n",
    "        if i == 1:\n",
    "            MIC_strings.append('<=0.025')\n",
    "        elif i == 2:\n",
    "            MIC_strings.append('0.05')\n",
    "        elif i == 3:\n",
    "            MIC_strings.append('0.1')\n",
    "        elif i == 4:\n",
    "            MIC_strings.append('0.2')\n",
    "        elif i == 5:\n",
    "            MIC_strings.append('0.4')\n",
    "        elif i == 6:\n",
    "            MIC_strings.append('0.8')\n",
    "        elif i == 7:\n",
    "            MIC_strings.append('1.6')\n",
    "        elif i == 8:\n",
    "            MIC_strings.append('>1.6')   \n",
    "\n",
    "    MIC_calc_df['MIC_final'] = MIC_strings\n",
    "\n",
    "    # joins new MIC classes to CV_train df to replace the variation in MIC values associated\n",
    "    # with mutations with multiple DST_measurements \n",
    "    MIC_calc_df.drop(['MIC_integers','MIC_rounded'], axis =1, inplace = True)\n",
    "    CV_train.set_index('MUTATION', inplace = True)\n",
    "    CV_train = CV_train.join(MIC_calc_df)\n",
    "    CV_train.reset_index(inplace = True)\n",
    "    CV_train.drop(['MIC_VALUES','MIC_integers'], axis = 1, inplace = True)\n",
    "    CV_train.rename(columns = {'index':'MUTATION','MIC_final':'MIC_VALUES'}, inplace = True)\n",
    "    \n",
    "    #removes duplicates and mutation column\n",
    "    CV_train_unique = CV_train.drop_duplicates(subset='MUTATION', keep = 'first')\n",
    "    CV_train_unique.drop(['MUTATION'], axis = 1, inplace = True)\n",
    "\n",
    "    #seperates into unique features and label numpy arrays\n",
    "    features_unique = CV_train_unique[CV_train_unique.columns[:-1]].to_numpy()\n",
    "    label_unique = CV_train_unique['MIC_VALUES']\n",
    "\n",
    "    X_no_duplicates = (features_unique)\n",
    "    y_no_duplicates = (label_unique)\n",
    "    \n",
    "    return (X_no_duplicates, y_no_duplicates)"
   ]
  },
  {
   "cell_type": "code",
   "execution_count": 24,
   "id": "efc67297",
   "metadata": {},
   "outputs": [
    {
     "name": "stderr",
     "output_type": "stream",
     "text": [
      "C:\\Users\\user\\anaconda3\\lib\\site-packages\\pandas\\core\\frame.py:4906: SettingWithCopyWarning: \n",
      "A value is trying to be set on a copy of a slice from a DataFrame\n",
      "\n",
      "See the caveats in the documentation: https://pandas.pydata.org/pandas-docs/stable/user_guide/indexing.html#returning-a-view-versus-a-copy\n",
      "  return super().drop(\n"
     ]
    }
   ],
   "source": [
    "X_train_nodup, y_train_nodup = remove_duplicate_mutations(X_train, y_train)\n",
    "X_test_nodup, y_test_nodup = remove_duplicate_mutations(X_test, y_test)"
   ]
  },
  {
   "cell_type": "code",
   "execution_count": 25,
   "id": "8301af44",
   "metadata": {},
   "outputs": [],
   "source": [
    "#split data into training and test sets\n",
    "X_train_cv, X_test_cv, y_train_cv, y_test_cv = train_test_split(X_train_nodup, y_train_nodup,\n",
    "                                                    random_state=0, test_size = 0.2)"
   ]
  },
  {
   "cell_type": "markdown",
   "id": "2919b60e",
   "metadata": {},
   "source": [
    "3. Establish pipeline and parameter grid for model and grid search"
   ]
  },
  {
   "cell_type": "code",
   "execution_count": 26,
   "id": "5b6cf768",
   "metadata": {},
   "outputs": [],
   "source": [
    "#build pipeline and paratmeter grid\n",
    "pipe = Pipeline([('preprocessing', StandardScaler()), ('classifier', \\\n",
    "            LogisticRegression(max_iter=100000000, multi_class = 'multinomial'))])\n",
    "param_grid = {'preprocessing':[StandardScaler(), MinMaxScaler(), RobustScaler()],\n",
    "              'classifier__C': [0.01, 0.1, 1, 10, 100],'classifier__solver': \\\n",
    "              ['newton-cg', 'lbfgs']}"
   ]
  },
  {
   "cell_type": "markdown",
   "id": "b4f2b1fe",
   "metadata": {},
   "source": [
    "4. Grid search with shuffled k fold cross validation to find best preprocessing and parameters for ACCURACY"
   ]
  },
  {
   "cell_type": "code",
   "execution_count": 27,
   "id": "de27a6ca",
   "metadata": {},
   "outputs": [
    {
     "name": "stdout",
     "output_type": "stream",
     "text": [
      "grid_kfold_shuffle: best estimator: \n",
      " Pipeline(steps=[('preprocessing', MinMaxScaler()),\n",
      "                ('classifier',\n",
      "                 LogisticRegression(C=10, max_iter=100000000,\n",
      "                                    multi_class='multinomial',\n",
      "                                    solver='newton-cg'))])\n",
      "grid_kfold_shuffle: best cross-validation score:  0.2417338709677419\n",
      "grid_kfold_shuffle: test set average accuracy:  0.2 \n",
      "\n"
     ]
    }
   ],
   "source": [
    "#Grid search with shuffled kfold cross validation\n",
    "Kfold_shuffle=KFold(n_splits=5, shuffle=True, random_state=0)\n",
    "grid_kfold_shuffle = GridSearchCV(pipe, param_grid, cv=Kfold_shuffle, n_jobs=-1)\n",
    "grid_kfold_shuffle.fit(X_train_cv, y_train_cv)\n",
    "print ('grid_kfold_shuffle: best estimator: \\n', grid_kfold_shuffle.best_estimator_)\n",
    "print ('grid_kfold_shuffle: best cross-validation score: ', grid_kfold_shuffle.best_score_)\n",
    "print ('grid_kfold_shuffle: test set average accuracy: ', \n",
    "       accuracy_score(y_test_cv, grid_kfold_shuffle.predict(X_test_cv)), '\\n')"
   ]
  },
  {
   "cell_type": "markdown",
   "id": "147bfd24",
   "metadata": {},
   "source": [
    "5. Produce confusion matrix with best parameters for ACCURACY"
   ]
  },
  {
   "cell_type": "code",
   "execution_count": 28,
   "id": "3782ae15",
   "metadata": {},
   "outputs": [
    {
     "name": "stdout",
     "output_type": "stream",
     "text": [
      "\n",
      " multiclass confusion matrix: \n",
      " [[4 3 0 0 1 0 0 0]\n",
      " [4 5 0 0 0 0 0 0]\n",
      " [3 2 0 2 2 0 0 3]\n",
      " [3 3 0 1 1 3 1 1]\n",
      " [0 2 0 0 2 0 0 4]\n",
      " [1 0 0 0 1 4 1 1]\n",
      " [0 0 0 0 0 1 0 3]\n",
      " [2 2 0 0 2 0 3 4]]\n"
     ]
    }
   ],
   "source": [
    "from sklearn.metrics import confusion_matrix\n",
    "\n",
    "#build pipeline and fit\n",
    "pipe = Pipeline([('preprocessing', MinMaxScaler()), \n",
    "                 ('classifier', LogisticRegression(C=10,max_iter=100000000, \\\n",
    "                        multi_class='multinomial', solver='newton-cg'))])\n",
    "\n",
    "pipe.fit(X_train_cv, y_train_cv)                 \n",
    "                 \n",
    "predict = pipe.predict(X_test_nodup)\n",
    "#generate confusion matrix\n",
    "target_names = ['<=0.025','0.05','0.1','0.2','0.4','0.8',  '1.6','>1.6']\n",
    "confusion = confusion_matrix(y_test_nodup, predict, labels = target_names)\n",
    "\n",
    "print ('\\n multiclass confusion matrix: \\n', confusion)"
   ]
  },
  {
   "cell_type": "code",
   "execution_count": 29,
   "id": "1b545e62",
   "metadata": {},
   "outputs": [
    {
     "data": {
      "image/png": "[encoded data removed]",
      "text/plain": [
       "<Figure size 576x720 with 1 Axes>"
      ]
     },
     "metadata": {},
     "output_type": "display_data"
    }
   ],
   "source": [
    "#generate heatmap of confusion matrix for visualisation\n",
    "\n",
    "import mglearn\n",
    "\n",
    "target_names = ['<=0.025','0.05','0.1','0.2','0.4','0.8', '1.6','>1.6']\n",
    "scores_image = mglearn.tools.heatmap(confusion, xlabel='predicted label',\n",
    "                                     ylabel='true label', xticklabels=target_names,\n",
    "                                     yticklabels=target_names, cmap=plt.cm.gray_r, fmt='%d')\n",
    "plt.title('confusion matrix heat map')\n",
    "plt.gca().invert_yaxis()"
   ]
  },
  {
   "cell_type": "code",
   "execution_count": 30,
   "id": "3dc2e2f2",
   "metadata": {},
   "outputs": [
    {
     "name": "stdout",
     "output_type": "stream",
     "text": [
      "              precision    recall  f1-score   support\n",
      "\n",
      "        0.05       0.29      0.56      0.38         9\n",
      "         0.1       1.00      0.00      0.00        12\n",
      "         0.2       0.33      0.08      0.12        13\n",
      "         0.4       0.22      0.25      0.24         8\n",
      "         0.8       0.50      0.50      0.50         8\n",
      "         1.6       0.00      0.00      0.00         4\n",
      "     <=0.025       0.24      0.50      0.32         8\n",
      "        >1.6       0.25      0.31      0.28        13\n",
      "\n",
      "    accuracy                           0.27        75\n",
      "   macro avg       0.35      0.27      0.23        75\n",
      "weighted avg       0.40      0.27      0.23        75\n",
      "\n"
     ]
    }
   ],
   "source": [
    "#generate classification report\n",
    "from sklearn.metrics import classification_report\n",
    "print (classification_report(y_test_nodup, predict, zero_division=True))"
   ]
  },
  {
   "cell_type": "markdown",
   "id": "6a64ccf4",
   "metadata": {},
   "source": [
    "6. Convert predicted MIC to binary phenotype"
   ]
  },
  {
   "cell_type": "code",
   "execution_count": 31,
   "id": "c83b539a",
   "metadata": {},
   "outputs": [],
   "source": [
    "# will categorise multiclass data into 2 groups\n",
    "def MIC_to_binary(data):\n",
    "    RS_dict = {0:['0.2','0.4','0.8','1.6','>1.6'],\n",
    "           1:['<=0.025','0.05','0.1']}\n",
    "    binary_list = []\n",
    "    for i in data:\n",
    "        for k,v in RS_dict.items():\n",
    "            for j in v:\n",
    "                if i == j:\n",
    "                    binary_list.append(k)\n",
    "\n",
    "    binary_array = np.array(binary_list)\n",
    "    return binary_array"
   ]
  },
  {
   "cell_type": "markdown",
   "id": "a8c60209",
   "metadata": {},
   "source": [
    "7. Produce binary confusion matrix with best parameters for ACCURACY"
   ]
  },
  {
   "cell_type": "code",
   "execution_count": 43,
   "id": "9e1a4d5d",
   "metadata": {},
   "outputs": [
    {
     "name": "stdout",
     "output_type": "stream",
     "text": [
      "Precision:  0.6176470588235294\n",
      "Sensitivity:  0.7241379310344828\n",
      "Specificity:  0.717391304347826\n",
      "FPR : 0.28260869565217395\n",
      "very major error : 28.26086956521739\n",
      "major error:  27.586206896551722\n",
      "\n",
      " confusion matrix: \n",
      " [[33 13]\n",
      " [ 8 21]]\n"
     ]
    },
    {
     "data": {
      "image/png": "[encoded data removed]",
      "text/plain": [
       "<Figure size 576x720 with 1 Axes>"
      ]
     },
     "metadata": {},
     "output_type": "display_data"
    }
   ],
   "source": [
    "#convert MIC targets to binary targets and generate confusion matrix\n",
    "predict = pipe.predict(X_test_nodup)\n",
    "confusion = confusion_matrix(MIC_to_binary(y_test_nodup), MIC_to_binary(predict))\n",
    "cm = metrics.confusion_matrix(MIC_to_binary(y_test_nodup), MIC_to_binary(predict))\n",
    "\n",
    "#calculate precision, senstivity, specificty, FPR, and erros\n",
    "Precision = (confusion[1][1])/(confusion[1][1]+confusion[0][1])\n",
    "Sensitivity = (confusion[1][1])/(confusion[1][1]+confusion[1][0])\n",
    "Specificity = (confusion[0][0])/(confusion[0][0]+confusion[0][1])\n",
    "FPR = 1-Specificity\n",
    "very_major_error = (confusion[0][1]/len(MIC_to_binary(y_test_nodup)[MIC_to_binary(y_test_nodup)==0]))*100\n",
    "major_error = (confusion[1][0]/len(MIC_to_binary(y_test_nodup)[MIC_to_binary(y_test_nodup)==1]))*100\n",
    "\n",
    "\n",
    "print ('Precision: ', Precision)\n",
    "print ('Sensitivity: ', Sensitivity)\n",
    "print ('Specificity: ', Specificity)\n",
    "print ('FPR :', FPR)\n",
    "print ('very major error :', very_major_error)\n",
    "print ('major error: ', major_error)\n",
    "print ('\\n confusion matrix: \\n', confusion)\n",
    "\n",
    "group_names = ['True Resistant','Very major error','Major error','True Susceptible']\n",
    "group_counts = ['{0:0.0f}'.format(value) for value in\n",
    "                cm.flatten()]\n",
    "group_percentages = ['{0:.2%}'.format(value) for value in\n",
    "                     cm.flatten()/np.sum(cm)]\n",
    "labels = [f'{v1}\\n{v2}\\n{v3}' for v1, v2, v3 in\n",
    "          zip(group_names,group_counts,group_percentages)]\n",
    "labels = np.asarray(labels).reshape(2,2)\n",
    "\n",
    "sns.heatmap(cm, annot=labels, fmt='', linewidths=.5, square = True, cmap = 'Blues_r', cbar=False);\n",
    "plt.ylabel('Actual label');\n",
    "plt.xlabel('Predicted label');\n",
    "plt.title('Logistic Regression - Indirect Binary Classification');\n",
    "\n",
    "#completes list of model quality values for model comparison\n",
    "shifted_multiclass_VME = very_major_error\n",
    "shifted_multiclass_ME = major_error\n",
    "\n",
    "LR_quality = [direct_VME, direct_ME, shifted_direct_VME, shifted_direct_ME, \\\n",
    "              shifted_multiclass_VME,shifted_multiclass_ME]\n",
    "\n",
    "logreg_quality_df = pd.DataFrame({'LR_quality':LR_quality})\n",
    "logreg_quality_df.to_csv('LR_quality.csv')"
   ]
  },
  {
   "cell_type": "code",
   "execution_count": 33,
   "id": "dc66be5a",
   "metadata": {},
   "outputs": [
    {
     "name": "stdout",
     "output_type": "stream",
     "text": [
      "              precision    recall  f1-score   support\n",
      "\n",
      "           0       0.80      0.72      0.76        46\n",
      "           1       0.62      0.72      0.67        29\n",
      "\n",
      "    accuracy                           0.72        75\n",
      "   macro avg       0.71      0.72      0.71        75\n",
      "weighted avg       0.73      0.72      0.72        75\n",
      "\n"
     ]
    }
   ],
   "source": [
    "print (classification_report(MIC_to_binary(y_test_nodup), MIC_to_binary(predict)))"
   ]
  }
 ],
 "metadata": {
  "kernelspec": {
   "display_name": "Python 3 (ipykernel)",
   "language": "python",
   "name": "python3"
  },
  "language_info": {
   "codemirror_mode": {
    "name": "ipython",
    "version": 3
   },
   "file_extension": ".py",
   "mimetype": "text/x-python",
   "name": "python",
   "nbconvert_exporter": "python",
   "pygments_lexer": "ipython3",
   "version": "3.8.12"
  }
 },
 "nbformat": 4,
 "nbformat_minor": 5
}
