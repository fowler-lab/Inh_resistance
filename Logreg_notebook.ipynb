{
 "cells": [
  {
   "cell_type": "code",
   "execution_count": 3,
   "id": "7e789fe5",
   "metadata": {},
   "outputs": [],
   "source": [
    "import pandas as pd\n",
    "pd.options.display.max_columns = 999\n",
    "ML_data = pd.read_csv('ML_data.csv')"
   ]
  },
  {
   "cell_type": "code",
   "execution_count": 8,
   "id": "ace2539a",
   "metadata": {},
   "outputs": [],
   "source": [
    "df = ML_data[['METHOD_MIC','MUT_RESISTANCE','Site1_Distance','d_volume','d_MW',\t\\\n",
    "              'd_hydropathy', 'd_Pi', 'Depth']]\n",
    "\n",
    "# creates features numpy array\n",
    "features = df[df.columns[2:]].to_numpy()\n",
    "\n",
    "#creates resistance label column\n",
    "label = df['MUT_RESISTANCE']"
   ]
  },
  {
   "cell_type": "code",
   "execution_count": 10,
   "id": "9ba10fa5",
   "metadata": {},
   "outputs": [],
   "source": [
    "from sklearn.linear_model import LogisticRegression\n",
    "from sklearn.preprocessing import MinMaxScaler, StandardScaler, RobustScaler\n",
    "from sklearn.pipeline import Pipeline\n",
    "from sklearn.model_selection import train_test_split, KFold, GridSearchCV\n",
    "from sklearn.metrics import accuracy_score, average_precision_score, roc_auc_score\n",
    "\n",
    "#create logistic regression pipeline with preprocessing \n",
    "pipe = Pipeline([('preprocessing', StandardScaler()), ('classifier', LogisticRegression(max_iter=10000))])\n",
    "#create parameter grid with different preprocessing and classifier parameters\n",
    "param_grid = {'preprocessing':[StandardScaler(), MinMaxScaler(), RobustScaler(), None],\n",
    "              'classifier__C': [0.01, 0.1, 1, 10, 100]}\n",
    "\n",
    "#split data into training and test sets\n",
    "X_train1, X_test, y_train1, y_test = train_test_split(features, label,\n",
    "                                                    random_state=0)"
   ]
  },
  {
   "cell_type": "code",
   "execution_count": 27,
   "id": "dd7831ba",
   "metadata": {},
   "outputs": [
    {
     "name": "stderr",
     "output_type": "stream",
     "text": [
      "C:\\Users\\user\\anaconda3\\lib\\site-packages\\pandas\\core\\frame.py:4906: SettingWithCopyWarning: \n",
      "A value is trying to be set on a copy of a slice from a DataFrame\n",
      "\n",
      "See the caveats in the documentation: https://pandas.pydata.org/pandas-docs/stable/user_guide/indexing.html#returning-a-view-versus-a-copy\n",
      "  return super().drop(\n"
     ]
    },
    {
     "data": {
      "text/html": [
       "<div>\n",
       "<style scoped>\n",
       "    .dataframe tbody tr th:only-of-type {\n",
       "        vertical-align: middle;\n",
       "    }\n",
       "\n",
       "    .dataframe tbody tr th {\n",
       "        vertical-align: top;\n",
       "    }\n",
       "\n",
       "    .dataframe thead th {\n",
       "        text-align: right;\n",
       "    }\n",
       "</style>\n",
       "<table border=\"1\" class=\"dataframe\">\n",
       "  <thead>\n",
       "    <tr style=\"text-align: right;\">\n",
       "      <th></th>\n",
       "      <th>0</th>\n",
       "      <th>1</th>\n",
       "      <th>2</th>\n",
       "      <th>3</th>\n",
       "      <th>4</th>\n",
       "      <th>5</th>\n",
       "      <th>MUT_RESISTANCE</th>\n",
       "    </tr>\n",
       "  </thead>\n",
       "  <tbody>\n",
       "    <tr>\n",
       "      <th>0</th>\n",
       "      <td>4.632459</td>\n",
       "      <td>-27.1</td>\n",
       "      <td>-14.0</td>\n",
       "      <td>-0.1</td>\n",
       "      <td>0.08</td>\n",
       "      <td>0.000000</td>\n",
       "      <td>1.0</td>\n",
       "    </tr>\n",
       "    <tr>\n",
       "      <th>5</th>\n",
       "      <td>4.632459</td>\n",
       "      <td>-27.1</td>\n",
       "      <td>-14.0</td>\n",
       "      <td>-0.1</td>\n",
       "      <td>0.08</td>\n",
       "      <td>0.000000</td>\n",
       "      <td>1.0</td>\n",
       "    </tr>\n",
       "    <tr>\n",
       "      <th>6</th>\n",
       "      <td>4.632459</td>\n",
       "      <td>-27.1</td>\n",
       "      <td>-14.0</td>\n",
       "      <td>-0.1</td>\n",
       "      <td>0.08</td>\n",
       "      <td>0.000000</td>\n",
       "      <td>1.0</td>\n",
       "    </tr>\n",
       "    <tr>\n",
       "      <th>19</th>\n",
       "      <td>4.632459</td>\n",
       "      <td>-27.1</td>\n",
       "      <td>-14.0</td>\n",
       "      <td>-0.1</td>\n",
       "      <td>0.08</td>\n",
       "      <td>0.000000</td>\n",
       "      <td>1.0</td>\n",
       "    </tr>\n",
       "    <tr>\n",
       "      <th>25</th>\n",
       "      <td>4.632459</td>\n",
       "      <td>-27.1</td>\n",
       "      <td>-14.0</td>\n",
       "      <td>-0.1</td>\n",
       "      <td>0.08</td>\n",
       "      <td>0.000000</td>\n",
       "      <td>1.0</td>\n",
       "    </tr>\n",
       "    <tr>\n",
       "      <th>...</th>\n",
       "      <td>...</td>\n",
       "      <td>...</td>\n",
       "      <td>...</td>\n",
       "      <td>...</td>\n",
       "      <td>...</td>\n",
       "      <td>...</td>\n",
       "      <td>...</td>\n",
       "    </tr>\n",
       "    <tr>\n",
       "      <th>889</th>\n",
       "      <td>4.632459</td>\n",
       "      <td>-27.1</td>\n",
       "      <td>-14.0</td>\n",
       "      <td>-0.1</td>\n",
       "      <td>0.08</td>\n",
       "      <td>0.000000</td>\n",
       "      <td>1.0</td>\n",
       "    </tr>\n",
       "    <tr>\n",
       "      <th>907</th>\n",
       "      <td>4.632459</td>\n",
       "      <td>-27.1</td>\n",
       "      <td>-14.0</td>\n",
       "      <td>-0.1</td>\n",
       "      <td>0.08</td>\n",
       "      <td>0.000000</td>\n",
       "      <td>1.0</td>\n",
       "    </tr>\n",
       "    <tr>\n",
       "      <th>917</th>\n",
       "      <td>55.605736</td>\n",
       "      <td>-26.7</td>\n",
       "      <td>-14.1</td>\n",
       "      <td>0.4</td>\n",
       "      <td>-0.02</td>\n",
       "      <td>5.378177</td>\n",
       "      <td>1.0</td>\n",
       "    </tr>\n",
       "    <tr>\n",
       "      <th>1046</th>\n",
       "      <td>48.271434</td>\n",
       "      <td>24.1</td>\n",
       "      <td>26.0</td>\n",
       "      <td>-3.4</td>\n",
       "      <td>0.30</td>\n",
       "      <td>0.000000</td>\n",
       "      <td>1.0</td>\n",
       "    </tr>\n",
       "    <tr>\n",
       "      <th>1049</th>\n",
       "      <td>4.632459</td>\n",
       "      <td>-27.1</td>\n",
       "      <td>-14.0</td>\n",
       "      <td>-0.1</td>\n",
       "      <td>0.08</td>\n",
       "      <td>0.000000</td>\n",
       "      <td>1.0</td>\n",
       "    </tr>\n",
       "  </tbody>\n",
       "</table>\n",
       "<p>387 rows × 7 columns</p>\n",
       "</div>"
      ],
      "text/plain": [
       "              0     1     2    3     4         5  MUT_RESISTANCE\n",
       "0      4.632459 -27.1 -14.0 -0.1  0.08  0.000000             1.0\n",
       "5      4.632459 -27.1 -14.0 -0.1  0.08  0.000000             1.0\n",
       "6      4.632459 -27.1 -14.0 -0.1  0.08  0.000000             1.0\n",
       "19     4.632459 -27.1 -14.0 -0.1  0.08  0.000000             1.0\n",
       "25     4.632459 -27.1 -14.0 -0.1  0.08  0.000000             1.0\n",
       "...         ...   ...   ...  ...   ...       ...             ...\n",
       "889    4.632459 -27.1 -14.0 -0.1  0.08  0.000000             1.0\n",
       "907    4.632459 -27.1 -14.0 -0.1  0.08  0.000000             1.0\n",
       "917   55.605736 -26.7 -14.1  0.4 -0.02  5.378177             1.0\n",
       "1046  48.271434  24.1  26.0 -3.4  0.30  0.000000             1.0\n",
       "1049   4.632459 -27.1 -14.0 -0.1  0.08  0.000000             1.0\n",
       "\n",
       "[387 rows x 7 columns]"
      ]
     },
     "execution_count": 27,
     "metadata": {},
     "output_type": "execute_result"
    }
   ],
   "source": [
    "# creates features and label dfs from unique mutations in the training split\n",
    "# NOTE - this section is being cleaned up - it will affect th rest of the code which doesnt account\n",
    "# for the second train test split\n",
    "X_train_df = pd.DataFrame(X_train1)\n",
    "y_train_df = pd.DataFrame(y_train1)\n",
    "CV_train = X_train_df.join(y_train_df)\n",
    "\n",
    "mutation_index_s = ML_data['MUTATION']\n",
    "mutation_index_pd = pd.Series(mutation_index_s)\n",
    "mutation_index = mutation_index_pd.to_frame()\n",
    "\n",
    "CV_training_and_mutations = CV_train.join(mutation_index, how = 'inner')\n",
    "CV_train_unique = CV_training_and_mutations.drop_duplicates(subset='MUTATION', keep = 'first')\n",
    "CV_train_unique.drop(['MUTATION'], axis = 1, inplace = True)\n",
    "\n",
    "features1 = CV_train_unique[CV_train_unique.columns[:-1]].to_numpy()\n",
    "label"
   ]
  },
  {
   "cell_type": "code",
   "execution_count": 28,
   "id": "295aab05",
   "metadata": {},
   "outputs": [
    {
     "data": {
      "text/plain": [
       "array([[ 4.63245877e+00, -2.71000000e+01, -1.40000000e+01,\n",
       "        -1.00000000e-01,  8.00000000e-02,  0.00000000e+00],\n",
       "       [ 4.63245877e+00, -2.71000000e+01, -1.40000000e+01,\n",
       "        -1.00000000e-01,  8.00000000e-02,  0.00000000e+00],\n",
       "       [ 4.63245877e+00, -2.71000000e+01, -1.40000000e+01,\n",
       "        -1.00000000e-01,  8.00000000e-02,  0.00000000e+00],\n",
       "       ...,\n",
       "       [ 5.56057361e+01, -2.67000000e+01, -1.41000000e+01,\n",
       "         4.00000000e-01, -2.00000000e-02,  5.37817746e+00],\n",
       "       [ 4.82714341e+01,  2.41000000e+01,  2.60000000e+01,\n",
       "        -3.40000000e+00,  3.00000000e-01,  0.00000000e+00],\n",
       "       [ 4.63245877e+00, -2.71000000e+01, -1.40000000e+01,\n",
       "        -1.00000000e-01,  8.00000000e-02,  0.00000000e+00]])"
      ]
     },
     "execution_count": 28,
     "metadata": {},
     "output_type": "execute_result"
    }
   ],
   "source": []
  },
  {
   "cell_type": "code",
   "execution_count": 11,
   "id": "76e076eb",
   "metadata": {},
   "outputs": [
    {
     "name": "stdout",
     "output_type": "stream",
     "text": [
      "grid_strat: best estimator: \n",
      " Pipeline(steps=[('preprocessing', StandardScaler()),\n",
      "                ('classifier', LogisticRegression(C=0.01, max_iter=10000))])\n",
      "grid_strat: best cross-validation score : 0.9669887525952614 \n",
      "\n",
      "grid_strat: test set average accuracy : 0.9686492821564606\n"
     ]
    }
   ],
   "source": [
    "#Grid search with stratified cross validation\n",
    "grid_strat = GridSearchCV(pipe, param_grid, cv=5)\n",
    "grid_strat.fit(X_train, y_train)\n",
    "print ('grid_strat: best estimator: \\n', grid_strat.best_estimator_)\n",
    "print ('grid_strat: best cross-validation score :', grid_strat.best_score_, '\\n')\n",
    "print ('grid_strat: test set average accuracy :', \n",
    "       accuracy_score(y_test, grid_strat.predict(X_test)))"
   ]
  },
  {
   "cell_type": "code",
   "execution_count": 12,
   "id": "7b042673",
   "metadata": {},
   "outputs": [
    {
     "name": "stdout",
     "output_type": "stream",
     "text": [
      "grid_kfold: best estimator: \n",
      " Pipeline(steps=[('preprocessing', StandardScaler()),\n",
      "                ('classifier', LogisticRegression(C=0.01, max_iter=10000))])\n",
      "grid_kfold: best cross-validation score : 0.9670864088452614 \n",
      "\n",
      "grid_kfold: test set average accuracy : 0.9686492821564606\n"
     ]
    }
   ],
   "source": [
    "#Grid search with kfold cross validation\n",
    "Kfold = KFold(n_splits=5)\n",
    "grid_kfold = GridSearchCV(pipe, param_grid, cv=Kfold)\n",
    "grid_kfold.fit(X_train, y_train)\n",
    "print ('grid_kfold: best estimator: \\n', grid_kfold.best_estimator_)\n",
    "print ('grid_kfold: best cross-validation score :', grid_kfold.best_score_, '\\n')\n",
    "print ('grid_kfold: test set average accuracy :', \n",
    "       accuracy_score(y_test, grid_kfold.predict(X_test)))"
   ]
  },
  {
   "cell_type": "code",
   "execution_count": 13,
   "id": "130c6c2a",
   "metadata": {},
   "outputs": [
    {
     "name": "stdout",
     "output_type": "stream",
     "text": [
      "grid_kfold_shuffle: best estimator: \n",
      " Pipeline(steps=[('preprocessing', StandardScaler()),\n",
      "                ('classifier', LogisticRegression(C=0.01, max_iter=10000))])\n",
      "grid_kfold_shuffle: best cross-validation score:  0.9664026242672203\n",
      "grid_kfold_shuffle: test set average accuracy:  0.9686492821564606 \n",
      "\n"
     ]
    }
   ],
   "source": [
    "#Search with shuffled cross validation\n",
    "Kfold_shuffle=KFold(n_splits=5, shuffle=True, random_state=0)\n",
    "grid_kfold_shuffle = GridSearchCV(pipe, param_grid, cv=Kfold_shuffle)\n",
    "grid_kfold_shuffle.fit(X_train, y_train)\n",
    "print ('grid_kfold_shuffle: best estimator: \\n', grid_kfold_shuffle.best_estimator_)\n",
    "print ('grid_kfold_shuffle: best cross-validation score: ', grid_kfold_shuffle.best_score_)\n",
    "print ('grid_kfold_shuffle: test set average accuracy: ', \n",
    "       accuracy_score(y_test, grid_kfold_shuffle.predict(X_test)), '\\n')"
   ]
  },
  {
   "cell_type": "code",
   "execution_count": 14,
   "id": "f965862f",
   "metadata": {},
   "outputs": [
    {
     "name": "stdout",
     "output_type": "stream",
     "text": [
      "grid_strat: best estimator: \n",
      " Pipeline(steps=[('preprocessing', RobustScaler()),\n",
      "                ('classifier', LogisticRegression(C=0.01, max_iter=10000))])\n",
      "grid_strat: best cross-validation score:  0.9992655553162131\n",
      "grid_strat: test set average precision:  0.9993442441936968 \n",
      "\n"
     ]
    }
   ],
   "source": [
    "#Grid search with with stratified cross validation\n",
    "#use decision function to calculate average_precision\n",
    "grid_strat = GridSearchCV(pipe, param_grid, cv=5, scoring='average_precision')\n",
    "grid_strat.fit(X_train, y_train)\n",
    "print ('grid_strat: best estimator: \\n', grid_strat.best_estimator_)\n",
    "print ('grid_strat: best cross-validation score: ', grid_strat.best_score_)                  \n",
    "print ('grid_strat: test set average precision: ', \n",
    "       average_precision_score(y_test, grid_strat.decision_function(X_test)), '\\n')"
   ]
  },
  {
   "cell_type": "code",
   "execution_count": 15,
   "id": "c2625492",
   "metadata": {},
   "outputs": [
    {
     "name": "stdout",
     "output_type": "stream",
     "text": [
      "grid_kfold: best estimator: \n",
      " Pipeline(steps=[('preprocessing', RobustScaler()),\n",
      "                ('classifier', LogisticRegression(C=0.01, max_iter=10000))])\n",
      "grid_kfold: best cross-validation score:  0.999262665822004\n",
      "grid_kfold test set average precision:  0.9993442441936968 \n",
      "\n"
     ]
    }
   ],
   "source": [
    "#Grid search with with kfold cross validation\n",
    "#use decision function to calculate average_precision\n",
    "kfold = KFold(n_splits=5)\n",
    "grid_kfold = GridSearchCV(pipe, param_grid, cv=kfold, scoring='average_precision')\n",
    "grid_kfold.fit(X_train, y_train)\n",
    "print ('grid_kfold: best estimator: \\n', grid_kfold.best_estimator_)\n",
    "print ('grid_kfold: best cross-validation score: ', grid_kfold.best_score_)                  \n",
    "print ('grid_kfold test set average precision: ', \n",
    "       average_precision_score(y_test, grid_kfold.decision_function(X_test)), '\\n')"
   ]
  },
  {
   "cell_type": "code",
   "execution_count": 16,
   "id": "2ddacede",
   "metadata": {},
   "outputs": [
    {
     "name": "stdout",
     "output_type": "stream",
     "text": [
      "grid_kfold_shuffle: best estimator: \n",
      " Pipeline(steps=[('preprocessing', StandardScaler()),\n",
      "                ('classifier', LogisticRegression(C=1, max_iter=10000))])\n",
      "grid_kfold_shuffle: best cross-validation score:  0.9992622667671277\n",
      "grid_kfold_shuffle test set average precision:  0.9993395811952269 \n",
      "\n"
     ]
    }
   ],
   "source": [
    "#Grid search with with shuffled cross validation\n",
    "#use decision function to calculate average_precision\n",
    "kfold_shuffle = KFold(n_splits=5, shuffle=True, random_state=0)\n",
    "grid_kfold_shuffle = GridSearchCV(pipe, param_grid, cv=kfold_shuffle, scoring='average_precision')\n",
    "grid_kfold_shuffle.fit(X_train, y_train)\n",
    "print ('grid_kfold_shuffle: best estimator: \\n', grid_kfold_shuffle.best_estimator_)\n",
    "print ('grid_kfold_shuffle: best cross-validation score: ', grid_kfold_shuffle.best_score_)                  \n",
    "print ('grid_kfold_shuffle test set average precision: ', \n",
    "       average_precision_score(y_test, grid_kfold_shuffle.decision_function(X_test)), '\\n')"
   ]
  },
  {
   "cell_type": "code",
   "execution_count": 17,
   "id": "3c4c78d5",
   "metadata": {},
   "outputs": [
    {
     "name": "stdout",
     "output_type": "stream",
     "text": [
      "grid_strat: best estimator: \n",
      " Pipeline(steps=[('preprocessing', RobustScaler()),\n",
      "                ('classifier', LogisticRegression(C=0.01, max_iter=10000))])\n",
      "grid_strat: best cross-validation score:  0.9854838109412656\n",
      "grid_strat: test set AUC:  0.98542692769339 \n",
      "\n"
     ]
    }
   ],
   "source": [
    "#Grid search with with stratified cross validation\n",
    "#use decision function to calculate AUC\n",
    "\n",
    "grid_strat = GridSearchCV(pipe, param_grid, cv=5, scoring='roc_auc')\n",
    "grid_strat.fit(X_train, y_train)\n",
    "print ('grid_strat: best estimator: \\n', grid_strat.best_estimator_)\n",
    "print ('grid_strat: best cross-validation score: ', grid_strat.best_score_)                  \n",
    "print ('grid_strat: test set AUC: ', \n",
    "       roc_auc_score(y_test, grid_strat.decision_function(X_test)), '\\n')"
   ]
  },
  {
   "cell_type": "code",
   "execution_count": 18,
   "id": "3a4ccc0b",
   "metadata": {},
   "outputs": [
    {
     "name": "stdout",
     "output_type": "stream",
     "text": [
      "grid_kfold: best estimator: \n",
      " Pipeline(steps=[('preprocessing', RobustScaler()),\n",
      "                ('classifier', LogisticRegression(C=0.01, max_iter=10000))])\n",
      "grid_kfold: best cross-validation score:  0.9855039769467536\n",
      "grid_kfold test set AUC:  0.98542692769339 \n",
      "\n"
     ]
    }
   ],
   "source": [
    "#Grid search with with kfold cross validation\n",
    "#use decision function to calculate AUC\n",
    "kfold = KFold(n_splits=5)\n",
    "grid_kfold = GridSearchCV(pipe, param_grid, cv=kfold, scoring='roc_auc')\n",
    "grid_kfold.fit(X_train, y_train)\n",
    "print ('grid_kfold: best estimator: \\n', grid_kfold.best_estimator_)\n",
    "print ('grid_kfold: best cross-validation score: ', grid_kfold.best_score_)                  \n",
    "print ('grid_kfold test set AUC: ', \n",
    "       roc_auc_score(y_test, grid_kfold.decision_function(X_test)), '\\n')"
   ]
  },
  {
   "cell_type": "code",
   "execution_count": 19,
   "id": "96eeae6e",
   "metadata": {},
   "outputs": [
    {
     "name": "stdout",
     "output_type": "stream",
     "text": [
      "grid_kfold_shuffle: best estimator: \n",
      " Pipeline(steps=[('preprocessing', StandardScaler()),\n",
      "                ('classifier', LogisticRegression(C=1, max_iter=10000))])\n",
      "grid_kfold_shuffle: best cross-validation score:  0.9853684726574234\n",
      "grid_kfold_shuffle test set AUC:  0.9853213857042341 \n",
      "\n"
     ]
    }
   ],
   "source": [
    "#Grid search with with shuffled kfold cross validation\n",
    "#use decision function to calculate AUC\n",
    "kfold_shuffle = KFold(n_splits=5, shuffle=True, random_state=0)\n",
    "grid_kfold_shuffle = GridSearchCV(pipe, param_grid, cv=kfold_shuffle, scoring='roc_auc')\n",
    "grid_kfold_shuffle.fit(X_train, y_train)\n",
    "print ('grid_kfold_shuffle: best estimator: \\n', grid_kfold_shuffle.best_estimator_)\n",
    "print ('grid_kfold_shuffle: best cross-validation score: ', grid_kfold_shuffle.best_score_)                  \n",
    "print ('grid_kfold_shuffle test set AUC: ', \n",
    "       roc_auc_score(y_test, grid_kfold_shuffle.decision_function(X_test)), '\\n')"
   ]
  },
  {
   "cell_type": "code",
   "execution_count": 20,
   "id": "9aeec7f0",
   "metadata": {},
   "outputs": [
    {
     "data": {
      "text/plain": [
       "Text(0.5, 1.0, 'Precision-recall curve for logistic regression (StandardScaler(), C=100)')"
      ]
     },
     "execution_count": 20,
     "metadata": {},
     "output_type": "execute_result"
    },
    {
     "data": {
      "image/png": "[encoded data removed]",
      "text/plain": [
       "<Figure size 432x288 with 1 Axes>"
      ]
     },
     "metadata": {
      "needs_background": "light"
     },
     "output_type": "display_data"
    }
   ],
   "source": [
    "#use best preprocessing (standard scaler) and parameters (c=100) for av. precision\n",
    "from sklearn.metrics import precision_recall_curve\n",
    "from matplotlib import pyplot as plt\n",
    "import numpy as np\n",
    "\n",
    "\n",
    "pipe = Pipeline([('preprocessing', StandardScaler()), \n",
    "                 ('classifier', LogisticRegression(C=100, max_iter=10000))])\n",
    "X_train, X_test, y_train, y_test = train_test_split(features, label, random_state=0)\n",
    "pipe.fit(X_train, y_train)\n",
    "predict = (pipe.decision_function(X_test))\n",
    "\n",
    "precision, recall, thresholds = precision_recall_curve(y_test, predict)\n",
    "\n",
    "plt.plot(precision, recall, label='LogReg')\n",
    "close_zero = np.argmin(np.abs(thresholds))\n",
    "plt.plot(precision[close_zero], recall[close_zero], '^', c='k', \n",
    "          markersize=10, label='threshold zero ', fillstyle='none', mew=2)\n",
    "plt.xlabel('precision')\n",
    "plt.ylabel('recall')\n",
    "plt.legend(loc='best')\n",
    "plt.title('Precision-recall curve for logistic regression (StandardScaler(), C=100)')"
   ]
  },
  {
   "cell_type": "code",
   "execution_count": null,
   "id": "a446d97a",
   "metadata": {},
   "outputs": [],
   "source": []
  }
 ],
 "metadata": {
  "kernelspec": {
   "display_name": "Python 3 (ipykernel)",
   "language": "python",
   "name": "python3"
  },
  "language_info": {
   "codemirror_mode": {
    "name": "ipython",
    "version": 3
   },
   "file_extension": ".py",
   "mimetype": "text/x-python",
   "name": "python",
   "nbconvert_exporter": "python",
   "pygments_lexer": "ipython3",
   "version": "3.8.12"
  }
 },
 "nbformat": 4,
 "nbformat_minor": 5
}
