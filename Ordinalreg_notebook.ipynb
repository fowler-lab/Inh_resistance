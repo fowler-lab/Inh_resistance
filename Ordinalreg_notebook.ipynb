{
 "cells": [
  {
   "cell_type": "code",
   "execution_count": 1,
   "id": "4afc72c2",
   "metadata": {},
   "outputs": [],
   "source": [
    "import pandas as pd\n",
    "import numpy as np\n",
    "import mord as m\n",
    "from mord import LogisticAT\n",
    "from sklearn.preprocessing import StandardScaler\n",
    "pd.options.display.max_columns = 999\n",
    "ML_data = pd.read_csv('ML_data.csv')\n",
    "from sklearn.tree import DecisionTreeClassifier\n",
    "from sklearn.pipeline import Pipeline\n",
    "from sklearn.model_selection import train_test_split, KFold, GridSearchCV\n",
    "from sklearn.metrics import accuracy_score, average_precision_score, roc_auc_score\n",
    "from matplotlib import pyplot as plt"
   ]
  },
  {
   "cell_type": "code",
   "execution_count": 2,
   "id": "1aa44536",
   "metadata": {},
   "outputs": [],
   "source": [
    "MIC_ML_data = ML_data.dropna(subset = ['METHOD_MIC'])"
   ]
  },
  {
   "cell_type": "code",
   "execution_count": 3,
   "id": "7a492fb7",
   "metadata": {},
   "outputs": [
    {
     "name": "stderr",
     "output_type": "stream",
     "text": [
      "C:\\Users\\user\\AppData\\Local\\Temp/ipykernel_30004/892947722.py:15: SettingWithCopyWarning: \n",
      "A value is trying to be set on a copy of a slice from a DataFrame.\n",
      "Try using .loc[row_indexer,col_indexer] = value instead\n",
      "\n",
      "See the caveats in the documentation: https://pandas.pydata.org/pandas-docs/stable/user_guide/indexing.html#returning-a-view-versus-a-copy\n",
      "  MIC_ML_data['MIC_values'] = MIC_strings\n"
     ]
    }
   ],
   "source": [
    "MIC_strings = []\n",
    "\n",
    "for i in MIC_ML_data['METHOD_MIC']:\n",
    "    if i == '3.2':\n",
    "        MIC_strings.append('>1.6')\n",
    "    elif i == '6.4':\n",
    "        MIC_strings.append('>1.6')\n",
    "    elif i == '12.8':\n",
    "        MIC_strings.append('>1.6')\n",
    "    elif i == '>12.8':\n",
    "        MIC_strings.append('>1.6')\n",
    "    else:\n",
    "        MIC_strings.append(i)\n",
    "        \n",
    "MIC_ML_data['MIC_values'] = MIC_strings"
   ]
  },
  {
   "cell_type": "code",
   "execution_count": 4,
   "id": "775d3d40",
   "metadata": {},
   "outputs": [],
   "source": [
    "MIC_df = MIC_ML_data[['MIC_values','MUT_RESISTANCE','MUTATION','Site1_Distance','d_volume','d_MW',\t\\\n",
    "              'd_hydropathy', 'd_Pi', 'Depth','H','O','T','S','G','E',  \\\n",
    "              'B','I','Tempfactor','Hem_dist']]\n",
    "\n",
    "# creates features numpy array\n",
    "MIC_features = MIC_df[MIC_df.columns[2:]].to_numpy()\n",
    "\n",
    "#creates resistance label column\n",
    "MIC_label = MIC_df['MIC_values'].to_numpy()"
   ]
  },
  {
   "cell_type": "code",
   "execution_count": 5,
   "id": "b3d467b6",
   "metadata": {},
   "outputs": [],
   "source": [
    "#split data into training and test sets\n",
    "X_train, X_test, y_train, y_test = train_test_split(MIC_features, MIC_label,\n",
    "                                                    random_state=0)"
   ]
  },
  {
   "cell_type": "code",
   "execution_count": 6,
   "id": "b661bdfe",
   "metadata": {},
   "outputs": [],
   "source": [
    "# creates features and label dfs from unique mutations when the original train-test split \n",
    "# is inputted \n",
    "def remove_duplicate_mutations(X_dataset, y_dataset):\n",
    "\n",
    "    #converts long X_train and y_train to pd df to join\n",
    "    X_train_df = pd.DataFrame(X_dataset)\n",
    "    X_train_df.rename(columns = {0:'MUTATION'}, inplace = True)\n",
    "    y_train_df = pd.DataFrame(y_dataset)\n",
    "    y_train_df.rename(columns = {0:'MIC_VALUES'}, inplace = True)\n",
    "\n",
    "    CV_train = X_train_df.join(y_train_df,  how = 'inner')\n",
    "\n",
    "    #converts MIC_values to an integer so that the mean can be calculated for each mutation\n",
    "    #with multiple samples\n",
    "    MIC_integers = []\n",
    "\n",
    "    for i in CV_train['MIC_VALUES']:\n",
    "        if i == '<=0.025':\n",
    "            MIC_integers.append(1)\n",
    "        elif i == '0.05':\n",
    "            MIC_integers.append(2)\n",
    "        elif i == '0.1':\n",
    "            MIC_integers.append(3)\n",
    "        elif i == '0.2':\n",
    "            MIC_integers.append(4)\n",
    "        elif i == '0.4':\n",
    "            MIC_integers.append(5)\n",
    "        elif i == '0.8':\n",
    "            MIC_integers.append(6)\n",
    "        elif i == '1.6':\n",
    "            MIC_integers.append(7)\n",
    "        elif i == '>1.6':\n",
    "            MIC_integers.append(8)\n",
    "        \n",
    "    CV_train['MIC_integers'] = MIC_integers\n",
    "\n",
    "    #calculates the mean MIC value using the integer scale for each mutation\n",
    "    MIC_calc_df = CV_train[['MUTATION','MIC_integers']].groupby('MUTATION').mean()\n",
    "    \n",
    "    #rounds the mean MIC value to the nearest integer for conversion back to the \n",
    "    #original MIC classes\n",
    "    MIC_rounded = []\n",
    "    for i in MIC_calc_df['MIC_integers']:\n",
    "        rnd = round(i)\n",
    "        MIC_rounded.append(rnd)\n",
    "    MIC_calc_df['MIC_rounded'] = MIC_rounded\n",
    "\n",
    "    # joins new MIC classes to CV_train df to replace the variation in MIC values associated\n",
    "    # with mutations with multiple DST_measurements \n",
    "    MIC_calc_df.drop(['MIC_integers'], axis =1, inplace = True)\n",
    "    CV_train.set_index('MUTATION', inplace = True)\n",
    "    CV_train = CV_train.join(MIC_calc_df)\n",
    "    CV_train.reset_index(inplace = True)\n",
    "    CV_train.drop(['MIC_VALUES','MIC_integers'], axis = 1, inplace = True)\n",
    "    CV_train.rename(columns = {'index':'MUTATION','MIC_rounded':'MIC_VALUES'}, inplace = True)\n",
    "    \n",
    "    #removes duplicates and mutation column\n",
    "    CV_train_unique = CV_train.drop_duplicates(subset='MUTATION', keep = 'first')\n",
    "    CV_train_unique.drop(['MUTATION'], axis = 1, inplace = True)\n",
    "\n",
    "    #seperates into unique features and label numpy arrays\n",
    "    features_unique = CV_train_unique[CV_train_unique.columns[:-1]].to_numpy()\n",
    "    label_unique = CV_train_unique['MIC_VALUES']\n",
    "\n",
    "    X_no_duplicates = (features_unique)\n",
    "    y_no_duplicates = (label_unique)\n",
    "    \n",
    "    return (X_no_duplicates, y_no_duplicates)"
   ]
  },
  {
   "cell_type": "code",
   "execution_count": 7,
   "id": "a6c3ee40",
   "metadata": {},
   "outputs": [
    {
     "name": "stderr",
     "output_type": "stream",
     "text": [
      "C:\\Users\\user\\anaconda3\\lib\\site-packages\\pandas\\core\\frame.py:4906: SettingWithCopyWarning: \n",
      "A value is trying to be set on a copy of a slice from a DataFrame\n",
      "\n",
      "See the caveats in the documentation: https://pandas.pydata.org/pandas-docs/stable/user_guide/indexing.html#returning-a-view-versus-a-copy\n",
      "  return super().drop(\n"
     ]
    }
   ],
   "source": [
    "X_train_nodup, y_train_nodup = remove_duplicate_mutations(X_train, y_train)\n",
    "X_test_nodup, y_test_nodup = remove_duplicate_mutations(X_test, y_test)"
   ]
  },
  {
   "cell_type": "code",
   "execution_count": 8,
   "id": "4b8ea0b8",
   "metadata": {},
   "outputs": [],
   "source": [
    "#split data into training and test sets\n",
    "X_train_cv, X_test_cv, y_train_cv, y_test_cv = train_test_split(X_train_nodup, y_train_nodup,\n",
    "                                                    random_state=0)"
   ]
  },
  {
   "cell_type": "code",
   "execution_count": 9,
   "id": "75f18ed7",
   "metadata": {},
   "outputs": [],
   "source": [
    "ordinal_IT = m.LogisticIT()\n",
    "ordinal_AT = m.LogisticAT()\n",
    "\n",
    "param_grid = {'alpha':[0.001,0.01,0.1,1,10,100,1000,10000]}"
   ]
  },
  {
   "cell_type": "markdown",
   "id": "3c6d9fa1",
   "metadata": {},
   "source": [
    "Produce confusion matrix for intermediate threshold ordinal regression model"
   ]
  },
  {
   "cell_type": "code",
   "execution_count": 10,
   "id": "a06780d9",
   "metadata": {},
   "outputs": [
    {
     "name": "stdout",
     "output_type": "stream",
     "text": [
      "grid_kfold_shuffle: best estimator: \n",
      " LogisticIT(alpha=1000)\n",
      "grid_kfold_shuffle: best cross-validation score:  0.3062068965517242\n",
      "grid_kfold_shuffle: test set average accuracy:  0.28 \n",
      "\n"
     ]
    }
   ],
   "source": [
    "#Grid search with kfold cross validation (best cv for logreg multiclass classifcation)\n",
    "\n",
    "KFold = KFold(n_splits=5)\n",
    "grid_kfold = GridSearchCV(ordinal_IT, param_grid, cv=KFold, n_jobs=-1)\n",
    "grid_kfold.fit(X_train_cv, y_train_cv)\n",
    "print ('grid_kfold_shuffle: best estimator: \\n', grid_kfold.best_estimator_)\n",
    "print ('grid_kfold_shuffle: best cross-validation score: ', grid_kfold.best_score_)\n",
    "print ('grid_kfold_shuffle: test set average accuracy: ', \n",
    "       accuracy_score(y_test_cv, grid_kfold.predict(X_test_cv)), '\\n')"
   ]
  },
  {
   "cell_type": "code",
   "execution_count": 11,
   "id": "4de731d2",
   "metadata": {},
   "outputs": [],
   "source": [
    "ordinal_IT = m.LogisticIT(alpha = 1000)"
   ]
  },
  {
   "cell_type": "code",
   "execution_count": 12,
   "id": "c04c7ef7",
   "metadata": {},
   "outputs": [
    {
     "name": "stdout",
     "output_type": "stream",
     "text": [
      "\n",
      " confusion matrix: \n",
      " [[1 6 0 0 0 0 0 1]\n",
      " [3 6 0 0 0 0 0 0]\n",
      " [1 4 0 0 0 0 0 7]\n",
      " [1 7 0 0 0 0 0 5]\n",
      " [1 1 0 0 0 0 0 6]\n",
      " [0 3 0 0 0 0 0 5]\n",
      " [0 0 0 0 0 0 0 4]\n",
      " [0 5 0 0 0 0 0 8]]\n"
     ]
    }
   ],
   "source": [
    "#copy and fit classifier with best parameters from previous section\n",
    "ordinal = ordinal_IT\n",
    "ordinal.fit(X_train_nodup, y_train_nodup)                 \n",
    "                 \n",
    "predict = ordinal.predict(X_test_nodup)\n",
    "\n",
    "#generate confusion matrix\n",
    "from sklearn.metrics import confusion_matrix\n",
    "ints = [1,2,3,4,5,6,7,8]\n",
    "confusion = confusion_matrix(y_test_nodup, predict)\n",
    "\n",
    "print ('\\n confusion matrix: \\n', confusion)"
   ]
  },
  {
   "cell_type": "code",
   "execution_count": 13,
   "id": "300c0956",
   "metadata": {},
   "outputs": [
    {
     "data": {
      "image/png": "[encoded data removed]",
      "text/plain": [
       "<Figure size 432x288 with 1 Axes>"
      ]
     },
     "metadata": {
      "needs_background": "light"
     },
     "output_type": "display_data"
    }
   ],
   "source": [
    "#generate heatmap of confusion matrix for visualisation\n",
    "import mglearn\n",
    "\n",
    "target_names = y_train_nodup.unique().tolist()\n",
    "scores_image = mglearn.tools.heatmap(confusion, xlabel='predicted label',\n",
    "                                     ylabel='true label', xticklabels=target_names,\n",
    "                                     yticklabels=target_names, cmap=plt.cm.gray_r, fmt='%d')\n",
    "plt.title('confusion matrix')\n",
    "plt.gca().invert_yaxis()"
   ]
  },
  {
   "cell_type": "code",
   "execution_count": 14,
   "id": "43f2986c",
   "metadata": {
    "scrolled": true
   },
   "outputs": [
    {
     "name": "stdout",
     "output_type": "stream",
     "text": [
      "              precision    recall  f1-score   support\n",
      "\n",
      "           1       0.14      0.12      0.13         8\n",
      "           2       0.19      0.67      0.29         9\n",
      "           3       1.00      0.00      0.00        12\n",
      "           4       1.00      0.00      0.00        13\n",
      "           5       1.00      0.00      0.00         8\n",
      "           6       1.00      0.00      0.00         8\n",
      "           7       1.00      0.00      0.00         4\n",
      "           8       0.22      0.62      0.33        13\n",
      "\n",
      "    accuracy                           0.20        75\n",
      "   macro avg       0.69      0.18      0.09        75\n",
      "weighted avg       0.68      0.20      0.11        75\n",
      "\n"
     ]
    }
   ],
   "source": [
    "#generate classification report\n",
    "from sklearn.metrics import classification_report\n",
    "\n",
    "print (classification_report(y_test_nodup, predict, zero_division=True))"
   ]
  },
  {
   "cell_type": "code",
   "execution_count": 15,
   "id": "0461cdd7",
   "metadata": {},
   "outputs": [],
   "source": [
    "# will categorise multiclass data into 2 groups\n",
    "def MIC_to_binary(data):\n",
    "    RS_dict = {1:[4,5,6,7,8],\n",
    "           0:[1,2,3]}\n",
    "    binary_list = []\n",
    "    for i in data:\n",
    "        for k,v in RS_dict.items():\n",
    "            for j in v:\n",
    "                if i == j:\n",
    "                    binary_list.append(k)\n",
    "\n",
    "    binary_array = np.array(binary_list)\n",
    "    return binary_array"
   ]
  },
  {
   "cell_type": "code",
   "execution_count": 16,
   "id": "cccba1e9",
   "metadata": {},
   "outputs": [
    {
     "name": "stdout",
     "output_type": "stream",
     "text": [
      "Precision:  0.7777777777777778\n",
      "Sensitivity:  0.6086956521739131\n",
      "Specificity:  0.7241379310344828\n",
      "FPR : 0.27586206896551724\n",
      "very major error : inf\n",
      "major error:  225.0\n",
      "\n",
      " confusion matrix: \n",
      " [[21  8]\n",
      " [18 28]]\n"
     ]
    },
    {
     "name": "stderr",
     "output_type": "stream",
     "text": [
      "C:\\Users\\user\\AppData\\Local\\Temp/ipykernel_30004/4269136536.py:9: RuntimeWarning: divide by zero encountered in longlong_scalars\n",
      "  very_major_error = (confusion[0][1]/y_test_nodup[y_test_nodup==0].count())*100\n"
     ]
    }
   ],
   "source": [
    "#generate confusion matrix\n",
    "confusion = confusion_matrix(MIC_to_binary(y_test_nodup), MIC_to_binary(predict))\n",
    "\n",
    "#calculate precision, sensitivity, specificty, FPR, and errors\n",
    "Precision = (confusion[1][1])/(confusion[1][1]+confusion[0][1])\n",
    "Sensitivity = (confusion[1][1])/(confusion[1][1]+confusion[1][0])\n",
    "Specificity = (confusion[0][0])/(confusion[0][0]+confusion[0][1])\n",
    "FPR = 1-Specificity\n",
    "very_major_error = (confusion[0][1]/y_test_nodup[y_test_nodup==0].count())*100\n",
    "major_error = (confusion[1][0]/y_test_nodup[y_test_nodup==1].count())*100\n",
    "\n",
    "\n",
    "print ('Precision: ', Precision)\n",
    "print ('Sensitivity: ', Sensitivity)\n",
    "print ('Specificity: ', Specificity)\n",
    "print ('FPR :', FPR)\n",
    "print ('very major error :', very_major_error)\n",
    "print ('major error: ', major_error)\n",
    "print ('\\n confusion matrix: \\n', confusion)"
   ]
  },
  {
   "cell_type": "code",
   "execution_count": 17,
   "id": "8500696d",
   "metadata": {},
   "outputs": [
    {
     "name": "stdout",
     "output_type": "stream",
     "text": [
      "              precision    recall  f1-score   support\n",
      "\n",
      "           0       0.54      0.72      0.62        29\n",
      "           1       0.78      0.61      0.68        46\n",
      "\n",
      "    accuracy                           0.65        75\n",
      "   macro avg       0.66      0.67      0.65        75\n",
      "weighted avg       0.69      0.65      0.66        75\n",
      "\n"
     ]
    }
   ],
   "source": [
    "print (classification_report(MIC_to_binary(y_test_nodup), MIC_to_binary(predict)))"
   ]
  },
  {
   "cell_type": "markdown",
   "id": "c1e24651",
   "metadata": {},
   "source": [
    "Produce confusion matrix for all threshold ordinal regression model"
   ]
  },
  {
   "cell_type": "code",
   "execution_count": 18,
   "id": "f55181ef",
   "metadata": {},
   "outputs": [
    {
     "name": "stdout",
     "output_type": "stream",
     "text": [
      "grid_kfold_shuffle: best estimator: \n",
      " LogisticAT(alpha=10000)\n",
      "grid_kfold_shuffle: best cross-validation score:  -1.9114942528735632\n",
      "grid_kfold_shuffle: test set average accuracy:  0.1 \n",
      "\n"
     ]
    }
   ],
   "source": [
    "#Grid search with kfold cross validation (best cv for logreg multiclass classifcation)\n",
    "\n",
    "# KFold = KFold(n_splits=5) - code in previous section\n",
    "grid_kfold = GridSearchCV(ordinal_AT, param_grid, cv=KFold, n_jobs=-1)\n",
    "grid_kfold.fit(X_train_cv, y_train_cv)\n",
    "print ('grid_kfold_shuffle: best estimator: \\n', grid_kfold.best_estimator_)\n",
    "print ('grid_kfold_shuffle: best cross-validation score: ', grid_kfold.best_score_)\n",
    "print ('grid_kfold_shuffle: test set average accuracy: ', \n",
    "       accuracy_score(y_test_cv, grid_kfold.predict(X_test_cv)), '\\n')"
   ]
  },
  {
   "cell_type": "code",
   "execution_count": 19,
   "id": "05a28df9",
   "metadata": {},
   "outputs": [],
   "source": [
    "ordinal_AT = m.LogisticAT(alpha = 10000)"
   ]
  },
  {
   "cell_type": "code",
   "execution_count": 20,
   "id": "47f9f6c4",
   "metadata": {},
   "outputs": [
    {
     "name": "stdout",
     "output_type": "stream",
     "text": [
      "\n",
      " confusion matrix: \n",
      " [[0 3 1 3 1 0 0 0]\n",
      " [0 6 1 1 1 0 0 0]\n",
      " [0 4 0 1 4 3 0 0]\n",
      " [0 4 1 2 2 4 0 0]\n",
      " [0 1 0 0 5 2 0 0]\n",
      " [0 1 0 0 4 3 0 0]\n",
      " [0 0 0 0 3 1 0 0]\n",
      " [0 2 0 2 2 7 0 0]]\n"
     ]
    }
   ],
   "source": [
    "#copy and fit classifier with best parameters from previous section\n",
    "ordinal = ordinal_AT\n",
    "ordinal.fit(X_train_nodup, y_train_nodup)                 \n",
    "                 \n",
    "predict = ordinal.predict(X_test_nodup)\n",
    "\n",
    "#generate confusion matrix\n",
    "from sklearn.metrics import confusion_matrix\n",
    "confusion = confusion_matrix(y_test_nodup, predict)\n",
    "\n",
    "print ('\\n confusion matrix: \\n', confusion)"
   ]
  },
  {
   "cell_type": "code",
   "execution_count": 21,
   "id": "06a4c7ba",
   "metadata": {},
   "outputs": [
    {
     "data": {
      "image/png": "[encoded data removed]",
      "text/plain": [
       "<Figure size 432x288 with 1 Axes>"
      ]
     },
     "metadata": {
      "needs_background": "light"
     },
     "output_type": "display_data"
    }
   ],
   "source": [
    "#generate heatmap of confusion matrix for visualisation\n",
    "import mglearn\n",
    "\n",
    "target_names = y_train_nodup.unique().tolist()\n",
    "scores_image = mglearn.tools.heatmap(confusion, xlabel='predicted label',\n",
    "                                     ylabel='true label', xticklabels=target_names,\n",
    "                                     yticklabels=target_names, cmap=plt.cm.gray_r, fmt='%d')\n",
    "plt.title('confusion matrix')\n",
    "plt.gca().invert_yaxis()"
   ]
  },
  {
   "cell_type": "code",
   "execution_count": 22,
   "id": "1ee7bc20",
   "metadata": {},
   "outputs": [
    {
     "name": "stdout",
     "output_type": "stream",
     "text": [
      "              precision    recall  f1-score   support\n",
      "\n",
      "           1       1.00      0.00      0.00         8\n",
      "           2       0.29      0.67      0.40         9\n",
      "           3       0.00      0.00      0.00        12\n",
      "           4       0.22      0.15      0.18        13\n",
      "           5       0.23      0.62      0.33         8\n",
      "           6       0.15      0.38      0.21         8\n",
      "           7       1.00      0.00      0.00         4\n",
      "           8       1.00      0.00      0.00        13\n",
      "\n",
      "    accuracy                           0.21        75\n",
      "   macro avg       0.49      0.23      0.14        75\n",
      "weighted avg       0.45      0.21      0.14        75\n",
      "\n"
     ]
    }
   ],
   "source": [
    "#generate classification report\n",
    "from sklearn.metrics import classification_report\n",
    "\n",
    "print (classification_report(y_test_nodup, predict, zero_division=True))"
   ]
  },
  {
   "cell_type": "code",
   "execution_count": 23,
   "id": "660121c6",
   "metadata": {},
   "outputs": [],
   "source": [
    "# uses MIC_to_binary function defined in previous section"
   ]
  },
  {
   "cell_type": "code",
   "execution_count": 24,
   "id": "fee18004",
   "metadata": {},
   "outputs": [
    {
     "name": "stdout",
     "output_type": "stream",
     "text": [
      "Precision:  0.7254901960784313\n",
      "Sensitivity:  0.8043478260869565\n",
      "Specificity:  0.5172413793103449\n",
      "FPR : 0.48275862068965514\n",
      "very major error : inf\n",
      "major error:  112.5\n",
      "\n",
      " confusion matrix: \n",
      " [[15 14]\n",
      " [ 9 37]]\n"
     ]
    },
    {
     "name": "stderr",
     "output_type": "stream",
     "text": [
      "C:\\Users\\user\\AppData\\Local\\Temp/ipykernel_30004/4269136536.py:9: RuntimeWarning: divide by zero encountered in longlong_scalars\n",
      "  very_major_error = (confusion[0][1]/y_test_nodup[y_test_nodup==0].count())*100\n"
     ]
    }
   ],
   "source": [
    "#generate confusion matrix\n",
    "confusion = confusion_matrix(MIC_to_binary(y_test_nodup), MIC_to_binary(predict))\n",
    "\n",
    "#calculate precision, sensitivity, specificty, FPR, and errors\n",
    "Precision = (confusion[1][1])/(confusion[1][1]+confusion[0][1])\n",
    "Sensitivity = (confusion[1][1])/(confusion[1][1]+confusion[1][0])\n",
    "Specificity = (confusion[0][0])/(confusion[0][0]+confusion[0][1])\n",
    "FPR = 1-Specificity\n",
    "very_major_error = (confusion[0][1]/y_test_nodup[y_test_nodup==0].count())*100\n",
    "major_error = (confusion[1][0]/y_test_nodup[y_test_nodup==1].count())*100\n",
    "\n",
    "\n",
    "print ('Precision: ', Precision)\n",
    "print ('Sensitivity: ', Sensitivity)\n",
    "print ('Specificity: ', Specificity)\n",
    "print ('FPR :', FPR)\n",
    "print ('very major error :', very_major_error)\n",
    "print ('major error: ', major_error)\n",
    "print ('\\n confusion matrix: \\n', confusion)"
   ]
  },
  {
   "cell_type": "code",
   "execution_count": 25,
   "id": "2de89a05",
   "metadata": {},
   "outputs": [
    {
     "name": "stdout",
     "output_type": "stream",
     "text": [
      "              precision    recall  f1-score   support\n",
      "\n",
      "           0       0.62      0.52      0.57        29\n",
      "           1       0.73      0.80      0.76        46\n",
      "\n",
      "    accuracy                           0.69        75\n",
      "   macro avg       0.68      0.66      0.66        75\n",
      "weighted avg       0.69      0.69      0.69        75\n",
      "\n"
     ]
    }
   ],
   "source": [
    "print (classification_report(MIC_to_binary(y_test_nodup), MIC_to_binary(predict)))"
   ]
  },
  {
   "cell_type": "code",
   "execution_count": 26,
   "id": "77d16d2a",
   "metadata": {},
   "outputs": [],
   "source": [
    "# all threshold model gives a better accuracy score - but still worse than RForest binary"
   ]
  },
  {
   "cell_type": "code",
   "execution_count": null,
   "id": "d6807d8d",
   "metadata": {},
   "outputs": [],
   "source": []
  }
 ],
 "metadata": {
  "kernelspec": {
   "display_name": "Python 3 (ipykernel)",
   "language": "python",
   "name": "python3"
  },
  "language_info": {
   "codemirror_mode": {
    "name": "ipython",
    "version": 3
   },
   "file_extension": ".py",
   "mimetype": "text/x-python",
   "name": "python",
   "nbconvert_exporter": "python",
   "pygments_lexer": "ipython3",
   "version": "3.8.12"
  }
 },
 "nbformat": 4,
 "nbformat_minor": 5
}
