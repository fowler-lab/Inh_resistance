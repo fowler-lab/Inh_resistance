{
 "cells": [
  {
   "cell_type": "code",
   "execution_count": 1,
   "id": "81355ccb",
   "metadata": {},
   "outputs": [],
   "source": [
    "import pandas as pd\n",
    "import numpy as np\n",
    "import mord as m\n",
    "from mord import LogisticAT\n",
    "from sklearn.preprocessing import StandardScaler\n",
    "pd.options.display.max_columns = 999\n",
    "ML_data = pd.read_csv('ML_data.csv')\n",
    "from sklearn.tree import DecisionTreeClassifier\n",
    "from sklearn.pipeline import Pipeline\n",
    "from sklearn.model_selection import train_test_split, KFold, GridSearchCV\n",
    "from sklearn.metrics import accuracy_score, average_precision_score, roc_auc_score\n",
    "from matplotlib import pyplot as plt\n",
    "import seaborn as sns\n",
    "sns.set_theme()\n",
    "sns.set_palette(sns.color_palette('Set1'))"
   ]
  },
  {
   "cell_type": "markdown",
   "id": "07578f42",
   "metadata": {},
   "source": [
    "Indirect binary classification"
   ]
  },
  {
   "cell_type": "markdown",
   "id": "89b975d8",
   "metadata": {},
   "source": [
    "1. Seperate the dataframe into a features and label dataset\n",
    "2. Break datasets down into training and test sets containing only unique mutations\n",
    "3. Establish pipeline and parameter grid for model and grid search\n",
    "4. Grid search with shuffled k fold cross validation to find best preprocessing and parameters for ACCURACY\n",
    "5. Produce confusion matrix with best parameters for ACCURACY\n",
    "6. Convert predicted MIC to binary phenotype\n",
    "7. Produce binary confusion matrix with best parameters for ACCURACY"
   ]
  },
  {
   "cell_type": "markdown",
   "id": "ffefc8e8",
   "metadata": {},
   "source": [
    "1. Seperate the dataframe into a features and label dataset"
   ]
  },
  {
   "cell_type": "code",
   "execution_count": 2,
   "id": "f4651841",
   "metadata": {},
   "outputs": [],
   "source": [
    "MIC_ML_data = ML_data.dropna(subset = ['METHOD_MIC'])"
   ]
  },
  {
   "cell_type": "code",
   "execution_count": 3,
   "id": "58e1a3e4",
   "metadata": {},
   "outputs": [
    {
     "name": "stderr",
     "output_type": "stream",
     "text": [
      "C:\\Users\\user\\AppData\\Local\\Temp/ipykernel_26196/892947722.py:15: SettingWithCopyWarning: \n",
      "A value is trying to be set on a copy of a slice from a DataFrame.\n",
      "Try using .loc[row_indexer,col_indexer] = value instead\n",
      "\n",
      "See the caveats in the documentation: https://pandas.pydata.org/pandas-docs/stable/user_guide/indexing.html#returning-a-view-versus-a-copy\n",
      "  MIC_ML_data['MIC_values'] = MIC_strings\n"
     ]
    }
   ],
   "source": [
    "MIC_strings = []\n",
    "\n",
    "for i in MIC_ML_data['METHOD_MIC']:\n",
    "    if i == '3.2':\n",
    "        MIC_strings.append('>1.6')\n",
    "    elif i == '6.4':\n",
    "        MIC_strings.append('>1.6')\n",
    "    elif i == '12.8':\n",
    "        MIC_strings.append('>1.6')\n",
    "    elif i == '>12.8':\n",
    "        MIC_strings.append('>1.6')\n",
    "    else:\n",
    "        MIC_strings.append(i)\n",
    "        \n",
    "MIC_ML_data['MIC_values'] = MIC_strings"
   ]
  },
  {
   "cell_type": "code",
   "execution_count": 4,
   "id": "fe1d2871",
   "metadata": {},
   "outputs": [],
   "source": [
    "MIC_df = MIC_ML_data[['MIC_values','MUT_RESISTANCE','MUTATION','Site1_Distance','d_volume','d_MW',\t\\\n",
    "              'd_hydropathy', 'd_Pi', 'Depth','H','O','T','S','G','E',  \\\n",
    "              'B','I','Tempfactor','Hem_dist','Site2_dist','SNAP2_score']]\n",
    "\n",
    "# creates features numpy array\n",
    "MIC_features = MIC_df[MIC_df.columns[2:]].to_numpy()\n",
    "\n",
    "#creates resistance label column\n",
    "MIC_label = MIC_df['MIC_values'].to_numpy()"
   ]
  },
  {
   "cell_type": "markdown",
   "id": "d13d2edf",
   "metadata": {},
   "source": [
    "2. Break datasets down into training and test sets containing only unique mutations"
   ]
  },
  {
   "cell_type": "code",
   "execution_count": 5,
   "id": "0ce6bfa1",
   "metadata": {},
   "outputs": [],
   "source": [
    "#split data into training and test sets\n",
    "X_train, X_test, y_train, y_test = train_test_split(MIC_features, MIC_label,\n",
    "                                                    random_state=0)"
   ]
  },
  {
   "cell_type": "code",
   "execution_count": 6,
   "id": "0166230f",
   "metadata": {},
   "outputs": [],
   "source": [
    "# creates features and label dfs from unique mutations when the original train-test split \n",
    "# is inputted \n",
    "def remove_duplicate_mutations(X_dataset, y_dataset):\n",
    "\n",
    "    #converts long X_train and y_train to pd df to join\n",
    "    X_train_df = pd.DataFrame(X_dataset)\n",
    "    X_train_df.rename(columns = {0:'MUTATION'}, inplace = True)\n",
    "    y_train_df = pd.DataFrame(y_dataset)\n",
    "    y_train_df.rename(columns = {0:'MIC_VALUES'}, inplace = True)\n",
    "\n",
    "    CV_train = X_train_df.join(y_train_df,  how = 'inner')\n",
    "\n",
    "    #converts MIC_values to an integer so that the mean can be calculated for each mutation\n",
    "    #with multiple samples\n",
    "    MIC_integers = []\n",
    "\n",
    "    for i in CV_train['MIC_VALUES']:\n",
    "        if i == '<=0.025':\n",
    "            MIC_integers.append(1)\n",
    "        elif i == '0.05':\n",
    "            MIC_integers.append(2)\n",
    "        elif i == '0.1':\n",
    "            MIC_integers.append(3)\n",
    "        elif i == '0.2':\n",
    "            MIC_integers.append(4)\n",
    "        elif i == '0.4':\n",
    "            MIC_integers.append(5)\n",
    "        elif i == '0.8':\n",
    "            MIC_integers.append(6)\n",
    "        elif i == '1.6':\n",
    "            MIC_integers.append(7)\n",
    "        elif i == '>1.6':\n",
    "            MIC_integers.append(8)\n",
    "        \n",
    "    CV_train['MIC_integers'] = MIC_integers\n",
    "\n",
    "    #calculates the mean MIC value using the integer scale for each mutation\n",
    "    MIC_calc_df = CV_train[['MUTATION','MIC_integers']].groupby('MUTATION').mean()\n",
    "    \n",
    "    #rounds the mean MIC value to the nearest integer for conversion back to the \n",
    "    #original MIC classes\n",
    "    MIC_rounded = []\n",
    "    for i in MIC_calc_df['MIC_integers']:\n",
    "        rnd = round(i)\n",
    "        MIC_rounded.append(rnd)\n",
    "    MIC_calc_df['MIC_rounded'] = MIC_rounded\n",
    "\n",
    "    # joins new MIC classes to CV_train df to replace the variation in MIC values associated\n",
    "    # with mutations with multiple DST_measurements \n",
    "    MIC_calc_df.drop(['MIC_integers'], axis =1, inplace = True)\n",
    "    CV_train.set_index('MUTATION', inplace = True)\n",
    "    CV_train = CV_train.join(MIC_calc_df)\n",
    "    CV_train.reset_index(inplace = True)\n",
    "    CV_train.drop(['MIC_VALUES','MIC_integers'], axis = 1, inplace = True)\n",
    "    CV_train.rename(columns = {'index':'MUTATION','MIC_rounded':'MIC_VALUES'}, inplace = True)\n",
    "    \n",
    "    #removes duplicates and mutation column\n",
    "    CV_train_unique = CV_train.drop_duplicates(subset='MUTATION', keep = 'first')\n",
    "    CV_train_unique.drop(['MUTATION'], axis = 1, inplace = True)\n",
    "\n",
    "    #seperates into unique features and label numpy arrays\n",
    "    features_unique = CV_train_unique[CV_train_unique.columns[:-1]].to_numpy()\n",
    "    label_unique = CV_train_unique['MIC_VALUES']\n",
    "\n",
    "    X_no_duplicates = (features_unique)\n",
    "    y_no_duplicates = (label_unique)\n",
    "    \n",
    "    return (X_no_duplicates, y_no_duplicates)"
   ]
  },
  {
   "cell_type": "code",
   "execution_count": 7,
   "id": "af7b58df",
   "metadata": {},
   "outputs": [
    {
     "name": "stderr",
     "output_type": "stream",
     "text": [
      "C:\\Users\\user\\anaconda3\\lib\\site-packages\\pandas\\core\\frame.py:4906: SettingWithCopyWarning: \n",
      "A value is trying to be set on a copy of a slice from a DataFrame\n",
      "\n",
      "See the caveats in the documentation: https://pandas.pydata.org/pandas-docs/stable/user_guide/indexing.html#returning-a-view-versus-a-copy\n",
      "  return super().drop(\n"
     ]
    }
   ],
   "source": [
    "X_train_nodup, y_train_nodup = remove_duplicate_mutations(X_train, y_train)\n",
    "X_test_nodup, y_test_nodup = remove_duplicate_mutations(X_test, y_test)"
   ]
  },
  {
   "cell_type": "code",
   "execution_count": 8,
   "id": "e9af42da",
   "metadata": {},
   "outputs": [],
   "source": [
    "#split data into training and test sets\n",
    "X_train_cv, X_test_cv, y_train_cv, y_test_cv = train_test_split(X_train_nodup, y_train_nodup,\n",
    "                                                    random_state=0, test_size=0.2\n",
    "                                                               )"
   ]
  },
  {
   "cell_type": "markdown",
   "id": "d46af45b",
   "metadata": {},
   "source": [
    "3. Establish pipeline and parameter grid for model and grid search"
   ]
  },
  {
   "cell_type": "code",
   "execution_count": 9,
   "id": "ee6cf1f3",
   "metadata": {},
   "outputs": [],
   "source": [
    "ordinal_IT = m.LogisticIT()\n",
    "ordinal_AT = m.LogisticAT()\n",
    "\n",
    "param_grid = {'alpha':[0.001,0.01,0.1,1,10,100,1000,10000]}"
   ]
  },
  {
   "cell_type": "markdown",
   "id": "93dd8d7e",
   "metadata": {},
   "source": [
    "Continue for Intermediate threshold model (All threshold after)"
   ]
  },
  {
   "cell_type": "markdown",
   "id": "8512e5b1",
   "metadata": {},
   "source": [
    "4. Grid search with shuffled k fold cross validation to find best preprocessing and parameters for ACCURACY"
   ]
  },
  {
   "cell_type": "code",
   "execution_count": 10,
   "id": "f38d5055",
   "metadata": {},
   "outputs": [
    {
     "name": "stdout",
     "output_type": "stream",
     "text": [
      "grid_kfold_shuffle: best estimator: \n",
      " LogisticIT(alpha=1000)\n",
      "grid_kfold_shuffle: best cross-validation score:  0.3058467741935484\n",
      "grid_kfold_shuffle: test set average accuracy:  0.35 \n",
      "\n"
     ]
    }
   ],
   "source": [
    "#Grid search with shuffled kfold cross validation\n",
    "Kfold_shuffle=KFold(n_splits=5, shuffle=True, random_state=0)\n",
    "grid_kfold = GridSearchCV(ordinal_IT, param_grid, cv=Kfold_shuffle, n_jobs=-1)\n",
    "grid_kfold.fit(X_train_cv, y_train_cv)\n",
    "print ('grid_kfold_shuffle: best estimator: \\n', grid_kfold.best_estimator_)\n",
    "print ('grid_kfold_shuffle: best cross-validation score: ', grid_kfold.best_score_)\n",
    "print ('grid_kfold_shuffle: test set average accuracy: ', \n",
    "       accuracy_score(y_test_cv, grid_kfold.predict(X_test_cv)), '\\n')"
   ]
  },
  {
   "cell_type": "code",
   "execution_count": 11,
   "id": "03b727dc",
   "metadata": {},
   "outputs": [],
   "source": [
    "ordinal_IT = m.LogisticIT(alpha = 1000)"
   ]
  },
  {
   "cell_type": "markdown",
   "id": "a8dcb3b7",
   "metadata": {},
   "source": [
    "5. Produce confusion matrix with best parameters for ACCURACY"
   ]
  },
  {
   "cell_type": "code",
   "execution_count": 12,
   "id": "c03990d6",
   "metadata": {},
   "outputs": [
    {
     "name": "stdout",
     "output_type": "stream",
     "text": [
      "\n",
      " confusion matrix: \n",
      " [[2 5 0 0 0 0 0 1]\n",
      " [6 3 0 0 0 0 0 0]\n",
      " [1 6 0 0 0 0 0 5]\n",
      " [0 7 0 0 0 0 0 6]\n",
      " [0 3 0 0 0 0 0 5]\n",
      " [0 2 0 0 0 0 0 6]\n",
      " [0 0 0 0 0 0 0 4]\n",
      " [0 4 0 0 0 0 0 9]]\n"
     ]
    }
   ],
   "source": [
    "#copy and fit classifier with best parameters from previous section\n",
    "ordinal = ordinal_IT\n",
    "ordinal.fit(X_train_cv, y_train_cv)                 \n",
    "                 \n",
    "predict = ordinal.predict(X_test_nodup)\n",
    "\n",
    "#generate confusion matrix\n",
    "from sklearn.metrics import confusion_matrix\n",
    "ints = [1,2,3,4,5,6,7,8]\n",
    "confusion = confusion_matrix(y_test_nodup, predict, labels = ints)\n",
    "\n",
    "print ('\\n confusion matrix: \\n', confusion)"
   ]
  },
  {
   "cell_type": "code",
   "execution_count": 13,
   "id": "68ece973",
   "metadata": {},
   "outputs": [
    {
     "data": {
      "image/png": "[encoded data removed]",
      "text/plain": [
       "<Figure size 432x288 with 1 Axes>"
      ]
     },
     "metadata": {},
     "output_type": "display_data"
    }
   ],
   "source": [
    "#generate heatmap of confusion matrix for visualisation\n",
    "import mglearn\n",
    "\n",
    "target_names = ints.copy()\n",
    "scores_image = mglearn.tools.heatmap(confusion, xlabel='predicted label',\n",
    "                                     ylabel='true label', xticklabels=target_names,\n",
    "                                     yticklabels=target_names, cmap=plt.cm.gray_r, fmt='%d')\n",
    "plt.title('confusion matrix')\n",
    "plt.gca().invert_yaxis()"
   ]
  },
  {
   "cell_type": "code",
   "execution_count": 14,
   "id": "50a7592a",
   "metadata": {
    "scrolled": true
   },
   "outputs": [
    {
     "name": "stdout",
     "output_type": "stream",
     "text": [
      "              precision    recall  f1-score   support\n",
      "\n",
      "           1       0.22      0.25      0.24         8\n",
      "           2       0.10      0.33      0.15         9\n",
      "           3       1.00      0.00      0.00        12\n",
      "           4       1.00      0.00      0.00        13\n",
      "           5       1.00      0.00      0.00         8\n",
      "           6       1.00      0.00      0.00         8\n",
      "           7       1.00      0.00      0.00         4\n",
      "           8       0.25      0.69      0.37        13\n",
      "\n",
      "    accuracy                           0.19        75\n",
      "   macro avg       0.70      0.16      0.09        75\n",
      "weighted avg       0.68      0.19      0.11        75\n",
      "\n"
     ]
    }
   ],
   "source": [
    "#generate classification report\n",
    "from sklearn.metrics import classification_report\n",
    "\n",
    "print (classification_report(y_test_nodup, predict, zero_division=True))"
   ]
  },
  {
   "cell_type": "markdown",
   "id": "c929ca08",
   "metadata": {},
   "source": [
    "6. Convert predicted MIC to binary phenotype"
   ]
  },
  {
   "cell_type": "code",
   "execution_count": 15,
   "id": "7198c48d",
   "metadata": {},
   "outputs": [],
   "source": [
    "# will categorise multiclass data into 2 groups\n",
    "def MIC_to_binary(data):\n",
    "    RS_dict = {0:[4,5,6,7,8],\n",
    "           1:[1,2,3]}\n",
    "    binary_list = []\n",
    "    for i in data:\n",
    "        for k,v in RS_dict.items():\n",
    "            for j in v:\n",
    "                if i == j:\n",
    "                    binary_list.append(k)\n",
    "\n",
    "    binary_array = np.array(binary_list)\n",
    "    return binary_array"
   ]
  },
  {
   "cell_type": "markdown",
   "id": "127a91b6",
   "metadata": {},
   "source": [
    "7. Produce binary confusion matrix with best parameters for ACCURACY"
   ]
  },
  {
   "cell_type": "code",
   "execution_count": 16,
   "id": "191be82e",
   "metadata": {},
   "outputs": [
    {
     "name": "stdout",
     "output_type": "stream",
     "text": [
      "Precision:  0.5897435897435898\n",
      "Sensitivity:  0.7931034482758621\n",
      "Specificity:  0.6521739130434783\n",
      "FPR : 0.34782608695652173\n",
      "very major error : 34.78260869565217\n",
      "major error:  20.689655172413794\n",
      "\n",
      " confusion matrix: \n",
      " [[30 16]\n",
      " [ 6 23]]\n"
     ]
    },
    {
     "data": {
      "image/png": "[encoded data removed]",
      "text/plain": [
       "<Figure size 648x648 with 1 Axes>"
      ]
     },
     "metadata": {},
     "output_type": "display_data"
    }
   ],
   "source": [
    "#generate confusion matrix\n",
    "from sklearn import metrics\n",
    "confusion = confusion_matrix(MIC_to_binary(y_test_nodup), MIC_to_binary(predict))\n",
    "cm = metrics.confusion_matrix(MIC_to_binary(y_test_nodup), MIC_to_binary(predict))\n",
    "\n",
    "#calculate precision, sensitivity, specificty, FPR, and errors\n",
    "Precision = (confusion[1][1])/(confusion[1][1]+confusion[0][1])\n",
    "Sensitivity = (confusion[1][1])/(confusion[1][1]+confusion[1][0])\n",
    "Specificity = (confusion[0][0])/(confusion[0][0]+confusion[0][1])\n",
    "FPR = 1-Specificity\n",
    "very_major_error = (confusion[0][1]/len(MIC_to_binary(y_test_nodup)[MIC_to_binary(y_test_nodup)==0]))*100\n",
    "major_error = (confusion[1][0]/len(MIC_to_binary(y_test_nodup)[MIC_to_binary(y_test_nodup)==1]))*100\n",
    "\n",
    "\n",
    "print ('Precision: ', Precision)\n",
    "print ('Sensitivity: ', Sensitivity)\n",
    "print ('Specificity: ', Specificity)\n",
    "print ('FPR :', FPR)\n",
    "print ('very major error :', very_major_error)\n",
    "print ('major error: ', major_error)\n",
    "print ('\\n confusion matrix: \\n', confusion)\n",
    "\n",
    "group_names = ['True Resistant','Very major error','Major error','True Susceptible']\n",
    "group_counts = ['{0:0.0f}'.format(value) for value in\n",
    "                cm.flatten()]\n",
    "group_percentages = ['{0:.2%}'.format(value) for value in\n",
    "                     cm.flatten()/np.sum(cm)]\n",
    "labels = [f'{v1}\\n{v2}\\n{v3}' for v1, v2, v3 in\n",
    "          zip(group_names,group_counts,group_percentages)]\n",
    "labels = np.asarray(labels).reshape(2,2)\n",
    "plt.figure(figsize=(9,9))\n",
    "sns.heatmap(cm, annot=labels, fmt='', linewidths=.5, square = True, cmap = 'Blues_r', cbar=False);\n",
    "plt.ylabel('Actual label');\n",
    "plt.xlabel('Predicted label');\n",
    "plt.title('Logistic Regression - Indirect Binary Classification');\n",
    "\n",
    "#completes list of model quality values for model comparison\n",
    "IT_multiclass_VME = very_major_error\n",
    "IT_multiclass_ME = major_error"
   ]
  },
  {
   "cell_type": "code",
   "execution_count": 17,
   "id": "3b34b3d7",
   "metadata": {},
   "outputs": [
    {
     "name": "stdout",
     "output_type": "stream",
     "text": [
      "              precision    recall  f1-score   support\n",
      "\n",
      "           0       0.83      0.65      0.73        46\n",
      "           1       0.59      0.79      0.68        29\n",
      "\n",
      "    accuracy                           0.71        75\n",
      "   macro avg       0.71      0.72      0.70        75\n",
      "weighted avg       0.74      0.71      0.71        75\n",
      "\n"
     ]
    }
   ],
   "source": [
    "print (classification_report(MIC_to_binary(y_test_nodup), MIC_to_binary(predict)))"
   ]
  },
  {
   "cell_type": "code",
   "execution_count": null,
   "id": "0fcb4eed",
   "metadata": {},
   "outputs": [],
   "source": []
  },
  {
   "cell_type": "markdown",
   "id": "2c72aea0",
   "metadata": {},
   "source": [
    "Continue for All threshold model"
   ]
  },
  {
   "cell_type": "markdown",
   "id": "dfb31f09",
   "metadata": {},
   "source": [
    "4. Grid search with shuffled k fold cross validation to find best preprocessing and parameters for ACCURACY"
   ]
  },
  {
   "cell_type": "code",
   "execution_count": 18,
   "id": "511580d9",
   "metadata": {},
   "outputs": [
    {
     "name": "stdout",
     "output_type": "stream",
     "text": [
      "grid_kfold_shuffle: best estimator: \n",
      " LogisticAT(alpha=10000)\n",
      "grid_kfold_shuffle: best cross-validation score:  -1.8995967741935484\n",
      "grid_kfold_shuffle: test set average accuracy:  0.175 \n",
      "\n"
     ]
    }
   ],
   "source": [
    "#Grid search with kfold cross validation (best cv for logreg multiclass classifcation)\n",
    "\n",
    "Kfold_shuffle=KFold(n_splits=5, shuffle=True, random_state=0)\n",
    "grid_kfold = GridSearchCV(ordinal_AT, param_grid, cv=Kfold_shuffle, n_jobs=-1)\n",
    "grid_kfold.fit(X_train_cv, y_train_cv)\n",
    "print ('grid_kfold_shuffle: best estimator: \\n', grid_kfold.best_estimator_)\n",
    "print ('grid_kfold_shuffle: best cross-validation score: ', grid_kfold.best_score_)\n",
    "print ('grid_kfold_shuffle: test set average accuracy: ', \n",
    "       accuracy_score(y_test_cv, grid_kfold.predict(X_test_cv)), '\\n')"
   ]
  },
  {
   "cell_type": "code",
   "execution_count": 19,
   "id": "1d46e6a5",
   "metadata": {},
   "outputs": [],
   "source": [
    "ordinal_AT = m.LogisticAT(alpha = 10000)"
   ]
  },
  {
   "cell_type": "markdown",
   "id": "ac31dd74",
   "metadata": {},
   "source": [
    "5. Produce confusion matrix with best parameters for ACCURACY"
   ]
  },
  {
   "cell_type": "code",
   "execution_count": 20,
   "id": "2eb367a3",
   "metadata": {},
   "outputs": [
    {
     "name": "stdout",
     "output_type": "stream",
     "text": [
      "\n",
      " confusion matrix: \n",
      " [[0 3 3 1 1 0 0 0]\n",
      " [1 5 1 2 0 0 0 0]\n",
      " [0 4 0 2 2 4 0 0]\n",
      " [0 2 3 1 2 5 0 0]\n",
      " [0 1 0 0 3 4 0 0]\n",
      " [0 1 0 0 3 4 0 0]\n",
      " [0 0 0 0 2 1 1 0]\n",
      " [0 0 0 4 3 5 1 0]]\n"
     ]
    }
   ],
   "source": [
    "#copy and fit classifier with best parameters from previous section\n",
    "ordinal = ordinal_AT\n",
    "ordinal.fit(X_train_nodup, y_train_nodup)                 \n",
    "                 \n",
    "predict = ordinal.predict(X_test_nodup)\n",
    "\n",
    "#generate confusion matrix\n",
    "from sklearn.metrics import confusion_matrix\n",
    "ints = [1,2,3,4,5,6,7,8]\n",
    "confusion = confusion_matrix(y_test_nodup, predict, labels = ints)\n",
    "\n",
    "print ('\\n confusion matrix: \\n', confusion)"
   ]
  },
  {
   "cell_type": "code",
   "execution_count": 21,
   "id": "30d566c6",
   "metadata": {},
   "outputs": [
    {
     "data": {
      "image/png": "[encoded data removed]",
      "text/plain": [
       "<Figure size 432x288 with 1 Axes>"
      ]
     },
     "metadata": {},
     "output_type": "display_data"
    }
   ],
   "source": [
    "#generate heatmap of confusion matrix for visualisation\n",
    "import mglearn\n",
    "\n",
    "target_names = ints.copy()\n",
    "scores_image = mglearn.tools.heatmap(confusion, xlabel='predicted label',\n",
    "                                     ylabel='true label', xticklabels=target_names,\n",
    "                                     yticklabels=target_names, cmap=plt.cm.gray_r, fmt='%d')\n",
    "plt.title('confusion matrix')\n",
    "plt.gca().invert_yaxis()"
   ]
  },
  {
   "cell_type": "code",
   "execution_count": 22,
   "id": "a9fea7bc",
   "metadata": {},
   "outputs": [
    {
     "name": "stdout",
     "output_type": "stream",
     "text": [
      "              precision    recall  f1-score   support\n",
      "\n",
      "           1       0.00      0.00      0.00         8\n",
      "           2       0.31      0.56      0.40         9\n",
      "           3       0.00      0.00      0.00        12\n",
      "           4       0.10      0.08      0.09        13\n",
      "           5       0.19      0.38      0.25         8\n",
      "           6       0.17      0.50      0.26         8\n",
      "           7       0.50      0.25      0.33         4\n",
      "           8       1.00      0.00      0.00        13\n",
      "\n",
      "    accuracy                           0.19        75\n",
      "   macro avg       0.28      0.22      0.17        75\n",
      "weighted avg       0.29      0.19      0.14        75\n",
      "\n"
     ]
    }
   ],
   "source": [
    "#generate classification report\n",
    "from sklearn.metrics import classification_report\n",
    "\n",
    "print (classification_report(y_test_nodup, predict, zero_division=True))"
   ]
  },
  {
   "cell_type": "markdown",
   "id": "a37897a6",
   "metadata": {},
   "source": [
    "6. Convert predicted MIC to binary phenotype"
   ]
  },
  {
   "cell_type": "code",
   "execution_count": 23,
   "id": "0eaebe60",
   "metadata": {},
   "outputs": [],
   "source": [
    "# uses MIC_to_binary function defined in previous section"
   ]
  },
  {
   "cell_type": "markdown",
   "id": "4fdd54d4",
   "metadata": {},
   "source": [
    "7. Produce binary confusion matrix with best parameters for ACCURACY"
   ]
  },
  {
   "cell_type": "code",
   "execution_count": 24,
   "id": "2863badc",
   "metadata": {},
   "outputs": [
    {
     "name": "stdout",
     "output_type": "stream",
     "text": [
      "Precision:  0.7083333333333334\n",
      "Sensitivity:  0.5862068965517241\n",
      "Specificity:  0.8478260869565217\n",
      "FPR : 0.15217391304347827\n",
      "very major error : 15.217391304347828\n",
      "major error:  41.37931034482759\n",
      "\n",
      " confusion matrix: \n",
      " [[39  7]\n",
      " [12 17]]\n"
     ]
    },
    {
     "data": {
      "image/png": "[encoded data removed]",
      "text/plain": [
       "<Figure size 648x648 with 1 Axes>"
      ]
     },
     "metadata": {},
     "output_type": "display_data"
    }
   ],
   "source": [
    "#generate confusion matrix\n",
    "confusion = confusion_matrix(MIC_to_binary(y_test_nodup), MIC_to_binary(predict))\n",
    "cm = metrics.confusion_matrix(MIC_to_binary(y_test_nodup), MIC_to_binary(predict))\n",
    "\n",
    "#calculate precision, sensitivity, specificty, FPR, and errors\n",
    "Precision = (confusion[1][1])/(confusion[1][1]+confusion[0][1])\n",
    "Sensitivity = (confusion[1][1])/(confusion[1][1]+confusion[1][0])\n",
    "Specificity = (confusion[0][0])/(confusion[0][0]+confusion[0][1])\n",
    "FPR = 1-Specificity\n",
    "very_major_error = (confusion[0][1]/len(MIC_to_binary(y_test_nodup)[MIC_to_binary(y_test_nodup)==0]))*100\n",
    "major_error = (confusion[1][0]/len(MIC_to_binary(y_test_nodup)[MIC_to_binary(y_test_nodup)==1]))*100\n",
    "\n",
    "\n",
    "print ('Precision: ', Precision)\n",
    "print ('Sensitivity: ', Sensitivity)\n",
    "print ('Specificity: ', Specificity)\n",
    "print ('FPR :', FPR)\n",
    "print ('very major error :', very_major_error)\n",
    "print ('major error: ', major_error)\n",
    "print ('\\n confusion matrix: \\n', confusion)\n",
    "\n",
    "group_names = ['True Resistant','Very major error','Major error','True Susceptible']\n",
    "group_counts = ['{0:0.0f}'.format(value) for value in\n",
    "                cm.flatten()]\n",
    "group_percentages = ['{0:.2%}'.format(value) for value in\n",
    "                     cm.flatten()/np.sum(cm)]\n",
    "labels = [f'{v1}\\n{v2}\\n{v3}' for v1, v2, v3 in\n",
    "          zip(group_names,group_counts,group_percentages)]\n",
    "labels = np.asarray(labels).reshape(2,2)\n",
    "\n",
    "plt.figure(figsize=(9,9))\n",
    "sns.heatmap(cm, annot=labels, fmt='', linewidths=.5, square = True, cmap = 'Blues_r', cbar=False);\n",
    "plt.ylabel('Actual label');\n",
    "plt.xlabel('Predicted label');\n",
    "plt.title('Logistic Regression - Indirect Binary Classification');\n",
    "\n",
    "#completes list of model quality values for model comparison\n",
    "AT_multiclass_VME = very_major_error\n",
    "AT_multiclass_ME = major_error\n",
    "\n",
    "ORD_quality = [IT_multiclass_VME,IT_multiclass_ME,AT_multiclass_VME,AT_multiclass_ME]\n",
    "\n",
    "ORD_quality_df = pd.DataFrame({'ORD_quality':ORD_quality})\n",
    "ORD_quality_df.to_csv('ORD_quality.csv')"
   ]
  },
  {
   "cell_type": "code",
   "execution_count": 25,
   "id": "a3c4a661",
   "metadata": {},
   "outputs": [
    {
     "name": "stdout",
     "output_type": "stream",
     "text": [
      "              precision    recall  f1-score   support\n",
      "\n",
      "           0       0.76      0.85      0.80        46\n",
      "           1       0.71      0.59      0.64        29\n",
      "\n",
      "    accuracy                           0.75        75\n",
      "   macro avg       0.74      0.72      0.72        75\n",
      "weighted avg       0.74      0.75      0.74        75\n",
      "\n"
     ]
    }
   ],
   "source": [
    "print (classification_report(MIC_to_binary(y_test_nodup), MIC_to_binary(predict)))"
   ]
  },
  {
   "cell_type": "code",
   "execution_count": 26,
   "id": "655a8fb9",
   "metadata": {},
   "outputs": [],
   "source": [
    "# all threshold model gives a better accuracy score - but still worse than RForest binary"
   ]
  },
  {
   "cell_type": "code",
   "execution_count": null,
   "id": "c70b70f4",
   "metadata": {},
   "outputs": [],
   "source": []
  },
  {
   "cell_type": "code",
   "execution_count": null,
   "id": "0ef8e82b",
   "metadata": {},
   "outputs": [],
   "source": []
  }
 ],
 "metadata": {
  "kernelspec": {
   "display_name": "Python 3 (ipykernel)",
   "language": "python",
   "name": "python3"
  },
  "language_info": {
   "codemirror_mode": {
    "name": "ipython",
    "version": 3
   },
   "file_extension": ".py",
   "mimetype": "text/x-python",
   "name": "python",
   "nbconvert_exporter": "python",
   "pygments_lexer": "ipython3",
   "version": "3.8.12"
  }
 },
 "nbformat": 4,
 "nbformat_minor": 5
}
